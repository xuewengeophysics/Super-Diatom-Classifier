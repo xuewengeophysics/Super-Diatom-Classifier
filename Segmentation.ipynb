{
 "cells": [
  {
   "cell_type": "code",
   "execution_count": 13,
   "metadata": {},
   "outputs": [],
   "source": [
    "import cv2 as cv\n",
    "import numpy as np\n",
    "# import matplotlib.pyplot as plt\n",
    "# from matplotlib.pyplot import figure"
   ]
  },
  {
   "cell_type": "code",
   "execution_count": 14,
   "metadata": {},
   "outputs": [],
   "source": [
    "def showImg(img, scale=1):\n",
    "    cv.namedWindow('image',cv.WINDOW_NORMAL)\n",
    "    cv.resizeWindow('image', scale*img.shape[1], scale*img.shape[0])\n",
    "    cv.imshow('image',img)\n",
    "    k = cv.waitKey(0)\n",
    "    print(\"DEBUG: waitKey returned:\", chr(k))\n",
    "    cv.destroyAllWindows()"
   ]
  },
  {
   "cell_type": "code",
   "execution_count": 16,
   "metadata": {},
   "outputs": [
    {
     "name": "stdout",
     "output_type": "stream",
     "text": [
      "(2048, 2048)\n",
      "DEBUG: waitKey returned: d\n"
     ]
    }
   ],
   "source": [
    "img = cv.imread('sample01.tiff',0)\n",
    "print(img.shape)\n",
    "showImg(img)"
   ]
  },
  {
   "cell_type": "code",
   "execution_count": 17,
   "metadata": {},
   "outputs": [
    {
     "name": "stdout",
     "output_type": "stream",
     "text": [
      "DEBUG: waitKey returned: c\n"
     ]
    }
   ],
   "source": [
    "blur_size = 10\n",
    "img_blur = cv.blur(img, (blur_size,blur_size))\n",
    "showImg(img_blur)"
   ]
  },
  {
   "cell_type": "code",
   "execution_count": 18,
   "metadata": {},
   "outputs": [
    {
     "name": "stdout",
     "output_type": "stream",
     "text": [
      "DEBUG: waitKey returned: c\n"
     ]
    }
   ],
   "source": [
    "kernel_size = 30\n",
    "kernel = np.ones((kernel_size,kernel_size),np.uint8)\n",
    "# kernel=cv.getstructuringelement\n",
    "img_opening = cv.morphologyEx(img_blur, cv.MORPH_OPEN, kernel)\n",
    "showImg(img_opening)"
   ]
  },
  {
   "cell_type": "code",
   "execution_count": 19,
   "metadata": {},
   "outputs": [
    {
     "name": "stdout",
     "output_type": "stream",
     "text": [
      "DEBUG: waitKey returned: d\n"
     ]
    }
   ],
   "source": [
    "sigma = 1\n",
    "v = np.median(img_opening)\n",
    "lower = int(max(0, (1.0 - sigma) * v))\n",
    "upper = int(min(255, (1.0 + sigma) * v))\n",
    "\n",
    "img_edges = cv.Canny(img_opening, 20, 30)\n",
    "showImg(img_edges)"
   ]
  },
  {
   "cell_type": "code",
   "execution_count": 20,
   "metadata": {},
   "outputs": [
    {
     "name": "stdout",
     "output_type": "stream",
     "text": [
      "DEBUG: waitKey returned: c\n"
     ]
    }
   ],
   "source": [
    "ret, img_thresh = cv.threshold(img_opening,0,255,cv.THRESH_BINARY_INV+cv.THRESH_OTSU) #voir le | à la place du +\n",
    "showImg(img_thresh)"
   ]
  },
  {
   "cell_type": "code",
   "execution_count": null,
   "metadata": {},
   "outputs": [],
   "source": [
    "kernel_size = 100\n",
    "kernel = np.ones((kernel_size,kernel_size),np.uint8)\n",
    "img_closed = cv.morphologyEx(img_thresh, cv.MORPH_CLOSE, kernel)\n",
    "showImg(img_closed)"
   ]
  },
  {
   "cell_type": "code",
   "execution_count": null,
   "metadata": {},
   "outputs": [],
   "source": [
    "# open cv -> find contours\n",
    "# open cv -> find moments (of connex parts)"
   ]
  }
 ],
 "metadata": {
  "kernelspec": {
   "display_name": "Python 3",
   "language": "python",
   "name": "python3"
  },
  "language_info": {
   "codemirror_mode": {
    "name": "ipython",
    "version": 3
   },
   "file_extension": ".py",
   "mimetype": "text/x-python",
   "name": "python",
   "nbconvert_exporter": "python",
   "pygments_lexer": "ipython3",
   "version": "3.7.3"
  }
 },
 "nbformat": 4,
 "nbformat_minor": 4
}
