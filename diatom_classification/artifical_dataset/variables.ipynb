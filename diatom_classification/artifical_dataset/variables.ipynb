{
 "cells": [
  {
   "cell_type": "code",
   "execution_count": 2,
   "metadata": {},
   "outputs": [],
   "source": [
    "#ROOT = \"/mnt/balrog/pfauregi\"\n",
    "ROOT = \"/mnt/nvme-storage/pfauregi\"\n",
    "DATASET_PATH = [ROOT+\"/datasets/atlas/ra\", ROOT+\"/datasets/atlas/idf\"]\n",
    "DATASET_DUST_PATH = [ROOT+\"/datasets/dust01\"]\n",
    "SAVE_PATH = ROOT+\"/artificial_datasets/dataset03\"\n",
    "#SAVE_PATH = ROOT+\"/rw/dataset03\"\n",
    "N_IMAGES = 20000"
   ]
  },
  {
   "cell_type": "code",
   "execution_count": null,
   "metadata": {},
   "outputs": [],
   "source": []
  }
 ],
 "metadata": {
  "kernelspec": {
   "display_name": "Python 3",
   "language": "python",
   "name": "python3"
  },
  "language_info": {
   "codemirror_mode": {
    "name": "ipython",
    "version": 3
   },
   "file_extension": ".py",
   "mimetype": "text/x-python",
   "name": "python",
   "nbconvert_exporter": "python",
   "pygments_lexer": "ipython3",
   "version": "3.5.2"
  }
 },
 "nbformat": 4,
 "nbformat_minor": 4
}
