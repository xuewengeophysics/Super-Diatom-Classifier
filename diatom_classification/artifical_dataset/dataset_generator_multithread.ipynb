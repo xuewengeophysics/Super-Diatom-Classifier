{
 "cells": [
  {
   "cell_type": "code",
   "execution_count": 1,
   "metadata": {},
   "outputs": [],
   "source": [
    "from os import listdir\n",
    "from os.path import isfile, join\n",
    "import pickle\n",
    "from IPython.display import clear_output\n",
    "import PIL.Image\n",
    "import multiprocessing\n",
    "\n",
    "%run ./generator.ipynb\n",
    "%run ./variables.ipynb\n",
    "%run ./utils.ipynb"
   ]
  },
  {
   "cell_type": "code",
   "execution_count": 2,
   "metadata": {},
   "outputs": [],
   "source": [
    "def save_maps():\n",
    "    images = []\n",
    "    for path in DATASET_PATH:\n",
    "        images.extend([f for f in listdir(path) if isfile(join(path, f))])\n",
    "\n",
    "    tmp_code = {}\n",
    "    i = 1\n",
    "    for file in images:\n",
    "        taxon = file.split('_')[1]\n",
    "        if not (taxon in tmp_code):\n",
    "            tmp_code[taxon] = i\n",
    "            i+=1\n",
    "\n",
    "    savePickle(tmp_code, SAVE_PATH+\"/maps/multiclass_label_map.pickle\")\n",
    "    binary_tmp_code = {}\n",
    "    binary_tmp_code[\"diatom\"] = 1\n",
    "    savePickle(binary_tmp_code, SAVE_PATH+\"/maps/binary_label_map.pickle\")\n",
    "    print(\"Binary and multiclass label maps saved successfully !\")"
   ]
  },
  {
   "cell_type": "code",
   "execution_count": 3,
   "metadata": {},
   "outputs": [],
   "source": [
    "def worker(lock, n_id, wnumber, verbose):\n",
    "    print(\"Worker \", wnumber, \" ok!\")\n",
    "    random.seed()\n",
    "    lock.acquire()\n",
    "    wid = n_id.value\n",
    "    if verbose:\n",
    "        clear_output(wait=True)\n",
    "        print(\"Worker \", wnumber, \": \", (wid+1),\"/\", N_IMAGES)\n",
    "    n_id.value += 1\n",
    "    lock.release()\n",
    "    while(wid<=N_IMAGES):\n",
    "        string_id = '{:05d}'.format(wid)\n",
    "        final_img, annotations = main_generator(simple_angles=False, size_px=1000, fast=True, verbose=False, overlapping=True)\n",
    "        path_img = \"images/\"+string_id+\".png\"\n",
    "        saveImg(final_img, join(SAVE_PATH, path_img));\n",
    "\n",
    "        ## Saving individual masks\n",
    "        taxon_n = {}\n",
    "        paths = []\n",
    "        for annotation in annotations:\n",
    "            taxon = annotation[\"taxon\"]\n",
    "            if taxon in taxon_n:\n",
    "                taxon_n[taxon] += 1\n",
    "            else:\n",
    "                taxon_n[taxon] = 0\n",
    "            path_mask = \"masks/\"+string_id+\"_\"+taxon+\"_\"+'{:03d}'.format(taxon_n[taxon])+\".png\"\n",
    "            # Saving mask\n",
    "            img = PIL.Image.fromarray(annotation[\"patch_mask\"])\n",
    "            annotation.pop(\"patch_mask\")\n",
    "            #output = io.BytesIO()\n",
    "            check_dirs(join(SAVE_PATH, path_mask))\n",
    "            img.save(join(SAVE_PATH, path_mask), format='PNG')\n",
    "            annotation[\"mask_path\"] = path_mask\n",
    "        \n",
    "        # Building and saving final_annotation\n",
    "        full_annotations = {}\n",
    "        full_annotations[\"img_path\"] = path_img\n",
    "        full_annotations[\"labels\"] = annotations\n",
    "        savePickle(full_annotations, SAVE_PATH+\"/annotations/bb_\"+string_id+\".pickle\")\n",
    "        \n",
    "        # Incrementing id\n",
    "        lock.acquire()\n",
    "        wid = n_id.value\n",
    "        if verbose:\n",
    "            clear_output(wait=True)\n",
    "            print(\"Worker \", wnumber, \": \", (wid+1), \"/\", N_IMAGES)\n",
    "        n_id.value += 1\n",
    "        lock.release()\n",
    "    return 0"
   ]
  },
  {
   "cell_type": "code",
   "execution_count": 4,
   "metadata": {},
   "outputs": [
    {
     "name": "stdout",
     "output_type": "stream",
     "text": [
      "Worker  6 :  682 / 20000\n"
     ]
    }
   ],
   "source": [
    "# MAIN\n",
    "jobs = []\n",
    "n_process = 7\n",
    "n_id = multiprocessing.Value('i', 0)\n",
    "lock = multiprocessing.Lock()\n",
    "verbose = True\n",
    "save_maps()\n",
    "print(\"Generating\", N_IMAGES, \"images with \", n_process, \" workers !\")\n",
    "for i in range(n_process):\n",
    "    p = multiprocessing.Process(target=worker, args=(lock, n_id, i, verbose,))\n",
    "    jobs.append(p)\n",
    "    p.start()"
   ]
  },
  {
   "cell_type": "code",
   "execution_count": null,
   "metadata": {},
   "outputs": [],
   "source": []
  }
 ],
 "metadata": {
  "kernelspec": {
   "display_name": "Python 3",
   "language": "python",
   "name": "python3"
  },
  "language_info": {
   "codemirror_mode": {
    "name": "ipython",
    "version": 3
   },
   "file_extension": ".py",
   "mimetype": "text/x-python",
   "name": "python",
   "nbconvert_exporter": "python",
   "pygments_lexer": "ipython3",
   "version": "3.5.2"
  }
 },
 "nbformat": 4,
 "nbformat_minor": 4
}
