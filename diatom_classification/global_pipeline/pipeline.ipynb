{
 "cells": [
  {
   "cell_type": "code",
   "execution_count": 1,
   "metadata": {},
   "outputs": [],
   "source": [
    "import tensorflow as tf\n",
    "import os\n",
    "import numpy as np\n",
    "from PIL import Image\n",
    "import cv2\n",
    "from IPython.display import display\n",
    "import time\n",
    "\n",
    "#from object_detection.utils import label_map_util\n",
    "#from object_detection.utils import visualization_utils as vis_util\n",
    "tf.gfile = tf.io.gfile\n",
    "\n",
    "from tensorflow.keras.models import model_from_json\n",
    "\n",
    "%run ../utils/object_detection_utils.ipynb\n",
    "%run ../utils/image_utils.ipynb\n",
    "%run ../utils/data_utils.ipynb\n",
    "\n",
    "ROOT = \"/mnt/balrog/pfauregi\""
   ]
  },
  {
   "cell_type": "markdown",
   "metadata": {},
   "source": [
    "# Detection"
   ]
  },
  {
   "cell_type": "code",
   "execution_count": 2,
   "metadata": {},
   "outputs": [],
   "source": [
    "detection_model_path = os.path.join(ROOT,\"training/obj_detection/ws_bd/models/model/export/saved_model/\")\n",
    "labels_path = os.path.join(ROOT,\"artificial_datasets/dataset01_tfr/binary_label_map.pbtxt\")"
   ]
  },
  {
   "cell_type": "code",
   "execution_count": 3,
   "metadata": {},
   "outputs": [],
   "source": [
    "def run_detection(model_path, sample):\n",
    "    start = time.time()\n",
    "    model = tf.saved_model.load(model_path)\n",
    "    model = model.signatures['serving_default']\n",
    "    detection_results = run_inference_for_single_image(model, sample)\n",
    "    print(\"Detection processed in\", time.time()-start, \"s!\")\n",
    "    return detection_results\n",
    "\n",
    "def get_thumbails_batch(sample, detection, score_thresold=0.5, verbose=False):\n",
    "    thumbails = {}\n",
    "    thumbails[\"batch\"] = []\n",
    "    thumbails[\"bounding_box\"] = []\n",
    "    thumbails[\"score\"] = []\n",
    "    image_detections = sample.copy()\n",
    "    height, width, channels = image_detections.shape\n",
    "    for box, score in zip(detection['detection_boxes'], detection['detection_scores']):\n",
    "        if score>score_thresold:\n",
    "            ymin, xmin, ymax, xmax = int(box[0]*height), int(box[1]*width), int(box[2]*height), int(box[3]*width)\n",
    "            if verbose: image_detections = cv2.rectangle(image_detections, (xmin, ymin), (xmax, ymax), (255, 0, 0), 4)\n",
    "            thumbail = sample[ymin:ymax, xmin:xmax, :]\n",
    "            thumbail = convert_to_square(thumbail, new_size=256)\n",
    "            thumbails[\"batch\"].append(thumbail)\n",
    "            thumbails[\"bounding_box\"].append([ymin, xmin, ymax, xmax])\n",
    "            thumbails[\"score\"].append(score)\n",
    "    thumbails[\"batch\"] = np.array(thumbails[\"batch\"]).astype('float32')/255\n",
    "    if verbose: \n",
    "        display(Image.fromarray(image_detections).resize((int(0.2*width), int(0.2*height))))\n",
    "        display(Image.fromarray((thumbails[\"batch\"][2]*255).astype('uint8')))\n",
    "        thumbails[\"batch\"][1].shape[0]\n",
    "    return thumbails"
   ]
  },
  {
   "cell_type": "markdown",
   "metadata": {},
   "source": [
    "# Classification"
   ]
  },
  {
   "cell_type": "code",
   "execution_count": 4,
   "metadata": {},
   "outputs": [],
   "source": [
    "class_root = \"/home/pfauregi/Super-Diatom-Classifier/diatom_classification/thumbnail_classification/saved_models/\"\n",
    "class_model_path = os.path.join(class_root, \"model.json\")\n",
    "class_model_weights = os.path.join(class_root, \"model.h5\")\n",
    "\n",
    "inv_id_map = {v: k for k, v in get_selected_taxons('../../selected_taxons.txt').items()} "
   ]
  },
  {
   "cell_type": "code",
   "execution_count": 5,
   "metadata": {},
   "outputs": [],
   "source": [
    "def run_classification(class_model_path, class_model_weights, thumbails_batch):\n",
    "    json_file = open(class_model_path, 'r')\n",
    "    loaded_model_json = json_file.read()\n",
    "    json_file.close()\n",
    "    loaded_model = model_from_json(loaded_model_json)\n",
    "    # load weights into new model\n",
    "    loaded_model.load_weights(class_model_weights)\n",
    "    loaded_model.compile(loss='categorical_crossentropy', optimizer='rmsprop', metrics=['accuracy'])\n",
    "    out = loaded_model.predict(thumbails_batch, batch_size=thumbails_batch.shape[0], use_multiprocessing=True)\n",
    "    return out\n",
    "\n",
    "def draw_classif(sample, thumbails, image_scale = 0.4, text_scale = 1):\n",
    "    image_detections = sample.copy()\n",
    "    for bb, label, score in zip(thumbails[\"bounding_box\"], thumbails[\"labels\"], thumbails[\"score\"]):\n",
    "        if np.max(label)>=0.4:\n",
    "            if np.max(label) < 0.4:\n",
    "                label_text = \"not sure\"\n",
    "            else:\n",
    "                label_text = inv_id_map[np.argmax(label)]\n",
    "\n",
    "            color = (255, 0, 0)\n",
    "            font = cv2.FONT_HERSHEY_SIMPLEX\n",
    "            ymin, xmin, ymax, xmax = bb\n",
    "            cv2.rectangle(image_detections, (xmin, ymin), (xmax, ymax), color, 4)\n",
    "            cv2.putText(image_detections,  label_text, (xmin, ymin+80), font, text_scale*3, color, 4, cv2.LINE_AA) \n",
    "            cv2.putText(image_detections,  \"Detect: \"+str(score), (xmin+5, ymin+120), font, text_scale*1, color, 2, cv2.LINE_AA) \n",
    "            cv2.putText(image_detections,  \"Classif: \"+str(np.max(label)), (xmin+5, ymin+160), font, text_scale*1, color, 2, cv2.LINE_AA) \n",
    "    height, width, channels = image_detections.shape\n",
    "    display(Image.fromarray(image_detections).resize((int(image_scale*width), int(image_scale*height))))\n",
    "    return image_detections"
   ]
  },
  {
   "cell_type": "markdown",
   "metadata": {},
   "source": [
    "# Full pipeline"
   ]
  },
  {
   "cell_type": "code",
   "execution_count": 6,
   "metadata": {},
   "outputs": [],
   "source": [
    "path = os.path.join(ROOT,\"datasets/micro_samples/\")\n",
    "#path = \"/mnt/nvme-storage/pfauregi/artificial_datasets/dataset03/images\"\n",
    "onlyfiles = [f for f in os.listdir(path) if os.path.isfile(os.path.join(path, f))]"
   ]
  },
  {
   "cell_type": "code",
   "execution_count": 7,
   "metadata": {},
   "outputs": [
    {
     "name": "stdout",
     "output_type": "stream",
     "text": [
      "INFO:tensorflow:Saver not created because there are no variables in the graph to restore\n",
      "Detection processed in 11.513460636138916 s!\n"
     ]
    },
    {
     "ename": "FileNotFoundError",
     "evalue": "[Errno 2] No such file or directory: '/home/pfauregi/Super-Diatomee-Classifier/diatom_classification/thumbnail_classification/saved_models/model.json'",
     "output_type": "error",
     "traceback": [
      "\u001b[0;31m---------------------------------------------------------------------------\u001b[0m",
      "\u001b[0;31mFileNotFoundError\u001b[0m                         Traceback (most recent call last)",
      "\u001b[0;32m<ipython-input-7-6eb0eea20a02>\u001b[0m in \u001b[0;36m<module>\u001b[0;34m\u001b[0m\n\u001b[1;32m      7\u001b[0m \u001b[0;34m\u001b[0m\u001b[0m\n\u001b[1;32m      8\u001b[0m \u001b[0;31m# Classification\u001b[0m\u001b[0;34m\u001b[0m\u001b[0;34m\u001b[0m\u001b[0;34m\u001b[0m\u001b[0m\n\u001b[0;32m----> 9\u001b[0;31m \u001b[0mthumbails\u001b[0m\u001b[0;34m[\u001b[0m\u001b[0;34m\"labels\"\u001b[0m\u001b[0;34m]\u001b[0m \u001b[0;34m=\u001b[0m \u001b[0mrun_classification\u001b[0m\u001b[0;34m(\u001b[0m\u001b[0mclass_model_path\u001b[0m\u001b[0;34m,\u001b[0m \u001b[0mclass_model_weights\u001b[0m\u001b[0;34m,\u001b[0m \u001b[0mthumbails\u001b[0m\u001b[0;34m[\u001b[0m\u001b[0;34m\"batch\"\u001b[0m\u001b[0;34m]\u001b[0m\u001b[0;34m)\u001b[0m\u001b[0;34m\u001b[0m\u001b[0;34m\u001b[0m\u001b[0m\n\u001b[0m\u001b[1;32m     10\u001b[0m \u001b[0mfinal_image\u001b[0m \u001b[0;34m=\u001b[0m \u001b[0mdraw_classif\u001b[0m\u001b[0;34m(\u001b[0m\u001b[0msample\u001b[0m\u001b[0;34m,\u001b[0m \u001b[0mthumbails\u001b[0m\u001b[0;34m,\u001b[0m \u001b[0mimage_scale\u001b[0m\u001b[0;34m=\u001b[0m\u001b[0;36m0.8\u001b[0m\u001b[0;34m,\u001b[0m \u001b[0mtext_scale\u001b[0m\u001b[0;34m=\u001b[0m\u001b[0;36m0.5\u001b[0m\u001b[0;34m)\u001b[0m\u001b[0;34m\u001b[0m\u001b[0;34m\u001b[0m\u001b[0m\n",
      "\u001b[0;32m<ipython-input-5-6805057a5e2d>\u001b[0m in \u001b[0;36mrun_classification\u001b[0;34m(class_model_path, class_model_weights, thumbails_batch)\u001b[0m\n\u001b[1;32m      1\u001b[0m \u001b[0;32mdef\u001b[0m \u001b[0mrun_classification\u001b[0m\u001b[0;34m(\u001b[0m\u001b[0mclass_model_path\u001b[0m\u001b[0;34m,\u001b[0m \u001b[0mclass_model_weights\u001b[0m\u001b[0;34m,\u001b[0m \u001b[0mthumbails_batch\u001b[0m\u001b[0;34m)\u001b[0m\u001b[0;34m:\u001b[0m\u001b[0;34m\u001b[0m\u001b[0;34m\u001b[0m\u001b[0m\n\u001b[0;32m----> 2\u001b[0;31m     \u001b[0mjson_file\u001b[0m \u001b[0;34m=\u001b[0m \u001b[0mopen\u001b[0m\u001b[0;34m(\u001b[0m\u001b[0mclass_model_path\u001b[0m\u001b[0;34m,\u001b[0m \u001b[0;34m'r'\u001b[0m\u001b[0;34m)\u001b[0m\u001b[0;34m\u001b[0m\u001b[0;34m\u001b[0m\u001b[0m\n\u001b[0m\u001b[1;32m      3\u001b[0m     \u001b[0mloaded_model_json\u001b[0m \u001b[0;34m=\u001b[0m \u001b[0mjson_file\u001b[0m\u001b[0;34m.\u001b[0m\u001b[0mread\u001b[0m\u001b[0;34m(\u001b[0m\u001b[0;34m)\u001b[0m\u001b[0;34m\u001b[0m\u001b[0;34m\u001b[0m\u001b[0m\n\u001b[1;32m      4\u001b[0m     \u001b[0mjson_file\u001b[0m\u001b[0;34m.\u001b[0m\u001b[0mclose\u001b[0m\u001b[0;34m(\u001b[0m\u001b[0;34m)\u001b[0m\u001b[0;34m\u001b[0m\u001b[0;34m\u001b[0m\u001b[0m\n\u001b[1;32m      5\u001b[0m     \u001b[0mloaded_model\u001b[0m \u001b[0;34m=\u001b[0m \u001b[0mmodel_from_json\u001b[0m\u001b[0;34m(\u001b[0m\u001b[0mloaded_model_json\u001b[0m\u001b[0;34m)\u001b[0m\u001b[0;34m\u001b[0m\u001b[0;34m\u001b[0m\u001b[0m\n",
      "\u001b[0;31mFileNotFoundError\u001b[0m: [Errno 2] No such file or directory: '/home/pfauregi/Super-Diatomee-Classifier/diatom_classification/thumbnail_classification/saved_models/model.json'"
     ]
    }
   ],
   "source": [
    "sample = load_image(os.path.join(path, onlyfiles[3]))\n",
    "#display(Image.fromarray(sample))\n",
    "\n",
    "# Detection\n",
    "detection_results = run_detection(detection_model_path, sample)\n",
    "thumbails = get_thumbails_batch(sample, detection_results, score_thresold=0.99, verbose=False)\n",
    "\n",
    "# Classification\n",
    "thumbails[\"labels\"] = run_classification(class_model_path, class_model_weights, thumbails[\"batch\"])\n",
    "final_image = draw_classif(sample, thumbails, image_scale=0.8, text_scale=0.5)"
   ]
  },
  {
   "cell_type": "code",
   "execution_count": null,
   "metadata": {},
   "outputs": [],
   "source": [
    "cv2.imwrite(\"./test.png\", final_image)"
   ]
  },
  {
   "cell_type": "code",
   "execution_count": null,
   "metadata": {},
   "outputs": [],
   "source": [
    "np_img = (thumbails[\"batch\"][5]*255).astype('uint8')\n",
    "display(Image.fromarray(np_img))\n",
    "cv2.imwrite(\"./test.png\", np_img)"
   ]
  },
  {
   "cell_type": "code",
   "execution_count": null,
   "metadata": {},
   "outputs": [],
   "source": [
    "# List of the strings that is used to add correct label for each box.\n",
    "PATH_TO_LABELS = '/mnt/nvme-storage/pfauregi/artificial_datasets/dataset03_tfr/multiclass_label_map.pbtxt'\n",
    "category_index = label_map_util.create_category_index_from_labelmap(PATH_TO_LABELS, use_display_name=True)\n",
    "img_inf = draw_inference(detection_results, sample, 30, min_thresold=0.5)\n",
    "display(Image.fromarray(img_inf))"
   ]
  },
  {
   "cell_type": "code",
   "execution_count": null,
   "metadata": {},
   "outputs": [],
   "source": [
    "cv2.imwrite(\"./test.png\", img_inf)"
   ]
  },
  {
   "cell_type": "code",
   "execution_count": null,
   "metadata": {},
   "outputs": [],
   "source": []
  }
 ],
 "metadata": {
  "kernelspec": {
   "display_name": "Python 3",
   "language": "python",
   "name": "python3"
  },
  "language_info": {
   "codemirror_mode": {
    "name": "ipython",
    "version": 3
   },
   "file_extension": ".py",
   "mimetype": "text/x-python",
   "name": "python",
   "nbconvert_exporter": "python",
   "pygments_lexer": "ipython3",
   "version": "3.6.8"
  }
 },
 "nbformat": 4,
 "nbformat_minor": 4
}
