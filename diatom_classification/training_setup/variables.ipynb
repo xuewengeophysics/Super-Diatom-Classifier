{
 "cells": [
  {
   "cell_type": "code",
   "execution_count": null,
   "metadata": {},
   "outputs": [],
   "source": [
    "# Dataset\n",
    "DATA = \"/mnt/nvme-storage/pfauregi/artificial_datasets/dataset03\"\n",
    "IMAGES_FOLDER = \"images\"\n",
    "ANNOTATIONS_FOLDER = \"annotations\"\n",
    "MAPS_FOLDER = \"maps\"\n",
    "MASK_FOLDER = \"masks\"\n",
    "# Conversion\n",
    "OUPUT_PATH = \"/mnt/nvme-storage/pfauregi/artificial_datasets/dataset03_tfr\"\n",
    "TRAIN_OUTPUT_FILE = \"train_dataset.record\"\n",
    "TEST_OUTPUT_FILE = \"test_dataset.record\"\n",
    "IMG_TYPE = \"png\"\n",
    "PERCENTAGE_TRAIN = 0.9"
   ]
  },
  {
   "cell_type": "code",
   "execution_count": null,
   "metadata": {},
   "outputs": [],
   "source": []
  }
 ],
 "metadata": {
  "kernelspec": {
   "display_name": "Python 3",
   "language": "python",
   "name": "python3"
  },
  "language_info": {
   "codemirror_mode": {
    "name": "ipython",
    "version": 3
   },
   "file_extension": ".py",
   "mimetype": "text/x-python",
   "name": "python",
   "nbconvert_exporter": "python",
   "pygments_lexer": "ipython3",
   "version": "3.5.2"
  }
 },
 "nbformat": 4,
 "nbformat_minor": 4
}
