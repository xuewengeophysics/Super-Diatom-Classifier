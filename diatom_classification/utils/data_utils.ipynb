{
 "cells": [
  {
   "cell_type": "code",
   "execution_count": 1,
   "metadata": {},
   "outputs": [],
   "source": [
    "def check_dirs(filename):\n",
    "    if not os.path.exists(os.path.dirname(filename)):\n",
    "        try:\n",
    "            os.makedirs(os.path.dirname(filename))\n",
    "        except OSError as exc: # Guard against race condition\n",
    "            if exc.errno != errno.EEXIST:\n",
    "                raise\n",
    "    \n",
    "def get_selected_taxons(file_path, inv=False):\n",
    "    selected_taxons = {}\n",
    "    f = open(file_path, 'r') \n",
    "    lines = f.readlines() \n",
    "    del lines[0]\n",
    "    for line in lines:\n",
    "        line = line.strip()\n",
    "        taxon, taxon_id = line.split(',')[0], int(line.split(',')[1])\n",
    "        selected_taxons[taxon] = taxon_id\n",
    "    if inv:\n",
    "        return {v: k for k, v in selected_taxons.items()} \n",
    "    else:\n",
    "        return selected_taxons\n",
    "    \n",
    "def delete_all_files_in_folder(folder):\n",
    "    for filename in os.listdir(folder):\n",
    "        file_path = os.path.join(folder, filename)\n",
    "        try:\n",
    "            if os.path.isfile(file_path) or os.path.islink(file_path):\n",
    "                os.unlink(file_path)\n",
    "            elif os.path.isdir(file_path):\n",
    "                shutil.rmtree(file_path)\n",
    "        except Exception as e:\n",
    "            print('Failed to delete %s. Reason: %s' % (file_path, e))"
   ]
  }
 ],
 "metadata": {
  "kernelspec": {
   "display_name": "Python 3",
   "language": "python",
   "name": "python3"
  },
  "language_info": {
   "codemirror_mode": {
    "name": "ipython",
    "version": 3
   },
   "file_extension": ".py",
   "mimetype": "text/x-python",
   "name": "python",
   "nbconvert_exporter": "python",
   "pygments_lexer": "ipython3",
   "version": "3.6.9"
  }
 },
 "nbformat": 4,
 "nbformat_minor": 4
}
