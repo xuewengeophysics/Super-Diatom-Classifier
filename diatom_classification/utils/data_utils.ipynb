{
 "cells": [
  {
   "cell_type": "code",
   "execution_count": null,
   "metadata": {},
   "outputs": [],
   "source": [
    "def check_dirs(filename):\n",
    "    if not os.path.exists(os.path.dirname(filename)):\n",
    "        try:\n",
    "            os.makedirs(os.path.dirname(filename))\n",
    "        except OSError as exc: # Guard against race condition\n",
    "            if exc.errno != errno.EEXIST:\n",
    "                raise\n",
    "    \n",
    "def get_selected_taxons(file_path):\n",
    "    selected_taxons = {}\n",
    "    f = open(file_path, 'r') \n",
    "    lines = f.readlines() \n",
    "    del lines[0]\n",
    "    for line in lines:\n",
    "        line = line.strip()\n",
    "        taxon, taxon_id = line.split(',')[0], int(line.split(',')[1])\n",
    "        selected_taxons[taxon] = taxon_id\n",
    "    return selected_taxons"
   ]
  }
 ],
 "metadata": {
  "kernelspec": {
   "display_name": "Python 3",
   "language": "python",
   "name": "python3"
  },
  "language_info": {
   "codemirror_mode": {
    "name": "ipython",
    "version": 3
   },
   "file_extension": ".py",
   "mimetype": "text/x-python",
   "name": "python",
   "nbconvert_exporter": "python",
   "pygments_lexer": "ipython3",
   "version": "3.5.2"
  }
 },
 "nbformat": 4,
 "nbformat_minor": 4
}
