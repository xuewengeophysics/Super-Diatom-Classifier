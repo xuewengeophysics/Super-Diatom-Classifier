{
 "cells": [
  {
   "cell_type": "code",
   "execution_count": 3,
   "metadata": {},
   "outputs": [],
   "source": [
    "def convert_to_square(image, new_size=None):\n",
    "    if len(image.shape)!=2:\n",
    "        image = image[:, :, 0]\n",
    "    square_size = np.max(image.shape)\n",
    "    h, w = image.shape[0], image.shape[1]\n",
    "    delta_w, delta_h = square_size - w, square_size - h\n",
    "    left, top = delta_w//2, delta_h//2    \n",
    "    blur_size = int(np.max(image.shape)/4)*2+1\n",
    "    blured_image=cv2.GaussianBlur(image,(blur_size,blur_size),0)\n",
    "    square_image_blurred = cv2.copyMakeBorder(blured_image, top+1, delta_h-top+1, left+1, delta_w-left+1, cv2.BORDER_REPLICATE)\n",
    "    square_image = square_image_blurred.copy()\n",
    "    square_image[top+1:top+h+1, left+1:left+w+1] = image.copy()\n",
    "    \n",
    "    # Finding contours\n",
    "    mask_ref=np.zeros_like(square_image).astype(\"uint8\")\n",
    "    mask_ref[top+1:top+h+1, left+1:left+w+1] = 255\n",
    "    conts = cv2.findContours(mask_ref, cv2.RETR_EXTERNAL, cv2.CHAIN_APPROX_SIMPLE)[0]\n",
    "    \n",
    "    # Blurring borders\n",
    "    mask = np.zeros_like(square_image)\n",
    "    mask = cv2.drawContours(mask, conts, -1, 1, 5).astype(\"float\")\n",
    "    mask = cv2.GaussianBlur(mask,(7,7),0)\n",
    "    square_image=mask*square_image_blurred+(1-mask)*square_image\n",
    "    if not new_size is None:\n",
    "        square_image = cv2.resize(square_image, dsize=(new_size, new_size), interpolation=cv2.INTER_CUBIC)\n",
    "    return square_image"
   ]
  },
  {
   "cell_type": "code",
   "execution_count": null,
   "metadata": {},
   "outputs": [],
   "source": []
  }
 ],
 "metadata": {
  "kernelspec": {
   "display_name": "Python 3",
   "language": "python",
   "name": "python3"
  },
  "language_info": {
   "codemirror_mode": {
    "name": "ipython",
    "version": 3
   },
   "file_extension": ".py",
   "mimetype": "text/x-python",
   "name": "python",
   "nbconvert_exporter": "python",
   "pygments_lexer": "ipython3",
   "version": "3.6.8"
  }
 },
 "nbformat": 4,
 "nbformat_minor": 4
}
