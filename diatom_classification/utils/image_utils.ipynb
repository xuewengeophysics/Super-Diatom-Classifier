{
 "cells": [
  {
   "cell_type": "code",
   "execution_count": 3,
   "metadata": {},
   "outputs": [],
   "source": [
    "def convert_to_square(image, new_size=None):\n",
    "    if len(image.shape)!=2:\n",
    "        image = image[:, :, 0]\n",
    "    square_size = np.max(image.shape)\n",
    "    h, w = image.shape[0], image.shape[1]\n",
    "    delta_w, delta_h = square_size - w, square_size - h\n",
    "    left, top = delta_w//2, delta_h//2\n",
    "    square_image = np.median(image)*np.ones((h+delta_h, w+delta_w))\n",
    "    \n",
    "    \n",
    "    square_image[top:top+h, left:left+w] = image.copy()\n",
    "    \n",
    "    # Blurring borders\n",
    "    kernel_size = 5\n",
    "    kernel = np.ones((kernel_size,kernel_size),np.float32)/(kernel_size*kernel_size)\n",
    "    square_image_blured = cv2.filter2D(square_image,-1,kernel)\n",
    "    mask = np.zeros_like(square_image)\n",
    "    padding = 2\n",
    "    val = 1\n",
    "    if top==0:\n",
    "        mask[0:h, left-padding:left+padding] = val\n",
    "        mask[0:h, left+w-padding:left+w+padding] = val\n",
    "    else:\n",
    "        mask[top-padding:top+padding, 0:w] = val\n",
    "        mask[top+h-padding:top+h+padding, 0:w] = val\n",
    "    square_image[mask==1]=square_image_blured[mask==1]\n",
    "    \n",
    "    if not new_size is None:\n",
    "        square_image = cv2.resize(square_image, dsize=(new_size, new_size), interpolation=cv2.INTER_CUBIC)\n",
    "    return square_image"
   ]
  },
  {
   "cell_type": "code",
   "execution_count": null,
   "metadata": {},
   "outputs": [],
   "source": []
  }
 ],
 "metadata": {
  "kernelspec": {
   "display_name": "Python 3",
   "language": "python",
   "name": "python3"
  },
  "language_info": {
   "codemirror_mode": {
    "name": "ipython",
    "version": 3
   },
   "file_extension": ".py",
   "mimetype": "text/x-python",
   "name": "python",
   "nbconvert_exporter": "python",
   "pygments_lexer": "ipython3",
   "version": "3.5.2"
  }
 },
 "nbformat": 4,
 "nbformat_minor": 4
}
