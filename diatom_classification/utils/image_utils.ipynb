{
 "cells": [
  {
   "cell_type": "code",
   "execution_count": null,
   "metadata": {},
   "outputs": [],
   "source": [
    "import math"
   ]
  },
  {
   "cell_type": "code",
   "execution_count": null,
   "metadata": {},
   "outputs": [],
   "source": [
    "def convert_to_square(image, new_size=None, padding = 1):\n",
    "    #kernel = np.ones((3, 3), np.uint8)\n",
    "    #image_b = cv2.dilate(image, kernel, iterations = 2)\n",
    "    crop=1\n",
    "    image=image[crop:-crop, crop:-crop]\n",
    "    # Preprocessing\n",
    "    if not new_size is None:\n",
    "        ratio = new_size/np.max(image.shape)\n",
    "        image = cv2.resize(image, \n",
    "                           dsize=(math.floor(ratio*image.shape[1])-2*padding, math.floor(ratio*image.shape[0])-2*padding), \n",
    "                           interpolation=cv2.INTER_LINEAR)\n",
    "\n",
    "    # Converting to square\n",
    "    square_size = np.max(image.shape)\n",
    "    h, w = image.shape[0], image.shape[1]\n",
    "    delta_w, delta_h = square_size - w, square_size - h\n",
    "    left, top = delta_w//2, delta_h//2    \n",
    "    blur_size = int(np.max(image.shape)/4)*2+1\n",
    "    blured_image=cv2.GaussianBlur(image,(blur_size,blur_size),0)\n",
    "    square_image_blurred = cv2.copyMakeBorder(blured_image, top+padding, delta_h-top+padding, left+padding, delta_w-left+padding, cv2.BORDER_REPLICATE)\n",
    "    square_image = square_image_blurred.copy()\n",
    "    square_image[top+padding:top+h+padding, left+padding:left+w+padding] = image.copy()\n",
    "\n",
    "    # Seamless cloning\n",
    "    height=square_image_blurred.shape[0]\n",
    "    width=square_image_blurred.shape[1]\n",
    "    mask_ref=np.zeros_like(square_image).astype(\"uint8\")\n",
    "    mask_ref[top+1:top+h+1, left+1:left+w+1] = 255\n",
    "    center = (height//2, width//2)\n",
    "    src = expand(square_image)\n",
    "    dst = expand(square_image_blurred)\n",
    "    final_image = cv2.seamlessClone(src, dst, mask_ref, center, cv2.NORMAL_CLONE)\n",
    "\n",
    "    if not new_size is None: \n",
    "            final_image = cv2.resize(final_image, \n",
    "                       dsize=(new_size, new_size), \n",
    "                       interpolation=cv2.INTER_CUBIC)\n",
    "    return final_image\n",
    "\n",
    "def expand(image):\n",
    "    if image.ndim==2:\n",
    "         image = np.repeat(image[:, :, np.newaxis], 3, axis=2)\n",
    "    return image"
   ]
  },
  {
   "cell_type": "code",
   "execution_count": null,
   "metadata": {},
   "outputs": [],
   "source": []
  }
 ],
 "metadata": {
  "kernelspec": {
   "display_name": "Python 3",
   "language": "python",
   "name": "python3"
  },
  "language_info": {
   "codemirror_mode": {
    "name": "ipython",
    "version": 3
   },
   "file_extension": ".py",
   "mimetype": "text/x-python",
   "name": "python",
   "nbconvert_exporter": "python",
   "pygments_lexer": "ipython3",
   "version": "3.6.9"
  }
 },
 "nbformat": 4,
 "nbformat_minor": 4
}
