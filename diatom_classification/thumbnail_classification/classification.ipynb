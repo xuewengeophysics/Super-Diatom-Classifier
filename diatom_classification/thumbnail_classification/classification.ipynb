{
 "cells": [
  {
   "cell_type": "code",
   "execution_count": 68,
   "metadata": {},
   "outputs": [],
   "source": [
    "from os import listdir, walk\n",
    "from os.path import isfile, join\n",
    "import numpy as np\n",
    "from PIL import Image\n",
    "import time\n",
    "import cv2\n",
    "from sys import getsizeof\n",
    "from IPython.display import display\n",
    "import random\n",
    "\n",
    "from tensorflow.keras.applications.xception import Xception\n",
    "from tensorflow.keras.layers import Input\n",
    "from tensorflow.keras.utils import Sequence\n",
    "\n",
    "%run ./variables.ipynb"
   ]
  },
  {
   "cell_type": "markdown",
   "metadata": {},
   "source": [
    "# Handle data"
   ]
  },
  {
   "cell_type": "code",
   "execution_count": 58,
   "metadata": {},
   "outputs": [],
   "source": [
    "# using Keras sequence\n",
    "class DiatomSequence(Sequence):\n",
    "    def __init__(self, x_set, y_set, batch_size):\n",
    "        self.x, self.y = x_set, y_set\n",
    "        self.batch_size = batch_size\n",
    "\n",
    "    def __len__(self):\n",
    "        return math.ceil(len(self.x) / self.batch_size)\n",
    "\n",
    "    def __getitem__(self, idx):\n",
    "        batch_x = self.x[idx * self.batch_size:(idx + 1) * self.batch_size]\n",
    "        batch_y = self.y[idx * self.batch_size:(idx + 1) * self.batch_size]\n",
    "        return np.array([cv2.imread(img_path) for file_name in batch_x]), np.array(batch_y)"
   ]
  },
  {
   "cell_type": "code",
   "execution_count": 78,
   "metadata": {},
   "outputs": [
    {
     "data": {
      "text/plain": [
       "'184/185'"
      ]
     },
     "metadata": {},
     "output_type": "display_data"
    },
    {
     "name": "stdout",
     "output_type": "stream",
     "text": [
      "Job finished in  0.5605039596557617 s!\n"
     ]
    }
   ],
   "source": [
    "start_time = time.time()\n",
    "x_set = []\n",
    "y_set = []\n",
    "taxons_dirs = next(walk(DATASET_PATH))[1]\n",
    "n_taxons = len(taxons_dirs)\n",
    "disp_progress = display(\"0/\"+str(n_taxons),display_id=True)\n",
    "for i, taxon in enumerate(taxons_dirs):\n",
    "    path = join(DATASET_PATH, taxon)\n",
    "    files = [f for f in listdir(path) if isfile(join(path, f))]\n",
    "    for file in files:\n",
    "        x_set.append(join(path, file))\n",
    "        y_set.append(taxon)\n",
    "    disp_progress.update(str(i)+\"/\"+str(n_taxons))\n",
    "# Shuffling\n",
    "xy = list(zip(x_set, y_set))\n",
    "random.shuffle(xy)\n",
    "x_set, y_set = zip(*xy)\n",
    "print(\"Job finished in \", (time.time()-start_time), \"s!\")"
   ]
  },
  {
   "cell_type": "code",
   "execution_count": 79,
   "metadata": {},
   "outputs": [],
   "source": [
    "dataset = DiatomSequence(x_set, y_set, 50)"
   ]
  },
  {
   "cell_type": "markdown",
   "metadata": {},
   "source": [
    "# Model"
   ]
  },
  {
   "cell_type": "code",
   "execution_count": 10,
   "metadata": {},
   "outputs": [],
   "source": [
    "base_model = Xception(include_top=False, weights='imagenet', input_shape=(256, 256, 3), pooling=None, classes=185)"
   ]
  },
  {
   "cell_type": "code",
   "execution_count": null,
   "metadata": {},
   "outputs": [],
   "source": []
  }
 ],
 "metadata": {
  "kernelspec": {
   "display_name": "Python 3",
   "language": "python",
   "name": "python3"
  },
  "language_info": {
   "codemirror_mode": {
    "name": "ipython",
    "version": 3
   },
   "file_extension": ".py",
   "mimetype": "text/x-python",
   "name": "python",
   "nbconvert_exporter": "python",
   "pygments_lexer": "ipython3",
   "version": "3.5.2"
  }
 },
 "nbformat": 4,
 "nbformat_minor": 4
}
