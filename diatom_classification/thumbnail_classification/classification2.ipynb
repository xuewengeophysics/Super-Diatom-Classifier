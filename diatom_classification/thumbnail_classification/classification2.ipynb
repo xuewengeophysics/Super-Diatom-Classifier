{
 "cells": [
  {
   "cell_type": "code",
   "execution_count": 4,
   "metadata": {},
   "outputs": [
    {
     "name": "stdout",
     "output_type": "stream",
     "text": [
      "[PhysicalDevice(name='/physical_device:CPU:0', device_type='CPU'), PhysicalDevice(name='/physical_device:XLA_CPU:0', device_type='XLA_CPU'), PhysicalDevice(name='/physical_device:XLA_GPU:0', device_type='XLA_GPU'), PhysicalDevice(name='/physical_device:GPU:0', device_type='GPU')]\n"
     ]
    },
    {
     "data": {
      "text/plain": [
       "True"
      ]
     },
     "execution_count": 4,
     "metadata": {},
     "output_type": "execute_result"
    }
   ],
   "source": [
    "from os import listdir, walk\n",
    "from os.path import isfile, join\n",
    "import numpy as np\n",
    "from PIL import Image\n",
    "import time\n",
    "import cv2\n",
    "from sys import getsizeof\n",
    "from IPython.display import display\n",
    "import random\n",
    "import math\n",
    "import datetime\n",
    "import sys\n",
    "from tensorflow.keras.optimizers import *\n",
    "import operator\n",
    "\n",
    "import tensorflow as tf\n",
    "from tensorflow.keras.applications.xception import Xception\n",
    "from tensorflow.keras.applications.inception_v3 import InceptionV3\n",
    "from tensorflow.keras.layers import Input\n",
    "from tensorflow.keras.utils import Sequence\n",
    "from tensorflow.keras.models import Model\n",
    "from tensorflow.keras.layers import Dense, GlobalAveragePooling2D\n",
    "\n",
    "from tensorflow.keras.preprocessing.image import ImageDataGenerator\n",
    "\n",
    "#tf.config.optimizer.set_jit(True)\n",
    "#tf.debugging.set_log_device_placement(True)\n",
    "print(tf.config.experimental.list_physical_devices())\n",
    "\n",
    "AUTOTUNE = tf.data.experimental.AUTOTUNE\n",
    "BATCH_SIZE = 32\n",
    "VALIDATION_STEPS = 30\n",
    "\n",
    "\n",
    "%run ./variables.ipynb\n",
    "%run ./utils.ipynb\n",
    "%run ../utils/data_utils.ipynb\n",
    "\n",
    "id_map = get_selected_taxons(\"../../selected_taxons.txt\")\n",
    "id_map_inv = get_selected_taxons(\"../../selected_taxons.txt\", inv=True)\n",
    "n_classes = len(list(id_map.keys()))\n",
    "\n",
    "tf.test.is_gpu_available()"
   ]
  },
  {
   "cell_type": "markdown",
   "metadata": {},
   "source": [
    "# Handle data"
   ]
  },
  {
   "cell_type": "markdown",
   "metadata": {},
   "source": [
    "## Data generator"
   ]
  },
  {
   "cell_type": "code",
   "execution_count": 5,
   "metadata": {},
   "outputs": [
    {
     "data": {
      "text/plain": [
       "'171/171'"
      ]
     },
     "metadata": {},
     "output_type": "display_data"
    },
    {
     "ename": "ValueError",
     "evalue": "too many values to unpack (expected 2)",
     "output_type": "error",
     "traceback": [
      "\u001b[0;31m---------------------------------------------------------------------------\u001b[0m",
      "\u001b[0;31mValueError\u001b[0m                                Traceback (most recent call last)",
      "\u001b[0;32m<ipython-input-5-f4e3ddba8c67>\u001b[0m in \u001b[0;36m<module>\u001b[0;34m\u001b[0m\n\u001b[1;32m      1\u001b[0m \u001b[0;31m# Sampling the dataset to fit the ImageDataGenerator\u001b[0m\u001b[0;34m\u001b[0m\u001b[0;34m\u001b[0m\u001b[0m\n\u001b[0;32m----> 2\u001b[0;31m \u001b[0mfiles\u001b[0m\u001b[0;34m,\u001b[0m \u001b[0m_\u001b[0m \u001b[0;34m=\u001b[0m \u001b[0mget_dataset\u001b[0m\u001b[0;34m(\u001b[0m\u001b[0;34m)\u001b[0m\u001b[0;34m\u001b[0m\u001b[0m\n\u001b[0m\u001b[1;32m      3\u001b[0m \u001b[0msample_files\u001b[0m \u001b[0;34m=\u001b[0m \u001b[0mnp\u001b[0m\u001b[0;34m.\u001b[0m\u001b[0mrandom\u001b[0m\u001b[0;34m.\u001b[0m\u001b[0mpermutation\u001b[0m\u001b[0;34m(\u001b[0m\u001b[0mfiles\u001b[0m\u001b[0;34m)\u001b[0m\u001b[0;34m[\u001b[0m\u001b[0;36m0\u001b[0m\u001b[0;34m:\u001b[0m\u001b[0mint\u001b[0m\u001b[0;34m(\u001b[0m\u001b[0;36m0.4\u001b[0m\u001b[0;34m*\u001b[0m\u001b[0mlen\u001b[0m\u001b[0;34m(\u001b[0m\u001b[0mfiles\u001b[0m\u001b[0;34m)\u001b[0m\u001b[0;34m)\u001b[0m\u001b[0;34m]\u001b[0m\u001b[0;34m\u001b[0m\u001b[0m\n\u001b[1;32m      4\u001b[0m \u001b[0mnew_size\u001b[0m \u001b[0;34m=\u001b[0m \u001b[0;36m50\u001b[0m\u001b[0;34m\u001b[0m\u001b[0m\n\u001b[1;32m      5\u001b[0m \u001b[0;31m#fit_dataset = np.array([cv2.resize(cv2.imread(file), dsize=(new_size, new_size), interpolation=cv2.INTER_CUBIC) for file in sample_files])\u001b[0m\u001b[0;34m\u001b[0m\u001b[0;34m\u001b[0m\u001b[0m\n",
      "\u001b[0;31mValueError\u001b[0m: too many values to unpack (expected 2)"
     ]
    }
   ],
   "source": [
    "# Sampling the dataset to fit the ImageDataGenerator\n",
    "files, _, _ = get_dataset()\n",
    "sample_files = np.random.permutation(files)[0:int(0.4*len(files))]\n",
    "new_size = 50\n",
    "#fit_dataset = np.array([cv2.resize(cv2.imread(file), dsize=(new_size, new_size), interpolation=cv2.INTER_CUBIC) for file in sample_files])\n",
    "fit_dataset = np.array([cv2.imread(file) for file in sample_files]).astype(\"float32\")\n",
    "del files, sample_files\n",
    "print(fit_dataset.shape)"
   ]
  },
  {
   "cell_type": "code",
   "execution_count": 3,
   "metadata": {},
   "outputs": [],
   "source": [
    "datagen = ImageDataGenerator(rescale=1./255.,\n",
    "                         rotation_range=90, \n",
    "                         brightness_range=[0.8,1.2], \n",
    "                         horizontal_flip=True, \n",
    "                         vertical_flip=True,\n",
    "                         fill_mode='nearest',\n",
    "                         width_shift_range=40,\n",
    "                         height_shift_range=40,\n",
    "                         zoom_range=0.2,\n",
    "                         validation_split=0.2,\n",
    "                         #featurewise_std_normalization=True,\n",
    "                         data_format=\"channels_last\") \n",
    "#datagen.fit(fit_dataset)\n",
    "del fit_dataset"
   ]
  },
  {
   "cell_type": "markdown",
   "metadata": {},
   "source": [
    "## Setting up the flows"
   ]
  },
  {
   "cell_type": "code",
   "execution_count": 4,
   "metadata": {},
   "outputs": [],
   "source": [
    "# Retrieving id array\n",
    "size = max(id_map.items(), key=operator.itemgetter(1))[1]\n",
    "classes_array = [None]*(size+1)\n",
    "for el in id_map:\n",
    "    classes_array[id_map[el]]=el\n",
    "classes_array[0]=\"DUST\""
   ]
  },
  {
   "cell_type": "code",
   "execution_count": 5,
   "metadata": {},
   "outputs": [
    {
     "name": "stdout",
     "output_type": "stream",
     "text": [
      "Found 4990 images belonging to 230 classes.\n",
      "Found 1154 images belonging to 230 classes.\n"
     ]
    }
   ],
   "source": [
    "train_generator = datagen.flow_from_directory(\n",
    "    DATASET_PATH,\n",
    "    class_mode=\"categorical\",\n",
    "    color_mode=\"rgb\",\n",
    "    shuffle=True,\n",
    "    classes=classes_array,\n",
    "    batch_size=BATCH_SIZE,\n",
    "    subset=\"training\",\n",
    "    seed=27)\n",
    "val_generator = datagen.flow_from_directory(\n",
    "    DATASET_PATH,\n",
    "    class_mode=\"categorical\",\n",
    "    color_mode=\"rgb\",\n",
    "    shuffle=True,\n",
    "    classes=classes_array,\n",
    "    batch_size=BATCH_SIZE,\n",
    "    subset=\"validation\",\n",
    "    seed=27)\n",
    "\n",
    "train_spe = train_generator.samples // BATCH_SIZE\n",
    "val_spe = val_generator.samples // BATCH_SIZE"
   ]
  },
  {
   "cell_type": "markdown",
   "metadata": {},
   "source": [
    "## Testing"
   ]
  },
  {
   "cell_type": "code",
   "execution_count": 6,
   "metadata": {},
   "outputs": [
    {
     "name": "stdout",
     "output_type": "stream",
     "text": [
      "193\n"
     ]
    },
    {
     "data": {
      "image/png": "[encoded data removed]",
      "text/plain": [
       "<PIL.Image.Image image mode=RGB size=256x256 at 0x7F9F377DC4E0>"
      ]
     },
     "metadata": {},
     "output_type": "display_data"
    }
   ],
   "source": [
    "i = 0\n",
    "stop = False\n",
    "for batch in train_generator:\n",
    "    images = batch[0]\n",
    "    labels = batch[1]\n",
    "    for i in range(images.shape[0]):\n",
    "        print(np.argmax(labels[i]))\n",
    "        image = (images[i,:,:,:]*255).astype('uint8')\n",
    "        #print(image)\n",
    "        display(Image.fromarray(image))\n",
    "        i+=1\n",
    "        if i>=1:\n",
    "            stop = True\n",
    "            break\n",
    "    if stop: break;\n",
    "    #display()"
   ]
  },
  {
   "cell_type": "markdown",
   "metadata": {},
   "source": [
    "# Model desgin"
   ]
  },
  {
   "cell_type": "code",
   "execution_count": 7,
   "metadata": {},
   "outputs": [],
   "source": [
    "# fetching base model\n",
    "#base_model = Xception(include_top=False, weights='imagenet', input_shape=(256, 256, 3), pooling=None)\n",
    "input_tensor = Input(shape=(256, 256, 3))\n",
    "base_model = InceptionV3(weights='imagenet', input_tensor=input_tensor, include_top=False)"
   ]
  },
  {
   "cell_type": "code",
   "execution_count": 8,
   "metadata": {},
   "outputs": [],
   "source": [
    "# setting model for specifiv case\n",
    "x = base_model.output\n",
    "x = GlobalAveragePooling2D()(x)\n",
    "x = Dense(1024, activation='relu')(x)\n",
    "out = Dense(230, activation='softmax')(x)\n",
    "model = Model(inputs=base_model.input, outputs=out)"
   ]
  },
  {
   "cell_type": "markdown",
   "metadata": {},
   "source": [
    "# Training"
   ]
  },
  {
   "cell_type": "code",
   "execution_count": 9,
   "metadata": {},
   "outputs": [],
   "source": [
    "# Setting tensorboard\n",
    "!rm -rf LOG_DIR\n",
    "log_dir = LOG_DIR + datetime.datetime.now().strftime(\"%Y%m%d-%H%M%S\")\n",
    "tensorboard_callback = tf.keras.callbacks.TensorBoard(log_dir=log_dir, histogram_freq=1)"
   ]
  },
  {
   "cell_type": "markdown",
   "metadata": {},
   "source": [
    "## New layers only"
   ]
  },
  {
   "cell_type": "code",
   "execution_count": 10,
   "metadata": {},
   "outputs": [
    {
     "name": "stdout",
     "output_type": "stream",
     "text": [
      "3 epochs composed of 155 batches (steps) of 32 images.\n",
      "Train for 155 steps, validate for 36 steps\n",
      "Epoch 1/3\n",
      "155/155 [==============================] - 121s 780ms/step - loss: 4.0959 - accuracy: 0.1759 - val_loss: 4.3433 - val_accuracy: 0.0833\n",
      "Epoch 2/3\n",
      "155/155 [==============================] - 122s 788ms/step - loss: 2.5276 - accuracy: 0.3957 - val_loss: 4.6575 - val_accuracy: 0.0938\n",
      "Epoch 3/3\n",
      "155/155 [==============================] - 119s 767ms/step - loss: 1.9062 - accuracy: 0.4986 - val_loss: 4.8257 - val_accuracy: 0.1016\n"
     ]
    },
    {
     "data": {
      "text/plain": [
       "<tensorflow.python.keras.callbacks.History at 0x7f9f24e87908>"
      ]
     },
     "execution_count": 10,
     "metadata": {},
     "output_type": "execute_result"
    }
   ],
   "source": [
    "n_epochs_train1 = 3\n",
    "\n",
    "print(n_epochs_train1, \"epochs composed of\", train_spe, \"batches (steps) of\", BATCH_SIZE, \"images.\")\n",
    "\n",
    "for layer in base_model.layers:\n",
    "    layer.trainable = False\n",
    "model.compile(optimizer='adam', loss='categorical_crossentropy', metrics=['accuracy'])\n",
    "#model.compile(optimizer='rmsprop', loss='sparse_categorical_crossentropy', metrics=['sparse_categorical_accuracy'])\n",
    "model.fit(train_generator, \n",
    "          epochs=n_epochs_train1, \n",
    "          steps_per_epoch=train_spe,\n",
    "          use_multiprocessing=True, \n",
    "          validation_data=val_generator,\n",
    "          validation_steps=val_spe,\n",
    "          callbacks=[tensorboard_callback],\n",
    "          initial_epoch=0)"
   ]
  },
  {
   "cell_type": "markdown",
   "metadata": {},
   "source": [
    "## Training 2 last inceptions blocks"
   ]
  },
  {
   "cell_type": "code",
   "execution_count": 11,
   "metadata": {},
   "outputs": [
    {
     "name": "stdout",
     "output_type": "stream",
     "text": [
      "13 epochs composed of 155 batches (steps) of 32 images.\n",
      "Train for 155 steps, validate for 36 steps\n",
      "Epoch 4/13\n",
      "155/155 [==============================] - 121s 780ms/step - loss: 1.6913 - accuracy: 0.5226 - val_loss: 7.8049 - val_accuracy: 0.1345\n",
      "Epoch 5/13\n",
      "155/155 [==============================] - 123s 790ms/step - loss: 1.0206 - accuracy: 0.6910 - val_loss: 5.4755 - val_accuracy: 0.2248\n",
      "Epoch 6/13\n",
      "155/155 [==============================] - 121s 778ms/step - loss: 0.7891 - accuracy: 0.7455 - val_loss: 5.3557 - val_accuracy: 0.2127\n",
      "Epoch 7/13\n",
      "155/155 [==============================] - 120s 772ms/step - loss: 0.6578 - accuracy: 0.7941 - val_loss: 6.3772 - val_accuracy: 0.1649\n",
      "Epoch 8/13\n",
      "155/155 [==============================] - 120s 773ms/step - loss: 0.5683 - accuracy: 0.8130 - val_loss: 5.0739 - val_accuracy: 0.1988\n",
      "Epoch 9/13\n",
      "155/155 [==============================] - 120s 777ms/step - loss: 0.5007 - accuracy: 0.8320 - val_loss: 4.9401 - val_accuracy: 0.2283\n",
      "Epoch 10/13\n",
      "155/155 [==============================] - 121s 782ms/step - loss: 0.4807 - accuracy: 0.8407 - val_loss: 5.7925 - val_accuracy: 0.2622\n",
      "Epoch 11/13\n",
      "155/155 [==============================] - 120s 776ms/step - loss: 0.4185 - accuracy: 0.8635 - val_loss: 5.2382 - val_accuracy: 0.2214\n",
      "Epoch 12/13\n",
      "155/155 [==============================] - 118s 764ms/step - loss: 0.3602 - accuracy: 0.8760 - val_loss: 5.0656 - val_accuracy: 0.2752\n",
      "Epoch 13/13\n",
      "155/155 [==============================] - 114s 738ms/step - loss: 0.3598 - accuracy: 0.8798 - val_loss: 5.4069 - val_accuracy: 0.2326\n"
     ]
    },
    {
     "data": {
      "text/plain": [
       "<tensorflow.python.keras.callbacks.History at 0x7f9f18800c50>"
      ]
     },
     "execution_count": 11,
     "metadata": {},
     "output_type": "execute_result"
    }
   ],
   "source": [
    "n_epochs_train2 = n_epochs_train1+10\n",
    "\n",
    "print(n_epochs_train2, \"epochs composed of\", train_spe, \"batches (steps) of\", BATCH_SIZE, \"images.\")\n",
    "\n",
    "# we chose to train the top 2 inception blocks, i.e. we will freeze\n",
    "# the first 249 layers and unfreeze the rest:\n",
    "for layer in model.layers[:249]:\n",
    "    layer.trainable = False\n",
    "for layer in model.layers[249:]:\n",
    "    layer.trainable = True\n",
    "\n",
    "# we need to recompile the model for these modifications to take effect\n",
    "# we use SGD with a low learning rate\n",
    "model.compile(optimizer=\"adam\", loss='categorical_crossentropy', metrics=['accuracy'])\n",
    "\n",
    "# we train our model again (this time fine-tuning the top 2 inception blocks\n",
    "# alongside the top Dense layers\n",
    "model.fit(train_generator, \n",
    "          epochs=n_epochs_train2, \n",
    "          steps_per_epoch=train_spe,\n",
    "          use_multiprocessing=True, \n",
    "          validation_data=val_generator,\n",
    "          validation_steps=val_spe,\n",
    "          callbacks=[tensorboard_callback],\n",
    "          initial_epoch=n_epochs_train1)"
   ]
  },
  {
   "cell_type": "markdown",
   "metadata": {},
   "source": [
    "## Training full model"
   ]
  },
  {
   "cell_type": "code",
   "execution_count": 12,
   "metadata": {},
   "outputs": [
    {
     "name": "stdout",
     "output_type": "stream",
     "text": [
      "13 epochs composed of 155 batches (steps) of 32 images.\n",
      "Train for 155 steps, validate for 36 steps\n",
      "Epoch 14/53\n",
      "155/155 [==============================] - 133s 857ms/step - loss: 1.6745 - accuracy: 0.5456 - val_loss: 3.8583 - val_accuracy: 0.2578\n",
      "Epoch 15/53\n",
      "155/155 [==============================] - 130s 838ms/step - loss: 0.9225 - accuracy: 0.7136 - val_loss: 2.4605 - val_accuracy: 0.4097\n",
      "Epoch 16/53\n",
      "155/155 [==============================] - 125s 805ms/step - loss: 0.7469 - accuracy: 0.7683 - val_loss: 3.1143 - val_accuracy: 0.3594\n",
      "Epoch 17/53\n",
      "155/155 [==============================] - 128s 823ms/step - loss: 0.6638 - accuracy: 0.7812 - val_loss: 2.2899 - val_accuracy: 0.4878\n",
      "Epoch 18/53\n",
      "155/155 [==============================] - 128s 823ms/step - loss: 0.5729 - accuracy: 0.8114 - val_loss: 1.7264 - val_accuracy: 0.5590\n",
      "Epoch 19/53\n",
      "155/155 [==============================] - 131s 847ms/step - loss: 0.5182 - accuracy: 0.8296 - val_loss: 4.1171 - val_accuracy: 0.3698\n",
      "Epoch 20/53\n",
      "155/155 [==============================] - 134s 868ms/step - loss: 0.4592 - accuracy: 0.8449 - val_loss: 2.3109 - val_accuracy: 0.5148\n",
      "Epoch 21/53\n",
      "155/155 [==============================] - 134s 862ms/step - loss: 0.4463 - accuracy: 0.8542 - val_loss: 2.8937 - val_accuracy: 0.4175\n",
      "Epoch 22/53\n",
      "155/155 [==============================] - 133s 858ms/step - loss: 0.3964 - accuracy: 0.8707 - val_loss: 2.6704 - val_accuracy: 0.4288\n",
      "Epoch 23/53\n",
      "155/155 [==============================] - 121s 779ms/step - loss: 0.3683 - accuracy: 0.8776 - val_loss: 2.6179 - val_accuracy: 0.5087\n",
      "Epoch 24/53\n",
      "155/155 [==============================] - 120s 773ms/step - loss: 0.3747 - accuracy: 0.8834 - val_loss: 1.9679 - val_accuracy: 0.5833\n",
      "Epoch 25/53\n",
      "155/155 [==============================] - 127s 822ms/step - loss: 0.3119 - accuracy: 0.8951 - val_loss: 2.6295 - val_accuracy: 0.4939\n",
      "Epoch 26/53\n",
      "155/155 [==============================] - 129s 833ms/step - loss: 0.3314 - accuracy: 0.8858 - val_loss: 1.9974 - val_accuracy: 0.5634\n",
      "Epoch 27/53\n",
      "155/155 [==============================] - 135s 869ms/step - loss: 0.3206 - accuracy: 0.8945 - val_loss: 1.9208 - val_accuracy: 0.5747\n",
      "Epoch 28/53\n",
      "155/155 [==============================] - 135s 872ms/step - loss: 0.2810 - accuracy: 0.9026 - val_loss: 2.4898 - val_accuracy: 0.5087\n",
      "Epoch 29/53\n",
      "155/155 [==============================] - 135s 872ms/step - loss: 0.2906 - accuracy: 0.8990 - val_loss: 2.4737 - val_accuracy: 0.5174\n",
      "Epoch 30/53\n",
      "155/155 [==============================] - 135s 871ms/step - loss: 0.2736 - accuracy: 0.9100 - val_loss: 1.8320 - val_accuracy: 0.6328\n",
      "Epoch 31/53\n",
      "155/155 [==============================] - 133s 861ms/step - loss: 0.2330 - accuracy: 0.9211 - val_loss: 2.3098 - val_accuracy: 0.5755\n",
      "Epoch 32/53\n",
      "155/155 [==============================] - 134s 865ms/step - loss: 0.2516 - accuracy: 0.9195 - val_loss: 2.6653 - val_accuracy: 0.5191\n",
      "Epoch 33/53\n",
      "155/155 [==============================] - 134s 867ms/step - loss: 0.2377 - accuracy: 0.9197 - val_loss: 1.8766 - val_accuracy: 0.6380\n",
      "Epoch 34/53\n",
      "155/155 [==============================] - 134s 866ms/step - loss: 0.2074 - accuracy: 0.9300 - val_loss: 1.6048 - val_accuracy: 0.6432\n",
      "Epoch 35/53\n",
      "155/155 [==============================] - 130s 836ms/step - loss: 0.2426 - accuracy: 0.9183 - val_loss: 1.5659 - val_accuracy: 0.6597\n",
      "Epoch 36/53\n",
      "155/155 [==============================] - 120s 773ms/step - loss: 0.2238 - accuracy: 0.9318 - val_loss: 1.7460 - val_accuracy: 0.6267\n",
      "Epoch 37/53\n",
      "155/155 [==============================] - 128s 825ms/step - loss: 0.2319 - accuracy: 0.9232 - val_loss: 2.3600 - val_accuracy: 0.5174\n",
      "Epoch 38/53\n",
      "155/155 [==============================] - 134s 863ms/step - loss: 0.2191 - accuracy: 0.9268 - val_loss: 1.9922 - val_accuracy: 0.5833\n",
      "Epoch 39/53\n",
      "155/155 [==============================] - 135s 873ms/step - loss: 0.2104 - accuracy: 0.9300 - val_loss: 1.7778 - val_accuracy: 0.6398\n",
      "Epoch 40/53\n",
      "155/155 [==============================] - 133s 861ms/step - loss: 0.1721 - accuracy: 0.9373 - val_loss: 3.1490 - val_accuracy: 0.4965\n",
      "Epoch 41/53\n",
      "155/155 [==============================] - 135s 873ms/step - loss: 0.2190 - accuracy: 0.9324 - val_loss: 1.9045 - val_accuracy: 0.6068\n",
      "Epoch 42/53\n",
      "155/155 [==============================] - 132s 852ms/step - loss: 0.1806 - accuracy: 0.9383 - val_loss: 2.1456 - val_accuracy: 0.5911\n",
      "Epoch 43/53\n",
      "155/155 [==============================] - 135s 869ms/step - loss: 0.1657 - accuracy: 0.9433 - val_loss: 1.9473 - val_accuracy: 0.6519\n",
      "Epoch 44/53\n",
      "155/155 [==============================] - 134s 867ms/step - loss: 0.1967 - accuracy: 0.9371 - val_loss: 2.2070 - val_accuracy: 0.5677\n",
      "Epoch 45/53\n",
      "155/155 [==============================] - 134s 868ms/step - loss: 0.1962 - accuracy: 0.9306 - val_loss: 1.7446 - val_accuracy: 0.6589\n",
      "Epoch 46/53\n",
      "155/155 [==============================] - 135s 869ms/step - loss: 0.2162 - accuracy: 0.9296 - val_loss: 2.6405 - val_accuracy: 0.5234\n",
      "Epoch 47/53\n",
      "155/155 [==============================] - 134s 865ms/step - loss: 0.1521 - accuracy: 0.9500 - val_loss: 2.1758 - val_accuracy: 0.6233\n",
      "Epoch 48/53\n",
      "155/155 [==============================] - 134s 862ms/step - loss: 0.1411 - accuracy: 0.9556 - val_loss: 2.0913 - val_accuracy: 0.6441\n",
      "Epoch 49/53\n",
      "155/155 [==============================] - 133s 855ms/step - loss: 0.1550 - accuracy: 0.9492 - val_loss: 1.8901 - val_accuracy: 0.6736\n",
      "Epoch 50/53\n",
      "155/155 [==============================] - 135s 874ms/step - loss: 0.1651 - accuracy: 0.9445 - val_loss: 2.0170 - val_accuracy: 0.6007\n",
      "Epoch 51/53\n",
      "155/155 [==============================] - 135s 868ms/step - loss: 0.1409 - accuracy: 0.9554 - val_loss: 1.9681 - val_accuracy: 0.6163\n",
      "Epoch 52/53\n",
      "155/155 [==============================] - 134s 865ms/step - loss: 0.1268 - accuracy: 0.9589 - val_loss: 2.0454 - val_accuracy: 0.6389\n",
      "Epoch 53/53\n",
      "155/155 [==============================] - 135s 872ms/step - loss: 0.1262 - accuracy: 0.9593 - val_loss: 2.0649 - val_accuracy: 0.6319\n"
     ]
    },
    {
     "data": {
      "text/plain": [
       "<tensorflow.python.keras.callbacks.History at 0x7f9ef96e01d0>"
      ]
     },
     "execution_count": 12,
     "metadata": {},
     "output_type": "execute_result"
    }
   ],
   "source": [
    "n_epochs_train3 = n_epochs_train2+40\n",
    "\n",
    "print(n_epochs_train2, \"epochs composed of\", train_spe, \"batches (steps) of\", BATCH_SIZE, \"images.\")\n",
    "\n",
    "# we chose to train the top 2 inception blocks, i.e. we will freeze\n",
    "# the first 249 layers and unfreeze the rest:\n",
    "for layer in model.layers:\n",
    "    layer.trainable = True\n",
    "\n",
    "# we need to recompile the model for these modifications to take effect\n",
    "# we use SGD with a low learning rate\n",
    "model.compile(optimizer='adam', loss='categorical_crossentropy', metrics=['accuracy'])\n",
    "\n",
    "# we train our model again (this time fine-tuning the top 2 inception blocks\n",
    "# alongside the top Dense layers\n",
    "model.fit(train_generator, \n",
    "          epochs=n_epochs_train3, \n",
    "          steps_per_epoch=train_spe,\n",
    "          use_multiprocessing=True, \n",
    "          validation_data=val_generator,\n",
    "          validation_steps=val_spe,\n",
    "          callbacks=[tensorboard_callback],\n",
    "          initial_epoch=n_epochs_train2)"
   ]
  },
  {
   "cell_type": "markdown",
   "metadata": {},
   "source": [
    "## Saving model"
   ]
  },
  {
   "cell_type": "code",
   "execution_count": 13,
   "metadata": {},
   "outputs": [
    {
     "name": "stdout",
     "output_type": "stream",
     "text": [
      "Saved model to disk\n"
     ]
    }
   ],
   "source": [
    "model_json = model.save_weights(\"./saved_models/model.h5\")\n",
    "model_json = model.to_json()\n",
    "with open(\"./saved_models/model.json\", \"w\") as json_file:\n",
    "    json_file.write(model_json)\n",
    "    \n",
    "    # serialize model to JSON\n",
    "model_json = model.to_json()\n",
    "with open(\"model.json\", \"w\") as json_file:\n",
    "    json_file.write(model_json)\n",
    "# serialize weights to HDF5\n",
    "model.save_weights(\"model.h5\")\n",
    "print(\"Saved model to disk\")"
   ]
  },
  {
   "cell_type": "code",
   "execution_count": null,
   "metadata": {},
   "outputs": [],
   "source": []
  }
 ],
 "metadata": {
  "kernelspec": {
   "display_name": "Python 3",
   "language": "python",
   "name": "python3"
  },
  "language_info": {
   "codemirror_mode": {
    "name": "ipython",
    "version": 3
   },
   "file_extension": ".py",
   "mimetype": "text/x-python",
   "name": "python",
   "nbconvert_exporter": "python",
   "pygments_lexer": "ipython3",
   "version": "3.5.2"
  }
 },
 "nbformat": 4,
 "nbformat_minor": 4
}
