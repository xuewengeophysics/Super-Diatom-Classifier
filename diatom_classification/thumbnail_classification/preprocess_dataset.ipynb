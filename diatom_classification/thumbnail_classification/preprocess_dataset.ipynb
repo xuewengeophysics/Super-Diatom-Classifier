{
 "cells": [
  {
   "cell_type": "code",
   "execution_count": 1,
   "metadata": {},
   "outputs": [],
   "source": [
    "import shutil\n",
    "import os\n",
    "from skimage.exposure import match_histograms\n",
    "\n",
    "%run ./variables.ipynb\n",
    "%run ./utils.ipynb\n",
    "%run ../utils/data_utils.ipynb\n",
    "%run ../utils/image_utils.ipynb\n",
    "\n",
    "# Loading reference image for histogram matching\n",
    "ref = cv2.imread(\"/mnt/nvme-storage/pfauregi/datasets/atlas/ref_img.png\")\n",
    "ref = cv2.cvtColor(ref, cv2.COLOR_BGR2GRAY)"
   ]
  },
  {
   "cell_type": "code",
   "execution_count": 2,
   "metadata": {},
   "outputs": [
    {
     "name": "stdout",
     "output_type": "stream",
     "text": [
      "/mnt/nvme-storage/pfauregi/datasets/atlas/BRG\n",
      "/mnt/nvme-storage/pfauregi/datasets/atlas/IDF\n"
     ]
    }
   ],
   "source": [
    "selected_taxons = get_selected_taxons(SELECTED_TAXONS)\n",
    "for path in ATLAS_PATH:\n",
    "    print(path)\n",
    "    for taxon in os.listdir(path):\n",
    "        if taxon in selected_taxons.keys():\n",
    "            dir_path = os.path.join(path, taxon)\n",
    "            files = [f for f in os.listdir(dir_path) if isfile(join(dir_path, f))]\n",
    "            for file in files:\n",
    "                split = file.split(\".\")\n",
    "                if (len(split)>1 and split[1]==\"png\"):\n",
    "                    source_file = os.path.join(dir_path, file)\n",
    "                    target_file = os.path.join(DATASET_PATH, taxon, file)\n",
    "                    check_dirs(target_file)\n",
    "                    img = cv2.imread(source_file)\n",
    "                    img = cv2.cvtColor(img, cv2.COLOR_BGR2GRAY)\n",
    "                    img = match_histograms(img, ref, multichannel=False)\n",
    "                    img = convert_to_square(img, new_size=256)\n",
    "                    cv2.imwrite(target_file, img)"
   ]
  },
  {
   "cell_type": "code",
   "execution_count": null,
   "metadata": {},
   "outputs": [],
   "source": [
    "from IPython.display import display\n",
    "from PIL import Image\n",
    "from skimage import data\n",
    "from skimage import exposure\n",
    "\n",
    "id_map = get_selected_taxons(SELECTED_TAXONS)\n",
    "X, y, _ = get_dataset(ATLAS_PATH[0], ids=False)"
   ]
  },
  {
   "cell_type": "code",
   "execution_count": null,
   "metadata": {},
   "outputs": [],
   "source": [
    "ref = cv2.imread(\"/mnt/nvme-storage/pfauregi/datasets/atlas/ref_img.png\")\n",
    "ref = cv2.cvtColor(ref, cv2.COLOR_BGR2GRAY)\n",
    "src = cv2.imread(X[0])\n",
    "src = cv2.cvtColor(src, cv2.COLOR_BGR2GRAY)\n",
    "\n",
    "corrected_src = match_histograms(src, ref, multichannel=False)\n",
    "\n",
    "\n",
    "display(Image.fromarray(src))\n",
    "display(Image.fromarray(ref))\n",
    "display(Image.fromarray(corrected_src.astype('uint8')))"
   ]
  },
  {
   "cell_type": "code",
   "execution_count": null,
   "metadata": {},
   "outputs": [],
   "source": []
  }
 ],
 "metadata": {
  "kernelspec": {
   "display_name": "Python 3",
   "language": "python",
   "name": "python3"
  },
  "language_info": {
   "codemirror_mode": {
    "name": "ipython",
    "version": 3
   },
   "file_extension": ".py",
   "mimetype": "text/x-python",
   "name": "python",
   "nbconvert_exporter": "python",
   "pygments_lexer": "ipython3",
   "version": "3.6.9"
  }
 },
 "nbformat": 4,
 "nbformat_minor": 4
}
