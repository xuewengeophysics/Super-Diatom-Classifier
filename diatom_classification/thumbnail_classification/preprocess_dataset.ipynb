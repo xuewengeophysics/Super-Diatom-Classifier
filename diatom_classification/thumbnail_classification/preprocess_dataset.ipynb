{
 "cells": [
  {
   "cell_type": "code",
   "execution_count": 6,
   "metadata": {},
   "outputs": [],
   "source": [
    "import shutil\n",
    "import os\n",
    "\n",
    "%run ./variables.ipynb\n",
    "%run ./utils.ipynb\n",
    "%run ../utils/data_utils.ipynb\n",
    "%run ../utils/image_utils.ipynb\n"
   ]
  },
  {
   "cell_type": "code",
   "execution_count": 101,
   "metadata": {},
   "outputs": [],
   "source": [
    "selected_taxons = get_selected_taxons(SELECTED_TAXONS)\n",
    "for path in ATLAS_PATH:\n",
    "    print(path)\n",
    "    for taxon in os.listdir(path):\n",
    "        if taxon in selected_taxons.keys():\n",
    "            dir_path = os.path.join(path, taxon)\n",
    "            files = [f for f in os.listdir(dir_path) if isfile(join(dir_path, f))]\n",
    "            for file in files:\n",
    "                split = file.split(\".\")\n",
    "                if (len(split)>1 and split[1]==\"png\"):\n",
    "                    source_file = os.path.join(dir_path, file)\n",
    "                    target_file = os.path.join(DATASET_PATH, taxon, file)\n",
    "                    check_dirs(target_file)\n",
    "                    img = cv2.imread(source_file)\n",
    "                    img = convert_to_square(img, new_size=256)\n",
    "                    cv2.imwrite(target_file, img)"
   ]
  }
 ],
 "metadata": {
  "kernelspec": {
   "display_name": "Python 3",
   "language": "python",
   "name": "python3"
  },
  "language_info": {
   "codemirror_mode": {
    "name": "ipython",
    "version": 3
   },
   "file_extension": ".py",
   "mimetype": "text/x-python",
   "name": "python",
   "nbconvert_exporter": "python",
   "pygments_lexer": "ipython3",
   "version": "3.6.8"
  }
 },
 "nbformat": 4,
 "nbformat_minor": 4
}
