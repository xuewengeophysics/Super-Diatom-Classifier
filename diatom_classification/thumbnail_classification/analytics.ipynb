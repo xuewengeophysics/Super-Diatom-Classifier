{
 "cells": [
  {
   "cell_type": "code",
   "execution_count": null,
   "metadata": {},
   "outputs": [],
   "source": [
    "from tensorflow.keras.models import model_from_json\n",
    "import os\n",
    "import numpy as np\n",
    "from PIL import Image\n",
    "from IPython.display import clear_output\n",
    "import time\n",
    "import tensorflow as tf\n",
    "import matplotlib.pyplot as plt\n",
    "from matplotlib.colors import LogNorm\n",
    "from sklearn.metrics import plot_confusion_matrix\n",
    "import seaborn as sn\n",
    "import pandas as pd\n",
    "import copy\n",
    "\n",
    "%run ../utils/object_detection_utils.ipynb\n",
    "%run ../utils/image_utils.ipynb\n",
    "%run ../utils/data_utils.ipynb\n",
    "%run ./variables.ipynb\n",
    "%run ./utils.ipynb\n",
    "\n",
    "id_map_path = os.path.join(SAVED_MODELS_ROOT, 'model_id_map.csv')\n",
    "id_map = get_selected_taxons(id_map_path)\n",
    "inv_id_map = get_selected_taxons(id_map_path, inv=True)"
   ]
  },
  {
   "cell_type": "code",
   "execution_count": null,
   "metadata": {},
   "outputs": [],
   "source": [
    "X_test, y_test, _ = get_dataset(TEST_DATASET_PATH, ids=False)"
   ]
  },
  {
   "cell_type": "code",
   "execution_count": null,
   "metadata": {},
   "outputs": [],
   "source": [
    "json_file = open(os.path.join(SAVED_MODELS_ROOT, \"model.json\"), 'r')\n",
    "loaded_model_json = json_file.read()\n",
    "json_file.close()\n",
    "loaded_model = model_from_json(loaded_model_json)\n",
    "loaded_model.load_weights(os.path.join(SAVED_MODELS_ROOT, \"model.h5\"))"
   ]
  },
  {
   "cell_type": "code",
   "execution_count": null,
   "metadata": {},
   "outputs": [],
   "source": [
    "X_test, y_test, _ = get_dataset(TEST_DATASET_PATH, ids=True)\n",
    "y_test = np.array(y_test)"
   ]
  },
  {
   "cell_type": "code",
   "execution_count": null,
   "metadata": {},
   "outputs": [],
   "source": [
    "thumbails_batch = []\n",
    "for file in X_test:\n",
    "    sample = load_image(file, expand=True)\n",
    "    thumbails_batch.append(sample)\n",
    "thumbails_batch = np.array(thumbails_batch).astype('float32')/255\n",
    "outs = loaded_model.predict(thumbails_batch, use_multiprocessing=True)\n",
    "y_pred = np.array([np.argmax(out) for out in outs])\n",
    "# printng\n",
    "#print(X_test[i])\n",
    "#display(Image.fromarray(sample))\n",
    "#print(\"Prediction:\",inv_id_map[np.argmax(out)])\n",
    "#print(np.argmax(out))"
   ]
  },
  {
   "cell_type": "code",
   "execution_count": null,
   "metadata": {},
   "outputs": [],
   "source": [
    "conf_mat = tf.math.confusion_matrix(y_test, y_pred).numpy()"
   ]
  },
  {
   "cell_type": "code",
   "execution_count": null,
   "metadata": {},
   "outputs": [],
   "source": [
    "conf_mat_perc = conf_mat.copy().astype(\"float32\")\n",
    "for i in range(len(conf_mat_perc)):\n",
    "    conf_mat_perc[i] = conf_mat_perc[i]/np.sum(conf_mat_perc[i])"
   ]
  },
  {
   "cell_type": "code",
   "execution_count": null,
   "metadata": {},
   "outputs": [],
   "source": [
    "labels = list(id_map.keys())"
   ]
  },
  {
   "cell_type": "code",
   "execution_count": null,
   "metadata": {},
   "outputs": [],
   "source": [
    "sn.set()\n",
    "df_cm = pd.DataFrame(conf_mat_perc, index = [i for i in labels],\n",
    "                  columns = [i for i in labels])\n",
    "fig = plt.figure(figsize = (100,70))\n",
    "sn.heatmap(df_cm,\n",
    "           annot=True)\n",
    "           #norm=LogNorm())\n",
    "           #cbar_kws={'format': FuncFormatter(fmt)})\n",
    "fig.savefig('foo.png', bbox_inches='tight')\n",
    "plt.close(fig)"
   ]
  },
  {
   "cell_type": "code",
   "execution_count": null,
   "metadata": {},
   "outputs": [],
   "source": []
  }
 ],
 "metadata": {
  "kernelspec": {
   "display_name": "Python 3",
   "language": "python",
   "name": "python3"
  },
  "language_info": {
   "codemirror_mode": {
    "name": "ipython",
    "version": 3
   },
   "file_extension": ".py",
   "mimetype": "text/x-python",
   "name": "python",
   "nbconvert_exporter": "python",
   "pygments_lexer": "ipython3",
   "version": "3.6.9"
  }
 },
 "nbformat": 4,
 "nbformat_minor": 4
}
