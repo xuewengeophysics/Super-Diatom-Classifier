{
 "cells": [
  {
   "cell_type": "code",
   "execution_count": 1,
   "metadata": {},
   "outputs": [],
   "source": [
    "ROOTS = {\n",
    "    \"oroduin\": \"/mnt/balrog/pfauregi\",\n",
    "    \"balrog\": \"/mnt/nvme-storage/pfauregi\"\n",
    "}\n",
    "ROOT = ROOTS[\"balrog\"]\n",
    "SELECTED_TAXONS=\"../../selected_taxons.txt\"\n",
    "LOG_DIR = ROOT+\"/training/thumbails/tensorboard/train_balrog/\"\n",
    "ATLAS_PATH = [ROOT+\"/datasets/atlas/BRG\", ROOT+\"/datasets/atlas/IDF\"]\n",
    "DATASET_PATH = ROOT+\"/datasets/condensed/\"\n",
    "SAVED_MODELS_ROOT = \"./saved_models/\""
   ]
  },
  {
   "cell_type": "code",
   "execution_count": null,
   "metadata": {},
   "outputs": [],
   "source": []
  }
 ],
 "metadata": {
  "kernelspec": {
   "display_name": "Python 3",
   "language": "python",
   "name": "python3"
  },
  "language_info": {
   "codemirror_mode": {
    "name": "ipython",
    "version": 3
   },
   "file_extension": ".py",
   "mimetype": "text/x-python",
   "name": "python",
   "nbconvert_exporter": "python",
   "pygments_lexer": "ipython3",
   "version": "3.6.9"
  }
 },
 "nbformat": 4,
 "nbformat_minor": 4
}
