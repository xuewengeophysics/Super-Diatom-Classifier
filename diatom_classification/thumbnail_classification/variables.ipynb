{
 "cells": [
  {
   "cell_type": "code",
   "execution_count": 2,
   "metadata": {},
   "outputs": [],
   "source": [
    "import os"
   ]
  },
  {
   "cell_type": "code",
   "execution_count": 9,
   "metadata": {},
   "outputs": [],
   "source": [
    "ROOTS = {\n",
    "    \"oroduin\": \"/mnt/balrog/pfauregi/\",\n",
    "    \"balrog\": \"/mnt/nvme-storage/pfauregi/\"\n",
    "}\n",
    "ROOT = ROOTS[\"balrog\"]\n",
    "\n",
    "# Params\n",
    "TRAIN_ROOTS = {\n",
    "    \"normfull\": \"training/thumbails/normfull\",\n",
    "    \"full\": \"training/thumbails/full\",\n",
    "    \"balanced\": \"training/thumbails/balanced\",\n",
    "    \"normbalanced\": \"training/thumbails/normbalanced\",\n",
    "    \"miscellaneous\": \"training/thumbails/miscellaneous\",\n",
    "    \"aqualitas\": \"training/thumbails/aqualitas\"\n",
    "}\n",
    "filters = {\n",
    "    \"aqualitas80\": \"aqualitas80.csv\",\n",
    "    \"br_meuse\": \"br_meuse.csv\"\n",
    "}\n",
    "datasets = {\n",
    "    \"aqualitas\": [os.path.join(ROOT, \"datasets/Aqualitas/\")],\n",
    "    \"atlas\": [os.path.join(ROOT, \"datasets/atlas/BRG\"), os.path.join(ROOT, \"datasets/atlas/IDF\"), os.path.join(ROOT, \"datasets/atlas/RA\")],\n",
    "    \"ADIAC\": [os.path.join(ROOT, \"datasets/ADIAC/\")]\n",
    "}\n",
    "\n",
    "\n",
    "\n",
    "# Input dataset\n",
    "SELECTED_TAXONS = \"../../selected_taxons.txt\"\n",
    "FILTER_PATH = os.path.join(ROOT, \"datasets/filters/\", filters[\"aqualitas80\"])\n",
    "DATASET = datasets[\"aqualitas\"]\n",
    "\n",
    "# Training\n",
    "TRAIN_ROOT = os.path.join(ROOT, TRAIN_ROOTS[\"aqualitas\"])\n",
    "## Output dataset\n",
    "DATASET_PATH = os.path.join(TRAIN_ROOT, \"dataset/\")\n",
    "TRAIN_DATASET_PATH = os.path.join(DATASET_PATH,\"train/\")\n",
    "TEST_DATASET_PATH = os.path.join(DATASET_PATH,\"test/\")\n",
    "## Tensorboard dir\n",
    "LOG_DIR = os.path.join(TRAIN_ROOT, \"tensorboard/\")\n",
    "## Folder to save the model\n",
    "SAVED_MODELS_ROOT = os.path.join(TRAIN_ROOT, \"saved_models/\")"
   ]
  }
 ],
 "metadata": {
  "kernelspec": {
   "display_name": "Python 3",
   "language": "python",
   "name": "python3"
  },
  "language_info": {
   "codemirror_mode": {
    "name": "ipython",
    "version": 3
   },
   "file_extension": ".py",
   "mimetype": "text/x-python",
   "name": "python",
   "nbconvert_exporter": "python",
   "pygments_lexer": "ipython3",
   "version": "3.6.9"
  }
 },
 "nbformat": 4,
 "nbformat_minor": 4
}
