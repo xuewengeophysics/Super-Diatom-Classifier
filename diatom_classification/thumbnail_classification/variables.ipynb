{
 "cells": [
  {
   "cell_type": "code",
   "execution_count": 2,
   "metadata": {},
   "outputs": [],
   "source": [
    "import os"
   ]
  },
  {
   "cell_type": "code",
   "execution_count": 5,
   "metadata": {},
   "outputs": [],
   "source": [
    "ROOTS = {\n",
    "    \"oroduin\": \"/mnt/balrog/pfauregi/\",\n",
    "    \"balrog\": \"/mnt/nvme-storage/pfauregi/\"\n",
    "}\n",
    "ROOT = ROOTS[\"balrog\"]\n",
    "\n",
    "# Params\n",
    "datasets = {\n",
    "    \"aqualitas\": [os.path.join(ROOT, \"datasets/Aqualitas/\")],\n",
    "    \"atlas\": [os.path.join(ROOT, \"datasets/atlas/BRG\"), os.path.join(ROOT, \"datasets/atlas/IDF\"), os.path.join(ROOT, \"datasets/atlas/RA\")],\n",
    "    \"ADIAC\": [os.path.join(ROOT, \"datasets/ADIAC/\")],\n",
    "    \"ADIAC_D\": [os.path.join(ROOT, \"datasets/ADIAC/ADIAC_D\")]\n",
    "}\n",
    "\n",
    "configs = {\n",
    "    \"atlas\": {\n",
    "        \"dataset\": datasets[\"atlas\"],\n",
    "        \"filter\": \"br_meuse.csv\"\n",
    "    },\n",
    "    \"aqualitas\": {\n",
    "        \"dataset\": datasets[\"aqualitas\"],\n",
    "        \"filter\": \"aqualitas80.csv\"  \n",
    "    },\n",
    "    \"ADIAC_D38\": {\n",
    "        \"dataset\": datasets[\"ADIAC_D\"],\n",
    "        \"filter\": \"ADIAC_D38.csv\"\n",
    "    },\n",
    "    \"ADIAC_D48\": {\n",
    "        \"dataset\": datasets[\"ADIAC_D\"],\n",
    "        \"filter\": \"ADIAC_D48.csv\"\n",
    "    },\n",
    "    \"ADIAC_D55\": {\n",
    "        \"dataset\": datasets[\"ADIAC_D\"],\n",
    "        \"filter\": \"ADIAC_D55.csv\"\n",
    "    }\n",
    "}\n",
    "SCHEME = \"ADIAC_D55\"\n",
    "\n",
    "# Input dataset\n",
    "SELECTED_TAXONS = \"../../selected_taxons.txt\"\n",
    "FILTER_PATH = os.path.join(ROOT, \"datasets/filters/\", configs[SCHEME][\"filter\"])\n",
    "DATASET = configs[SCHEME][\"dataset\"]\n",
    "\n",
    "# Training\n",
    "TRAIN_ROOT = os.path.join(ROOT, \"training/thumbails/\", SCHEME+\"/\")\n",
    "## Output dataset\n",
    "DATASET_PATH = os.path.join(TRAIN_ROOT, \"dataset/\")\n",
    "TRAIN_DATASET_PATH = os.path.join(DATASET_PATH,\"train/\")\n",
    "TEST_DATASET_PATH = os.path.join(DATASET_PATH,\"test/\")\n",
    "## Tensorboard dir\n",
    "LOG_DIR = os.path.join(TRAIN_ROOT, \"tensorboard/\")\n",
    "## Folder to save the model\n",
    "SAVED_MODELS_ROOT = os.path.join(TRAIN_ROOT, \"saved_models/\")"
   ]
  }
 ],
 "metadata": {
  "kernelspec": {
   "display_name": "Python 3",
   "language": "python",
   "name": "python3"
  },
  "language_info": {
   "codemirror_mode": {
    "name": "ipython",
    "version": 3
   },
   "file_extension": ".py",
   "mimetype": "text/x-python",
   "name": "python",
   "nbconvert_exporter": "python",
   "pygments_lexer": "ipython3",
   "version": "3.6.9"
  }
 },
 "nbformat": 4,
 "nbformat_minor": 4
}
