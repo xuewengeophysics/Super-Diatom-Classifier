{
 "cells": [
  {
   "cell_type": "code",
   "execution_count": null,
   "metadata": {},
   "outputs": [],
   "source": [
    "ROOT = \"/mnt/nvme-storage/pfauregi\"\n",
    "DATASET_PATH = ROOT+\"/datasets/augmented/balanced\"\n",
    "SELECTED_TAXONS=\"../../selected_taxons.txt\"\n",
    "LOG_DIR = \"/mnt/nvme-storage/pfauregi/training/thumbails/train01/\"\n",
    "DATASET_PATH = [ROOT+\"/datasets/atlas/BRG\", ROOT+\"/datasets/atlas/IDF\"]"
   ]
  }
 ],
 "metadata": {
  "kernelspec": {
   "display_name": "Python 3",
   "language": "python",
   "name": "python3"
  },
  "language_info": {
   "codemirror_mode": {
    "name": "ipython",
    "version": 3
   },
   "file_extension": ".py",
   "mimetype": "text/x-python",
   "name": "python",
   "nbconvert_exporter": "python",
   "pygments_lexer": "ipython3",
   "version": "3.5.2"
  }
 },
 "nbformat": 4,
 "nbformat_minor": 4
}
