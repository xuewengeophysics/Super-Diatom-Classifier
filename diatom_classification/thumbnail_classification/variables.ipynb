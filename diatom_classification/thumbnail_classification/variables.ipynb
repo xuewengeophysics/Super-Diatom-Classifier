{
 "cells": [
  {
   "cell_type": "code",
   "execution_count": 2,
   "metadata": {},
   "outputs": [],
   "source": [
    "import os"
   ]
  },
  {
   "cell_type": "code",
   "execution_count": 9,
   "metadata": {},
   "outputs": [],
   "source": [
    "ROOTS = {\n",
    "    \"oroduin\": \"/mnt/balrog/pfauregi/\",\n",
    "    \"balrog\": \"/mnt/nvme-storage/pfauregi/\"\n",
    "}\n",
    "TRAIN_ROOTS = {\n",
    "    \"norm\": \"training/thumbails/norm\",\n",
    "    \"unnorm\": \"training/thumbails/unnom\",\n",
    "    \"balanced\": \"training/thumbails/balanced\"\n",
    "}\n",
    "\n",
    "ROOT = ROOTS[\"balrog\"]\n",
    "TRAIN_ROOT = os.path.join(ROOT, TRAIN_ROOTS[\"balanced\"])\n",
    "SELECTED_TAXONS = \"../../selected_taxons.txt\"\n",
    "ATLAS_PATH = [os.path.join(ROOT, \"datasets/atlas/BRG\"), os.path.join(ROOT, \"datasets/atlas/IDF\"), os.path.join(ROOT, \"datasets/atlas/RA\")]\n",
    "DATASET_PATH = os.path.join(TRAIN_ROOT, \"dataset/\")\n",
    "TRAIN_DATASET_PATH = os.path.join(DATASET_PATH,\"train/\")\n",
    "TEST_DATASET_PATH = os.path.join(DATASET_PATH,\"test/\")\n",
    "LOG_DIR = os.path.join(TRAIN_ROOT, \"tensorboard/\")\n",
    "SAVED_MODELS_ROOT = os.path.join(TRAIN_ROOT, \"saved_models/\")"
   ]
  }
 ],
 "metadata": {
  "kernelspec": {
   "display_name": "Python 3",
   "language": "python",
   "name": "python3"
  },
  "language_info": {
   "codemirror_mode": {
    "name": "ipython",
    "version": 3
   },
   "file_extension": ".py",
   "mimetype": "text/x-python",
   "name": "python",
   "nbconvert_exporter": "python",
   "pygments_lexer": "ipython3",
   "version": "3.6.9"
  }
 },
 "nbformat": 4,
 "nbformat_minor": 4
}
