{
 "cells": [
  {
   "cell_type": "code",
   "execution_count": 1,
   "metadata": {},
   "outputs": [],
   "source": [
    "import os"
   ]
  },
  {
   "cell_type": "code",
   "execution_count": 6,
   "metadata": {},
   "outputs": [],
   "source": [
    "ROOTS = {\n",
    "    \"oroduin\": \"/mnt/balrog/pfauregi/\",\n",
    "    \"balrog\": \"/mnt/nvme-storage/pfauregi/\"\n",
    "}\n",
    "ROOT = ROOTS[\"balrog\"]\n",
    "SELECTED_TAXONS = \"../../selected_taxons.txt\"\n",
    "ATLAS_PATH = [os.path.join(ROOT, \"datasets/atlas/BRG\"), os.path.join(ROOT, \"datasets/atlas/IDF\")]\n",
    "DATASET_PATH = os.path.join(ROOT, \"datasets/condensed/\")\n",
    "TRAIN_DATASET_PATH = os.path.join(DATASET_PATH,\"train/\")\n",
    "TEST_DATASET_PATH = os.path.join(DATASET_PATH,\"test/\")\n",
    "LOG_DIR = os.path.join(ROOT, \"training/thumbails/tensorboard/train_balrog/\")\n",
    "SAVED_MODELS_ROOT = \"./saved_models/\""
   ]
  }
 ],
 "metadata": {
  "kernelspec": {
   "display_name": "Python 3",
   "language": "python",
   "name": "python3"
  },
  "language_info": {
   "codemirror_mode": {
    "name": "ipython",
    "version": 3
   },
   "file_extension": ".py",
   "mimetype": "text/x-python",
   "name": "python",
   "nbconvert_exporter": "python",
   "pygments_lexer": "ipython3",
   "version": "3.6.9"
  }
 },
 "nbformat": 4,
 "nbformat_minor": 4
}
