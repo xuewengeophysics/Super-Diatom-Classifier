{
 "cells": [
  {
   "cell_type": "code",
   "execution_count": 2,
   "metadata": {},
   "outputs": [],
   "source": [
    "import cv2\n",
    "import numpy as np\n",
    "import matplotlib.pyplot as plt\n",
    "import os\n",
    "from os.path import isfile, join\n",
    "import errno\n",
    "    \n",
    "def check_dirs(filename):\n",
    "    if not os.path.exists(os.path.dirname(filename)):\n",
    "        try:\n",
    "            os.makedirs(os.path.dirname(filename))\n",
    "        except OSError as exc: # Guard against race condition\n",
    "            if exc.errno != errno.EEXIST:\n",
    "                raise\n",
    "    \n",
    "def get_selected_taxons():\n",
    "    selected_taxons = {}\n",
    "    f = open(SELECTED_TAXONS, 'r') \n",
    "    lines = f.readlines() \n",
    "    del lines[0]\n",
    "    for line in lines:\n",
    "        line = line.strip()\n",
    "        taxon, taxon_id = line.split(',')[0], int(line.split(',')[1])\n",
    "        selected_taxons[taxon] = taxon_id\n",
    "    return selected_taxons\n",
    "\n",
    "def convert_to_square(image):\n",
    "    square_size = np.max(image.shape)\n",
    "    h, w = image.shape\n",
    "    delta_w = square_size - w\n",
    "    delta_h = square_size - h\n",
    "    top, bottom = delta_h//2, delta_h-(delta_h//2)\n",
    "    left, right = delta_w//2, delta_w-(delta_w//2)\n",
    "    square_image = cv2.copyMakeBorder(image, top, bottom, left, right, cv2.BORDER_REPLICATE)\n",
    "    return square_image\n",
    "\n",
    "def expand(image):\n",
    "    if len(image.shape)==2:\n",
    "        image = np.expand_dims(image, -1)\n",
    "        image = np.repeat(image, 3, 2)\n",
    "    return image"
   ]
  }
 ],
 "metadata": {
  "kernelspec": {
   "display_name": "Python 3",
   "language": "python",
   "name": "python3"
  },
  "language_info": {
   "codemirror_mode": {
    "name": "ipython",
    "version": 3
   },
   "file_extension": ".py",
   "mimetype": "text/x-python",
   "name": "python",
   "nbconvert_exporter": "python",
   "pygments_lexer": "ipython3",
   "version": "3.5.2"
  }
 },
 "nbformat": 4,
 "nbformat_minor": 4
}
