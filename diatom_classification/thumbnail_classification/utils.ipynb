{
 "cells": [
  {
   "cell_type": "code",
   "execution_count": 2,
   "metadata": {},
   "outputs": [],
   "source": [
    "import cv2\n",
    "import numpy as np\n",
    "import matplotlib.pyplot as plt\n",
    "import os\n",
    "from os.path import isfile, join\n",
    "import errno\n",
    "\n",
    "def convert_to_square(image):\n",
    "    square_size = np.max(image.shape)\n",
    "    h, w = image.shape\n",
    "    delta_w = square_size - w\n",
    "    delta_h = square_size - h\n",
    "    top, bottom = delta_h//2, delta_h-(delta_h//2)\n",
    "    left, right = delta_w//2, delta_w-(delta_w//2)\n",
    "    square_image = cv2.copyMakeBorder(image, top, bottom, left, right, cv2.BORDER_REPLICATE)\n",
    "    return square_image\n",
    "\n",
    "def expand(image):\n",
    "    if len(image.shape)==2:\n",
    "        image = np.expand_dims(image, -1)\n",
    "        image = np.repeat(image, 3, 2)\n",
    "    return image\n",
    "\n",
    "def get_dataset():\n",
    "    x_set = []\n",
    "    y_set = []\n",
    "    taxons_dirs = next(os.walk(DATASET_PATH))[1]\n",
    "    n_taxons = len(taxons_dirs)\n",
    "    disp_progress = display(\"0/\"+str(n_taxons),display_id=True)\n",
    "    for i, taxon in enumerate(taxons_dirs):\n",
    "        if not taxon in id_map:\n",
    "            print(\"WARNING: Taxon\",taxon,\"not found in id_map !\")\n",
    "            continue\n",
    "        taxon_id = id_map[taxon]\n",
    "        path = join(DATASET_PATH, taxon)\n",
    "        files = [f for f in os.listdir(path) if isfile(join(path, f))]\n",
    "        for file in files:\n",
    "            x_set.append(join(path, file))\n",
    "            y_set.append(taxon_id)\n",
    "        disp_progress.update(str(i+1)+\"/\"+str(n_taxons))\n",
    "    return x_set, y_set\n",
    "\n",
    "def test_dataset(dataset):\n",
    "    for image, label in dataset.take(1):\n",
    "        print(\"Image shape: \", image.numpy().shape)\n",
    "        print(\"Label: \", label)\n",
    "        display(Image.fromarray(np.uint8(image.numpy()[0]*255)))\n",
    "        break"
   ]
  }
 ],
 "metadata": {
  "kernelspec": {
   "display_name": "Python 3",
   "language": "python",
   "name": "python3"
  },
  "language_info": {
   "codemirror_mode": {
    "name": "ipython",
    "version": 3
   },
   "file_extension": ".py",
   "mimetype": "text/x-python",
   "name": "python",
   "nbconvert_exporter": "python",
   "pygments_lexer": "ipython3",
   "version": "3.5.2"
  }
 },
 "nbformat": 4,
 "nbformat_minor": 4
}
