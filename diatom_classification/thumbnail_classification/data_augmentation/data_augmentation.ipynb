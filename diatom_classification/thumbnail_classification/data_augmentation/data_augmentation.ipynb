{
 "cells": [
  {
   "cell_type": "code",
   "execution_count": 1,
   "metadata": {},
   "outputs": [],
   "source": [
    "import cv2\n",
    "import imutils\n",
    "import numpy as np\n",
    "import cupy as cp\n",
    "import random\n",
    "from os import listdir\n",
    "import io\n",
    "from IPython.display import display\n",
    "from PIL import Image\n",
    "import time\n",
    "import cv2\n",
    "\n",
    "from tensorflow.keras.preprocessing.image import ImageDataGenerator\n",
    "\n",
    "%run ./variables.ipynb\n",
    "%run ./utils.ipynb"
   ]
  },
  {
   "cell_type": "code",
   "execution_count": 9,
   "metadata": {},
   "outputs": [],
   "source": [
    "def list_images(data_path, diatoms=True):\n",
    "    # List all images in dataset and putting them in a dict {\"key\": \"imgpath\"}\n",
    "    images_path = []\n",
    "    for path in data_path: images_path.extend([(path, f) for f in listdir(path) if isfile(join(path, f))])\n",
    "    images_dict = {}\n",
    "    selected_taxons = get_selected_taxons()\n",
    "    for image_path in images_path:\n",
    "        if len(image_path[1].split('.'))>=2 and image_path[1].split('.')[-1]=='png': \n",
    "            # defining key\n",
    "            if diatoms: \n",
    "                key = image_path[1].split('_')[1] #key is taxon\n",
    "                if not key in selected_taxons:\n",
    "                    key = None\n",
    "            else: \n",
    "                key=\"mono\"\n",
    "            if not key is None:\n",
    "                images_dict.setdefault(key,[]).append(os.path.join(image_path[0],image_path[1]))\n",
    "    return images_dict   "
   ]
  },
  {
   "cell_type": "code",
   "execution_count": null,
   "metadata": {},
   "outputs": [
    {
     "data": {
      "text/plain": [
       "'185 taxons in dataset! Output in: /mnt/nvme-storage/pfauregi/datasets/augmented/'"
      ]
     },
     "metadata": {},
     "output_type": "display_data"
    },
    {
     "data": {
      "text/plain": [
       "'Progress: 55/185 (NSOC pending...)'"
      ]
     },
     "metadata": {},
     "output_type": "display_data"
    }
   ],
   "source": [
    "images_dict = list_images(DATASET_PATH, diatoms=True)\n",
    "start_time = time.time()\n",
    "total_n_taxons = len(images_dict.keys())\n",
    "a = display(str(total_n_taxons)+\" taxons in dataset! Output in: \"+SAVE_PATH,display_id=True)\n",
    "b = display(\"Progress: 0/\"+str(total_n_taxons),display_id=True)\n",
    "for n, taxon in enumerate(images_dict):\n",
    "    images_paths = images_dict[taxon]\n",
    "    taxon_images = []\n",
    "    for path in images_paths:\n",
    "        raw_image = np.array(Image.open(path))\n",
    "        if len(raw_image.shape)==3: raw_image = cv2.cvtColor(raw_image, cv2.COLOR_BGR2GRAY)\n",
    "        squared_image = convert_to_square(raw_image)\n",
    "        squared_image = cv2.resize(squared_image, dsize=(256, 256), interpolation=cv2.INTER_CUBIC)\n",
    "        squared_image = expand(squared_image)\n",
    "        taxon_images.append(squared_image)\n",
    "    taxon_images = np.array(taxon_images)\n",
    "    n_images = taxon_images.shape[0]\n",
    "    \n",
    "    datagen = ImageDataGenerator(rotation_range=90, \n",
    "                             brightness_range=[0.8,1.2], \n",
    "                             horizontal_flip=True, \n",
    "                             vertical_flip=True,\n",
    "                             fill_mode='nearest') \n",
    "    path = os.path.join(SAVE_PATH, taxon+\"/\")\n",
    "    datagen.fit(taxon_images)\n",
    "    check_dirs(path)\n",
    "    i = 0\n",
    "    for batch in datagen.flow(taxon_images, batch_size=1, save_to_dir=path, save_prefix=taxon, save_format='png'):\n",
    "        i+=1\n",
    "        if i>=10*n_images:\n",
    "            break\n",
    "    b.update(\"Progress: \"+str(n+1)+\"/\"+str(total_n_taxons)+\" (\"+taxon+\" pending...)\")\n",
    "print(\"Job finished in \", (time.time()-start_time), \"s!\")"
   ]
  },
  {
   "cell_type": "code",
   "execution_count": null,
   "metadata": {},
   "outputs": [],
   "source": []
  }
 ],
 "metadata": {
  "kernelspec": {
   "display_name": "Python 3",
   "language": "python",
   "name": "python3"
  },
  "language_info": {
   "codemirror_mode": {
    "name": "ipython",
    "version": 3
   },
   "file_extension": ".py",
   "mimetype": "text/x-python",
   "name": "python",
   "nbconvert_exporter": "python",
   "pygments_lexer": "ipython3",
   "version": "3.5.2"
  }
 },
 "nbformat": 4,
 "nbformat_minor": 4
}
