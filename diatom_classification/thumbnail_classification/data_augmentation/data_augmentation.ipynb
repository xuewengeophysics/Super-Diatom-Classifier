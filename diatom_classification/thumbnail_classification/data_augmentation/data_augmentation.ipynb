{
 "cells": [
  {
   "cell_type": "code",
   "execution_count": 9,
   "metadata": {},
   "outputs": [],
   "source": [
    "import cv2\n",
    "import imutils\n",
    "import numpy as np\n",
    "import cupy as cp\n",
    "import random\n",
    "from os import listdir\n",
    "import io\n",
    "from IPython.display import display\n",
    "from PIL import Image\n",
    "import time\n",
    "import cv2\n",
    "\n",
    "from tensorflow.keras.preprocessing.image import ImageDataGenerator\n",
    "\n",
    "%run ./variables.ipynb\n",
    "%run ./utils.ipynb"
   ]
  },
  {
   "cell_type": "code",
   "execution_count": 2,
   "metadata": {},
   "outputs": [],
   "source": [
    "def list_images(data_path, diatoms=True):\n",
    "    # List all images in dataset and putting them in a dict {\"key\": \"imgpath\"}\n",
    "    images_path = []\n",
    "    for path in data_path: images_path.extend([(path, f) for f in listdir(path) if isfile(join(path, f))])\n",
    "    images_dict = {}\n",
    "    selected_taxons = get_selected_taxons()\n",
    "    for image_path in images_path:\n",
    "        if len(image_path[1].split('.'))>=2 and image_path[1].split('.')[-1]=='png': \n",
    "            # defining key\n",
    "            if diatoms: \n",
    "                key = image_path[1].split('_')[1] #key is taxon\n",
    "                if not key in selected_taxons:\n",
    "                    key = None\n",
    "            else: \n",
    "                key=\"mono\"\n",
    "            if not key is None:\n",
    "                images_dict.setdefault(key,[]).append(os.path.join(image_path[0],image_path[1]))\n",
    "    return images_dict   "
   ]
  },
  {
   "cell_type": "code",
   "execution_count": 3,
   "metadata": {},
   "outputs": [],
   "source": [
    "images_dict = list_images(DATASET_PATH, diatoms=True)"
   ]
  },
  {
   "cell_type": "code",
   "execution_count": null,
   "metadata": {},
   "outputs": [],
   "source": [
    "raw_image = load_image(images_dict[\"AAMB\"][0], expand=False)\n",
    "image = convert_to_square(raw_image, expand=True)\n",
    "samples = np.expand_dims(image, 0)\n",
    "datagen = ImageDataGenerator(rotation_range=90, \n",
    "                             brightness_range=[0.8,1.2], \n",
    "                             horizontal_flip=True, \n",
    "                             vertical_flip=True,\n",
    "                             fill_mode='nearest') \n",
    "check_dirs(SAVE_PATH)\n",
    "for batch in datagen.flow(samples, batch_size=, save_to_dir=SAVE_PATH, save_prefix='aug', save_format='png'):\n",
    "    #image = batch[0].astype('uint8')\n",
    "    #display(Image.fromarray(image))\n",
    "    #time.sleep(1)\n",
    "    pass"
   ]
  },
  {
   "cell_type": "code",
   "execution_count": 18,
   "metadata": {},
   "outputs": [
    {
     "name": "stdout",
     "output_type": "stream",
     "text": [
      "EEXI  finished!\n",
      "ENVE  finished!\n",
      "NACD  finished!\n",
      "GYKU  finished!\n",
      "HVEN  finished!\n",
      "CEUG  finished!\n",
      "NYCO  finished!\n",
      "CTPU  finished!\n",
      "DMES  finished!\n",
      "AMID  finished!\n",
      "CMLF  finished!\n",
      "AFOR  finished!\n",
      "BPAX  finished!\n",
      "CINV  finished!\n",
      "ACLI  finished!\n",
      "CMEN  finished!\n",
      "GPRI  finished!\n",
      "APED  finished!\n",
      "NSIA  finished!\n"
     ]
    },
    {
     "ename": "KeyboardInterrupt",
     "evalue": "",
     "output_type": "error",
     "traceback": [
      "\u001b[0;31m---------------------------------------------------------------------------\u001b[0m",
      "\u001b[0;31mKeyboardInterrupt\u001b[0m                         Traceback (most recent call last)",
      "\u001b[0;32m<ipython-input-18-2f356615e113>\u001b[0m in \u001b[0;36m<module>\u001b[0;34m\u001b[0m\n\u001b[1;32m     17\u001b[0m                              fill_mode='nearest') \n\u001b[1;32m     18\u001b[0m     \u001b[0mpath\u001b[0m \u001b[0;34m=\u001b[0m \u001b[0mos\u001b[0m\u001b[0;34m.\u001b[0m\u001b[0mpath\u001b[0m\u001b[0;34m.\u001b[0m\u001b[0mjoin\u001b[0m\u001b[0;34m(\u001b[0m\u001b[0mSAVE_PATH\u001b[0m\u001b[0;34m,\u001b[0m \u001b[0mtaxon\u001b[0m\u001b[0;34m+\u001b[0m\u001b[0;34m\"/\"\u001b[0m\u001b[0;34m)\u001b[0m\u001b[0;34m\u001b[0m\u001b[0m\n\u001b[0;32m---> 19\u001b[0;31m     \u001b[0mdatagen\u001b[0m\u001b[0;34m.\u001b[0m\u001b[0mfit\u001b[0m\u001b[0;34m(\u001b[0m\u001b[0mtaxon_images\u001b[0m\u001b[0;34m)\u001b[0m\u001b[0;34m\u001b[0m\u001b[0m\n\u001b[0m\u001b[1;32m     20\u001b[0m     \u001b[0mcheck_dirs\u001b[0m\u001b[0;34m(\u001b[0m\u001b[0mpath\u001b[0m\u001b[0;34m)\u001b[0m\u001b[0;34m\u001b[0m\u001b[0m\n\u001b[1;32m     21\u001b[0m     \u001b[0;32mfor\u001b[0m \u001b[0mbatch\u001b[0m \u001b[0;32min\u001b[0m \u001b[0mdatagen\u001b[0m\u001b[0;34m.\u001b[0m\u001b[0mflow\u001b[0m\u001b[0;34m(\u001b[0m\u001b[0mtaxon_images\u001b[0m\u001b[0;34m,\u001b[0m \u001b[0mbatch_size\u001b[0m\u001b[0;34m=\u001b[0m\u001b[0;36m30\u001b[0m\u001b[0;34m,\u001b[0m \u001b[0msave_to_dir\u001b[0m\u001b[0;34m=\u001b[0m\u001b[0mpath\u001b[0m\u001b[0;34m,\u001b[0m \u001b[0msave_prefix\u001b[0m\u001b[0;34m=\u001b[0m\u001b[0mtaxon\u001b[0m\u001b[0;34m,\u001b[0m \u001b[0msave_format\u001b[0m\u001b[0;34m=\u001b[0m\u001b[0;34m'png'\u001b[0m\u001b[0;34m)\u001b[0m\u001b[0;34m:\u001b[0m\u001b[0;34m\u001b[0m\u001b[0m\n",
      "\u001b[0;32m~/venv/p3.5tf2.1/lib/python3.5/site-packages/keras_preprocessing/image/image_data_generator.py\u001b[0m in \u001b[0;36mfit\u001b[0;34m(self, x, augment, rounds, seed)\u001b[0m\n\u001b[1;32m    943\u001b[0m             \u001b[0mnp\u001b[0m\u001b[0;34m.\u001b[0m\u001b[0mrandom\u001b[0m\u001b[0;34m.\u001b[0m\u001b[0mseed\u001b[0m\u001b[0;34m(\u001b[0m\u001b[0mseed\u001b[0m\u001b[0;34m)\u001b[0m\u001b[0;34m\u001b[0m\u001b[0m\n\u001b[1;32m    944\u001b[0m \u001b[0;34m\u001b[0m\u001b[0m\n\u001b[0;32m--> 945\u001b[0;31m         \u001b[0mx\u001b[0m \u001b[0;34m=\u001b[0m \u001b[0mnp\u001b[0m\u001b[0;34m.\u001b[0m\u001b[0mcopy\u001b[0m\u001b[0;34m(\u001b[0m\u001b[0mx\u001b[0m\u001b[0;34m)\u001b[0m\u001b[0;34m\u001b[0m\u001b[0m\n\u001b[0m\u001b[1;32m    946\u001b[0m         \u001b[0;32mif\u001b[0m \u001b[0maugment\u001b[0m\u001b[0;34m:\u001b[0m\u001b[0;34m\u001b[0m\u001b[0m\n\u001b[1;32m    947\u001b[0m             ax = np.zeros(\n",
      "\u001b[0;32m<__array_function__ internals>\u001b[0m in \u001b[0;36mcopy\u001b[0;34m(*args, **kwargs)\u001b[0m\n",
      "\u001b[0;32m~/venv/p3.5tf2.1/lib/python3.5/site-packages/numpy/lib/function_base.py\u001b[0m in \u001b[0;36mcopy\u001b[0;34m(a, order)\u001b[0m\n\u001b[1;32m    773\u001b[0m \u001b[0;34m\u001b[0m\u001b[0m\n\u001b[1;32m    774\u001b[0m     \"\"\"\n\u001b[0;32m--> 775\u001b[0;31m     \u001b[0;32mreturn\u001b[0m \u001b[0marray\u001b[0m\u001b[0;34m(\u001b[0m\u001b[0ma\u001b[0m\u001b[0;34m,\u001b[0m \u001b[0morder\u001b[0m\u001b[0;34m=\u001b[0m\u001b[0morder\u001b[0m\u001b[0;34m,\u001b[0m \u001b[0mcopy\u001b[0m\u001b[0;34m=\u001b[0m\u001b[0;32mTrue\u001b[0m\u001b[0;34m)\u001b[0m\u001b[0;34m\u001b[0m\u001b[0m\n\u001b[0m\u001b[1;32m    776\u001b[0m \u001b[0;34m\u001b[0m\u001b[0m\n\u001b[1;32m    777\u001b[0m \u001b[0;31m# Basic operations\u001b[0m\u001b[0;34m\u001b[0m\u001b[0;34m\u001b[0m\u001b[0m\n",
      "\u001b[0;31mKeyboardInterrupt\u001b[0m: "
     ]
    }
   ],
   "source": [
    "for taxon in images_dict:\n",
    "    images_paths = images_dict[taxon]\n",
    "    taxon_images = []\n",
    "    for path in images_paths:\n",
    "        raw_image = np.array(Image.open(path))\n",
    "        if len(raw_image.shape)==3: raw_image = cv2.cvtColor(raw_image, cv2.COLOR_BGR2GRAY)\n",
    "        squared_image = convert_to_square(raw_image)\n",
    "        squared_image = np.resize(squared_image, (256,256))\n",
    "        squared_image = expand(squared_image)\n",
    "        taxon_images.append(squared_image)\n",
    "    taxon_images = np.array(taxon_images)\n",
    "    \n",
    "    datagen = ImageDataGenerator(rotation_range=90, \n",
    "                             brightness_range=[0.8,1.2], \n",
    "                             horizontal_flip=True, \n",
    "                             vertical_flip=True,\n",
    "                             fill_mode='nearest') \n",
    "    path = os.path.join(SAVE_PATH, taxon+\"/\")\n",
    "    datagen.fit(taxon_images)\n",
    "    check_dirs(path)\n",
    "    for batch in datagen.flow(taxon_images, batch_size=30, save_to_dir=path, save_prefix=taxon, save_format='png'):\n",
    "    #image = batch[0].astype('uint8')\n",
    "    #display(Image.fromarray(image))\n",
    "    #time.sleep(1)\n",
    "        break\n",
    "    print(taxon, \" finished!\")\n",
    "    break"
   ]
  },
  {
   "cell_type": "code",
   "execution_count": null,
   "metadata": {},
   "outputs": [],
   "source": []
  }
 ],
 "metadata": {
  "kernelspec": {
   "display_name": "Python 3",
   "language": "python",
   "name": "python3"
  },
  "language_info": {
   "codemirror_mode": {
    "name": "ipython",
    "version": 3
   },
   "file_extension": ".py",
   "mimetype": "text/x-python",
   "name": "python",
   "nbconvert_exporter": "python",
   "pygments_lexer": "ipython3",
   "version": "3.5.2"
  }
 },
 "nbformat": 4,
 "nbformat_minor": 4
}
