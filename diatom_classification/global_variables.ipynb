{
 "cells": [
  {
   "cell_type": "code",
   "execution_count": 2,
   "metadata": {},
   "outputs": [],
   "source": [
    "import os"
   ]
  },
  {
   "cell_type": "code",
   "execution_count": 4,
   "metadata": {},
   "outputs": [],
   "source": [
    "ROOTS = {\n",
    "    \"oroduin\": \"/mnt/balrog/pfauregi/\",\n",
    "    \"balrog\": \"/mnt/nvme-storage/pfauregi/\"\n",
    "}\n",
    "ROOT = ROOTS[\"balrog\"]\n",
    "OD_ROOT = os.path.join(ROOT, \"training/obj_detection/\")\n",
    "THUMB_ROOT = os.path.join(ROOT, \"training/thumbails/\")\n",
    "DATASETS_ROOT = os.path.join(ROOT, \"datasets/\")\n",
    "\n",
    "# Params\n",
    "DATASETS = {\n",
    "    \"dust\": [os.path.join(DATASETS_ROOT, \"dust01/\"), os.path.join(DATASETS_ROOT, \"Aqualitas/Debris/\")],\n",
    "    \"aqualitas\": [os.path.join(DATASETS_ROOT, \"Aqualitas/\")],\n",
    "    \"atlas\": [os.path.join(DATASETS_ROOT, \"atlas/BRG/\"), os.path.join(DATASETS_ROOT, \"atlas/IDF/\"), os.path.join(DATASETS_ROOT, \"atlas/RA/\")],\n",
    "    \"ADIAC\": [os.path.join(DATASETS_ROOT, \"ADIAC/\")],\n",
    "    \"ADIAC_D\": [os.path.join(DATASETS_ROOT, \"ADIAC/ADIAC_D/\")],\n",
    "    \"samples\": [os.path.join(DATASETS_ROOT, \"micro_samples/\")]\n",
    "}\n",
    "\n",
    "ALLOWED_EXTS = [\"png\", \"tif\", \"tiff\", \"TIF\", \"PNG\", \"jpg\"]\n",
    "OUTPUT_TMP = os.path.join(ROOT, \"rw/tmp/\")"
   ]
  }
 ],
 "metadata": {
  "kernelspec": {
   "display_name": "Python 3",
   "language": "python",
   "name": "python3"
  },
  "language_info": {
   "codemirror_mode": {
    "name": "ipython",
    "version": 3
   },
   "file_extension": ".py",
   "mimetype": "text/x-python",
   "name": "python",
   "nbconvert_exporter": "python",
   "pygments_lexer": "ipython3",
   "version": "3.6.9"
  }
 },
 "nbformat": 4,
 "nbformat_minor": 4
}
