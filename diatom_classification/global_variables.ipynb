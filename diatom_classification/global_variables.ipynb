{
 "cells": [
  {
   "cell_type": "code",
   "execution_count": 2,
   "metadata": {},
   "outputs": [],
   "source": [
    "import os"
   ]
  },
  {
   "cell_type": "code",
   "execution_count": 3,
   "metadata": {},
   "outputs": [],
   "source": [
    "ROOTS = {\n",
    "    \"oroduin\": \"/mnt/balrog/pfauregi/\",\n",
    "    \"balrog\": \"/mnt/nvme-storage/pfauregi/\"\n",
    "}\n",
    "ROOT = ROOTS[\"balrog\"]\n",
    "\n",
    "# Params\n",
    "DATASETS = {\n",
    "    \"dust\": [os.path.join(ROOT, \"datasets/dust01/\"), os.path.join(ROOT, \"datasets/Aqualitas/Debris/\")],\n",
    "    \"aqualitas\": [os.path.join(ROOT, \"datasets/Aqualitas/\")],\n",
    "    \"atlas\": [os.path.join(ROOT, \"datasets/atlas/BRG\"), os.path.join(ROOT, \"datasets/atlas/IDF\"), os.path.join(ROOT, \"datasets/atlas/RA\")],\n",
    "    \"ADIAC\": [os.path.join(ROOT, \"datasets/ADIAC/\")],\n",
    "    \"ADIAC_D\": [os.path.join(ROOT, \"datasets/ADIAC/ADIAC_D\")]\n",
    "}"
   ]
  }
 ],
 "metadata": {
  "kernelspec": {
   "display_name": "Python 3",
   "language": "python",
   "name": "python3"
  },
  "language_info": {
   "codemirror_mode": {
    "name": "ipython",
    "version": 3
   },
   "file_extension": ".py",
   "mimetype": "text/x-python",
   "name": "python",
   "nbconvert_exporter": "python",
   "pygments_lexer": "ipython3",
   "version": "3.6.9"
  }
 },
 "nbformat": 4,
 "nbformat_minor": 4
}
