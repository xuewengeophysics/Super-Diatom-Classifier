{
 "cells": [
  {
   "cell_type": "code",
   "execution_count": 7,
   "metadata": {},
   "outputs": [],
   "source": [
    "import os \n",
    "\n",
    "%run ../../global_variables.ipynb"
   ]
  },
  {
   "cell_type": "code",
   "execution_count": 9,
   "metadata": {},
   "outputs": [],
   "source": [
    "# Input dataset\n",
    "DATASET_PATH = DATASETS[\"atlas\"]+DATASETS[\"ADIAC_D\"]\n",
    "DATASET_DUST_PATH = DATASETS[\"dust\"]\n",
    "\n",
    "# Ouput\n",
    "DATASET_NAME = \"dataset02/\"\n",
    "SAVE_PATH = os.path.join(ROOT,\"datasets/artificial/\", DATASET_NAME)\n",
    "N_IMAGES = 5000\n",
    "SELECTED_TAXONS=\"../../../selected_taxons.txt\""
   ]
  },
  {
   "cell_type": "code",
   "execution_count": null,
   "metadata": {},
   "outputs": [],
   "source": []
  }
 ],
 "metadata": {
  "kernelspec": {
   "display_name": "Python 3",
   "language": "python",
   "name": "python3"
  },
  "language_info": {
   "codemirror_mode": {
    "name": "ipython",
    "version": 3
   },
   "file_extension": ".py",
   "mimetype": "text/x-python",
   "name": "python",
   "nbconvert_exporter": "python",
   "pygments_lexer": "ipython3",
   "version": "3.6.9"
  }
 },
 "nbformat": 4,
 "nbformat_minor": 4
}
