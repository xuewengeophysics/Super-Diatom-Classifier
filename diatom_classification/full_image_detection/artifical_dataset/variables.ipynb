{
 "cells": [
  {
   "cell_type": "code",
   "execution_count": 2,
   "metadata": {},
   "outputs": [],
   "source": [
    "import os \n",
    "\n",
    "%run ../../global_variables.ipynb"
   ]
  },
  {
   "cell_type": "code",
   "execution_count": null,
   "metadata": {},
   "outputs": [],
   "source": [
    "# Input dataset\n",
    "DATASET_PATH = DATASETS[\"atlas\"]\n",
    "DATASET_DUST_PATH = DATASETS[\"dust\"]\n",
    "\n",
    "# Ouput\n",
    "SAVE_PATH = os.path.join(ROOT,\"datasets/artificial/dataset04\")\n",
    "N_IMAGES = 20000\n",
    "SELECTED_TAXONS=\"../../../selected_taxons.txt\""
   ]
  }
 ],
 "metadata": {
  "kernelspec": {
   "display_name": "Python 3",
   "language": "python",
   "name": "python3"
  },
  "language_info": {
   "codemirror_mode": {
    "name": "ipython",
    "version": 3
   },
   "file_extension": ".py",
   "mimetype": "text/x-python",
   "name": "python",
   "nbconvert_exporter": "python",
   "pygments_lexer": "ipython3",
   "version": "3.6.9"
  }
 },
 "nbformat": 4,
 "nbformat_minor": 4
}
