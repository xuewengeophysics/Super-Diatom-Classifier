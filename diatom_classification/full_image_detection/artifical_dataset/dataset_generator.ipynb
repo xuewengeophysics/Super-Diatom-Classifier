{
 "cells": [
  {
   "cell_type": "code",
   "execution_count": 5,
   "metadata": {},
   "outputs": [],
   "source": [
    "from os import listdir\n",
    "from os.path import isfile, join\n",
    "import pickle\n",
    "from IPython.display import clear_output\n",
    "import PIL.Image\n",
    "\n",
    "%run ./generator.ipynb\n",
    "%run ./variables.ipynb\n",
    "%run ./utils.ipynb"
   ]
  },
  {
   "cell_type": "code",
   "execution_count": 6,
   "metadata": {},
   "outputs": [],
   "source": [
    "images = []\n",
    "for path in DATASET_PATH:\n",
    "    images.extend([f for f in listdir(path) if isfile(join(path, f))])\n",
    "\n",
    "selected_taxons = get_selected_taxons()\n",
    "tmp_code = {}\n",
    "i = 1\n",
    "for file in images:\n",
    "    taxon = file.split('_')[1]\n",
    "    if not(taxon in tmp_code) and (taxon in selected_taxons):\n",
    "        tmp_code[taxon] = i\n",
    "        i+=1\n",
    "\n",
    "savePickle(tmp_code, SAVE_PATH+\"/maps/multiclass_label_map.pickle\")\n",
    "binary_tmp_code = {}\n",
    "binary_tmp_code[\"diatom\"] = 1\n",
    "savePickle(binary_tmp_code, SAVE_PATH+\"/maps/binary_label_map.pickle\")"
   ]
  },
  {
   "cell_type": "code",
   "execution_count": null,
   "metadata": {},
   "outputs": [],
   "source": [
    "n_id = 0\n",
    "print(\"Generating\", N_IMAGES, \"images!\")\n",
    "for i in range(N_IMAGES):\n",
    "    string_id = '{:04d}'.format(n_id)\n",
    "    final_img, annotations = Generator_Img(DATASET_PATH = DATASET_PATH, simple_angles=False, size_px=1000, fast=True, verbose=False, overlapping=True)\n",
    "    saveImg(final_img, SAVE_PATH+\"/images/\"+string_id+\".png\");\n",
    "    \n",
    "    ## Saving individual masks\n",
    "    taxon_n = {}\n",
    "    paths = []\n",
    "    for annotation in annotations:\n",
    "        taxon = annotation[\"taxon\"]\n",
    "        if taxon in taxon_n:\n",
    "            taxon_n[taxon] += 1\n",
    "        else:\n",
    "            taxon_n[taxon] = 0\n",
    "        path_mask = \"masks/\"+string_id+\"_\"+taxon+\"_\"+'{:03d}'.format(taxon_n[taxon])+\".png\"\n",
    "        # Saving mask\n",
    "        img = PIL.Image.fromarray(annotation[\"patch_mask\"])\n",
    "        annotation.pop(\"patch_mask\")\n",
    "        #output = io.BytesIO()\n",
    "        check_dirs(join(SAVE_PATH, path_mask))\n",
    "        img.save(join(SAVE_PATH, path_mask), format='PNG')\n",
    "        annotation[\"mask_path\"] = path_mask\n",
    "    savePickle(annotations, SAVE_PATH+\"/annotations/bb_\"+string_id+\".pickle\")\n",
    "    clear_output(wait=True)\n",
    "    print(n_id+1,\"/\",N_IMAGES)\n",
    "    n_id += 1\n",
    "print(\"Finished!\")"
   ]
  },
  {
   "cell_type": "code",
   "execution_count": null,
   "metadata": {},
   "outputs": [],
   "source": []
  }
 ],
 "metadata": {
  "kernelspec": {
   "display_name": "Python 3",
   "language": "python",
   "name": "python3"
  },
  "language_info": {
   "codemirror_mode": {
    "name": "ipython",
    "version": 3
   },
   "file_extension": ".py",
   "mimetype": "text/x-python",
   "name": "python",
   "nbconvert_exporter": "python",
   "pygments_lexer": "ipython3",
   "version": "3.5.2"
  }
 },
 "nbformat": 4,
 "nbformat_minor": 4
}
