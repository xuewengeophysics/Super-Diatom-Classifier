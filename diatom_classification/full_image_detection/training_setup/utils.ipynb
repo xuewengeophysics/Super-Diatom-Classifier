{
 "cells": [
  {
   "cell_type": "code",
   "execution_count": 11,
   "metadata": {},
   "outputs": [],
   "source": [
    "import os, io\n",
    "from object_detection.protos.string_int_label_map_pb2 import StringIntLabelMap, StringIntLabelMapItem \n",
    "from google.protobuf import text_format\n",
    "import tensorflow as tf\n",
    "import cv2"
   ]
  },
  {
   "cell_type": "code",
   "execution_count": 2,
   "metadata": {},
   "outputs": [],
   "source": [
    "def create_pbtxt(idmap, output_path):\n",
    "    check_dirs(output_path)\n",
    "    msg = StringIntLabelMap()\n",
    "    for taxon in idmap:\n",
    "        id_taxon = idmap[taxon]\n",
    "        msg.item.append(StringIntLabelMapItem(id=id_taxon, name=taxon))\n",
    "    txt = str(text_format.MessageToBytes(msg, as_utf8=True), 'utf-8')\n",
    "    \n",
    "    with open(output_path, 'w') as f:\n",
    "        f.write(txt)\n",
    "\n",
    "def load_png(img_path):\n",
    "    img = cv2.imread(img_path, cv2.IMREAD_GRAYSCALE)\n",
    "    height, width = img.shape\n",
    "    encoded_image_data = cv2.imencode('.png', img)[1].tostring()\n",
    "    return encoded_image_data, width, height"
   ]
  }
 ],
 "metadata": {
  "kernelspec": {
   "display_name": "Python 3",
   "language": "python",
   "name": "python3"
  },
  "language_info": {
   "codemirror_mode": {
    "name": "ipython",
    "version": 3
   },
   "file_extension": ".py",
   "mimetype": "text/x-python",
   "name": "python",
   "nbconvert_exporter": "python",
   "pygments_lexer": "ipython3",
   "version": "3.6.9"
  }
 },
 "nbformat": 4,
 "nbformat_minor": 4
}
