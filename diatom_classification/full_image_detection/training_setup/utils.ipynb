{
 "cells": [
  {
   "cell_type": "code",
   "execution_count": 1,
   "metadata": {},
   "outputs": [],
   "source": [
    "import os\n",
    "from object_detection.protos.string_int_label_map_pb2 import StringIntLabelMap, StringIntLabelMapItem \n",
    "from google.protobuf import text_format\n",
    "import tensorflow as tf"
   ]
  },
  {
   "cell_type": "code",
   "execution_count": 2,
   "metadata": {},
   "outputs": [],
   "source": [
    "def create_pbtxt(idmap, output_path):\n",
    "    check_dirs(output_path)\n",
    "    msg = StringIntLabelMap()\n",
    "    for taxon in idmap:\n",
    "        id_taxon = idmap[taxon]\n",
    "        msg.item.append(StringIntLabelMapItem(id=id_taxon, name=taxon))\n",
    "    txt = str(text_format.MessageToBytes(msg, as_utf8=True), 'utf-8')\n",
    "    \n",
    "    with open(output_path, 'w') as f:\n",
    "        f.write(txt)\n",
    "        \n",
    "def load_png(img_path):\n",
    "    with tf.io.gfile.GFile(img_path, 'rb') as fid:\n",
    "        encoded_image_data = fid.read()\n",
    "    # Checking format\n",
    "    encoded_image_io = io.BytesIO(encoded_image_data)\n",
    "    image = PIL.Image.open(encoded_image_io)\n",
    "    if image.format != 'PNG':\n",
    "        raise ValueError('Image format not PNG')    \n",
    "    width, height = image.size\n",
    "    return encoded_image_data, width, height\n",
    "\n",
    "def check_dirs(filename):\n",
    "    if not os.path.exists(os.path.dirname(filename)):\n",
    "        try:\n",
    "            os.makedirs(os.path.dirname(filename))\n",
    "        except OSError as exc: # Guard against race condition\n",
    "            if exc.errno != errno.EEXIST:\n",
    "                raise"
   ]
  }
 ],
 "metadata": {
  "kernelspec": {
   "display_name": "Python 3",
   "language": "python",
   "name": "python3"
  },
  "language_info": {
   "codemirror_mode": {
    "name": "ipython",
    "version": 3
   },
   "file_extension": ".py",
   "mimetype": "text/x-python",
   "name": "python",
   "nbconvert_exporter": "python",
   "pygments_lexer": "ipython3",
   "version": "3.6.9"
  }
 },
 "nbformat": 4,
 "nbformat_minor": 4
}
