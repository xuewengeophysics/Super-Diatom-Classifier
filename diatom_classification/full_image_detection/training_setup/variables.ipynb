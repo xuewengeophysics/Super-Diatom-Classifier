{
 "cells": [
  {
   "cell_type": "code",
   "execution_count": 1,
   "metadata": {},
   "outputs": [],
   "source": [
    "import os"
   ]
  },
  {
   "cell_type": "code",
   "execution_count": 2,
   "metadata": {},
   "outputs": [],
   "source": [
    "ROOT = \"/mnt/nvme-storage/pfauregi/\"\n",
    "TRAIN_ROOT = os.path.join(ROOT, \"training/obj_detection/\")\n",
    "configs = {\n",
    "    \"binary_detection\": {\n",
    "        \"output_folder\":os.path.join(TRAIN_ROOT, \"ws_bd/dataset\"),\n",
    "        \"binary\": True,\n",
    "        \"segmentation\": False\n",
    "    }\n",
    "}\n",
    "\n",
    "\n",
    "SCHEME = \"binary_detection\"\n",
    "\n",
    "# Dataset\n",
    "DATA = os.path.join(ROOT, \"datasets/artificial/dataset03\")\n",
    "IMAGES_FOLDER = \"images\"\n",
    "ANNOTATIONS_FOLDER = \"annotations\"\n",
    "MAPS_FOLDER = \"maps\"\n",
    "MASK_FOLDER = \"masks\"\n",
    "# Conversion\n",
    "OUPUT_PATH = configs[SCHEME][\"output_folder\"]\n",
    "TRAIN_OUTPUT_FILE = \"train_dataset.record\"\n",
    "TEST_OUTPUT_FILE = \"test_dataset.record\"\n",
    "IMG_TYPE = \"png\"\n",
    "PERCENTAGE_TRAIN = 0.9\n",
    "BINARY = configs[SCHEME][\"binary\"]\n",
    "SEGMENTATION = configs[SCHEME][\"segmentation\"]"
   ]
  },
  {
   "cell_type": "code",
   "execution_count": null,
   "metadata": {},
   "outputs": [],
   "source": []
  }
 ],
 "metadata": {
  "kernelspec": {
   "display_name": "Python 3",
   "language": "python",
   "name": "python3"
  },
  "language_info": {
   "codemirror_mode": {
    "name": "ipython",
    "version": 3
   },
   "file_extension": ".py",
   "mimetype": "text/x-python",
   "name": "python",
   "nbconvert_exporter": "python",
   "pygments_lexer": "ipython3",
   "version": "3.6.9"
  }
 },
 "nbformat": 4,
 "nbformat_minor": 4
}
