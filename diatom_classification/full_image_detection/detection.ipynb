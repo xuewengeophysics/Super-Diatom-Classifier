{
 "cells": [
  {
   "cell_type": "markdown",
   "metadata": {
    "colab_type": "text",
    "id": "LBdjK2G5ywuc"
   },
   "source": [
    "# Imports"
   ]
  },
  {
   "cell_type": "code",
   "execution_count": 6,
   "metadata": {
    "colab": {},
    "colab_type": "code",
    "id": "hV4P5gyTWKMI"
   },
   "outputs": [],
   "source": [
    "import numpy as np\n",
    "import os\n",
    "import six.moves.urllib as urllib\n",
    "import sys\n",
    "import tarfile\n",
    "import tensorflow as tf\n",
    "import zipfile\n",
    "import io\n",
    "import cv2\n",
    "\n",
    "from collections import defaultdict\n",
    "from io import StringIO\n",
    "from matplotlib import pyplot as plt\n",
    "from PIL import Image\n",
    "from IPython.display import display\n",
    "import pathlib\n",
    "\n",
    "%run ../utils/object_detection_utils.ipynb\n",
    "%run ../utils/data_utils.ipynb\n",
    "%run ../global_variables.ipynb\n",
    "%run ./detect_variables.ipynb\n",
    "\n",
    "MODEL_ROOT = os.path.join(OD_ROOT, \"ws_bd/\")"
   ]
  },
  {
   "cell_type": "code",
   "execution_count": 7,
   "metadata": {
    "colab": {},
    "colab_type": "code",
    "id": "4-IMl4b6BdGO"
   },
   "outputs": [],
   "source": [
    "from object_detection.utils import ops as utils_ops\n",
    "from object_detection.utils import label_map_util\n",
    "from object_detection.utils import visualization_utils as vis_util\n",
    "utils_ops.tf = tf.compat.v1\n",
    "tf.gfile = tf.io.gfile"
   ]
  },
  {
   "cell_type": "markdown",
   "metadata": {
    "colab": {},
    "colab_type": "code",
    "id": "mF-YlMl8c_bM"
   },
   "source": [
    "# Loading model"
   ]
  },
  {
   "cell_type": "code",
   "execution_count": 8,
   "metadata": {},
   "outputs": [
    {
     "name": "stdout",
     "output_type": "stream",
     "text": [
      "INFO:tensorflow:Saver not created because there are no variables in the graph to restore\n"
     ]
    }
   ],
   "source": [
    "# Model\n",
    "model = tf.saved_model.load(os.path.join(MODEL_ROOT,\"export/saved_model/\"))\n",
    "model = model.signatures['serving_default']\n",
    "# Category index\n",
    "PATH_TO_LABELS = os.path.join(MODEL_ROOT,\"dataset/binary_label_map.pbtxt\")\n",
    "category_index = label_map_util.create_category_index_from_labelmap(PATH_TO_LABELS, use_display_name=True)"
   ]
  },
  {
   "cell_type": "markdown",
   "metadata": {
    "colab_type": "text",
    "id": "H0_1AGhrWKMc"
   },
   "source": [
    "# Visual test"
   ]
  },
  {
   "cell_type": "code",
   "execution_count": 47,
   "metadata": {},
   "outputs": [],
   "source": [
    "def draw_bbs(source, bbs, bbs_scores=None, min_score=0, colors=None):\n",
    "    img = source.copy()\n",
    "    for i, bb in enumerate(bbs):\n",
    "        if bbs_scores is None or bbs_scores[i]>min_score:\n",
    "            ymin, xmin, ymax, xmax = bb\n",
    "            cv2.rectangle(img, (xmin, ymin), (xmax, ymax), (255, 0, 0), 4)\n",
    "            if not bbs_scores is None:\n",
    "                color = (255, 0, 0) if (colors is None) else colors[i]\n",
    "                font = cv2.FONT_HERSHEY_SIMPLEX\n",
    "                text_scale=2\n",
    "                cv2.putText(img,  \"{:.2f}\".format(bbs_scores[i]), (xmin+5, ymin+int(text_scale*30)), font, text_scale*1, color, 3, cv2.LINE_AA)\n",
    "    return img"
   ]
  },
  {
   "cell_type": "code",
   "execution_count": 49,
   "metadata": {},
   "outputs": [
    {
     "name": "stdout",
     "output_type": "stream",
     "text": [
      "Saving: /mnt/balrog/pfauregi/rw/tmp/RUISSEAU-FORGES_02-SampleName2-8-7.tiff_comp.png\n",
      "Saving: /mnt/balrog/pfauregi/rw/tmp/RUISSEAU-FORGES_02-SampleName2-3-7.tiff_comp.png\n",
      "Saving: /mnt/balrog/pfauregi/rw/tmp/RUISSEAU-FORGES_02-SampleName2-11-7.tiff_comp.png\n",
      "Saving: /mnt/balrog/pfauregi/rw/tmp/RUISSEAU-FORGES_02-SampleName2-9-7.tiff_comp.png\n",
      "Saving: /mnt/balrog/pfauregi/rw/tmp/TEST_FECHT_06-SampleName2-1-12.tiff_comp.png\n",
      "Saving: /mnt/balrog/pfauregi/rw/tmp/RUISSEAU-FORGES_02-SampleName2-21-7.tiff_comp.png\n",
      "Saving: /mnt/balrog/pfauregi/rw/tmp/RUISSEAU-FORGES_02-SampleName2-6-7.tiff_comp.png\n",
      "Saving: /mnt/balrog/pfauregi/rw/tmp/RUISSEAU-FORGES_02-SampleName2-14-7.tiff_comp.png\n",
      "Saving: /mnt/balrog/pfauregi/rw/tmp/RUISSEAU-FORGES_02-SampleName2-15-7.tiff_comp.png\n",
      "Saving: /mnt/balrog/pfauregi/rw/tmp/RUISSEAU-FORGES_02-SampleName2-22-7.tiff_comp.png\n",
      "Saving: /mnt/balrog/pfauregi/rw/tmp/RUISSEAU-FORGES_02-SampleName2-10-7.tiff_comp.png\n",
      "Saving: /mnt/balrog/pfauregi/rw/tmp/RUISSEAU-FORGES_02-SampleName2-17-7.tiff_comp.png\n",
      "Saving: /mnt/balrog/pfauregi/rw/tmp/RUISSEAU-FORGES_02-SampleName2-23-7.tiff_comp.png\n",
      "Saving: /mnt/balrog/pfauregi/rw/tmp/RUISSEAU-FORGES_02-SampleName2-16-7.tiff_comp.png\n",
      "Saving: /mnt/balrog/pfauregi/rw/tmp/TEST_FECHT_01-SampleName2-1-7.tiff_comp.png\n",
      "Saving: /mnt/balrog/pfauregi/rw/tmp/RUISSEAU-FORGES_02-SampleName2-13-7.tiff_comp.png\n",
      "Saving: /mnt/balrog/pfauregi/rw/tmp/RUISSEAU-FORGES_02-SampleName2-25-7.tiff_comp.png\n",
      "Saving: /mnt/balrog/pfauregi/rw/tmp/RUISSEAU-FORGES_02-SampleName2-2-7.tiff_comp.png\n",
      "Saving: /mnt/balrog/pfauregi/rw/tmp/RUISSEAU-FORGES_02-SampleName2-19-7.tiff_comp.png\n",
      "Saving: /mnt/balrog/pfauregi/rw/tmp/RUISSEAU-FORGES_02-SampleName2-20-7.tiff_comp.png\n",
      "Saving: /mnt/balrog/pfauregi/rw/tmp/RUISSEAU-FORGES_02-SampleName2-24-7.tiff_comp.png\n",
      "Saving: /mnt/balrog/pfauregi/rw/tmp/RUISSEAU-FORGES_02-SampleName2-18-7.tiff_comp.png\n",
      "Saving: /mnt/balrog/pfauregi/rw/tmp/RUISSEAU-FORGES_02-SampleName2-1-7.tiff_comp.png\n",
      "Saving: /mnt/balrog/pfauregi/rw/tmp/RUISSEAU-FORGES_02-SampleName2-7-7.tiff_comp.png\n",
      "Saving: /mnt/balrog/pfauregi/rw/tmp/RUISSEAU-FORGES_02-SampleName2-4-7.tiff_comp.png\n",
      "Saving: /mnt/balrog/pfauregi/rw/tmp/RUISSEAU-FORGES_02-SampleName2-5-7.tiff_comp.png\n",
      "Saving: /mnt/balrog/pfauregi/rw/tmp/RUISSEAU-FORGES_02-SampleName2-12-7.tiff_comp.png\n"
     ]
    }
   ],
   "source": [
    "annotation_root=os.path.join(DATASET_ROOT, ANNOTATION_FOLDER)\n",
    "annotations_paths = return_all_files_in_folder_rec([annotation_root], [\"xml\"])\n",
    "for i, annotation_path in enumerate(annotations_paths):\n",
    "    annotation = parse_annotation(annotation_path)\n",
    "    if IMAGE_FOLDER is None:\n",
    "        image_path = os.path.join(DATASET_ROOT, annotation[\"folder\"], annotation[\"filename\"])\n",
    "    else:\n",
    "        image_path = os.path.join(DATASET_ROOT, IMAGE_FOLDER, annotation[\"filename\"])\n",
    "    image = load_image(image_path, expand=True)\n",
    "    height, width, channels = image.shape\n",
    "    # Fetching groundtruth bounding boxes\n",
    "    groundtruth_bbs = []\n",
    "    groundtruth_bbs_colors = []\n",
    "    for obj_bb in annotation[\"objects\"]:\n",
    "        if obj_bb[\"name\"] in [\"diatom\"]:\n",
    "            groundtruth_bbs.append([obj_bb[\"ymin\"], obj_bb[\"xmin\"], obj_bb[\"ymax\"], obj_bb[\"xmax\"]])\n",
    "    # Fetching predicted bounding boxes\n",
    "    prediction_result = run_inference_for_single_image(model, image)\n",
    "    predicted_bbs = []\n",
    "    predicted_bbs_scores = []\n",
    "    for box, score in zip(prediction_result['detection_boxes'], prediction_result['detection_scores']):\n",
    "        ymin, xmin, ymax, xmax = int(box[0]*height), int(box[1]*width), int(box[2]*height), int(box[3]*width)\n",
    "        predicted_bbs.append([ymin, xmin, ymax, xmax])\n",
    "        predicted_bbs_scores.append(score)\n",
    "    #print(groundtruth_bbs, predicted_bbs)\n",
    "    #display(Image.fromarray(comp_image))\n",
    "    image_prediction = draw_bbs(image, predicted_bbs, bbs_scores=predicted_bbs_scores, min_score=0.8)\n",
    "    image_groundtruth = draw_bbs(image, groundtruth_bbs)\n",
    "    # Creating and saving comparison image\n",
    "    comp_image = np.hstack((image_prediction, image_groundtruth))\n",
    "    comp_image_path = os.path.join(OUTPUT_TMP, annotation[\"filename\"]+\"_comp.png\")\n",
    "    if cv2.imwrite(comp_image_path, comp_image):\n",
    "        print(\"Saving:\",comp_image_path)\n",
    "    else:\n",
    "        print(\"Error while saving:\",comp_image_path)"
   ]
  },
  {
   "cell_type": "markdown",
   "metadata": {},
   "source": [
    "# Test with annotation"
   ]
  },
  {
   "cell_type": "code",
   "execution_count": 15,
   "metadata": {},
   "outputs": [
    {
     "name": "stdout",
     "output_type": "stream",
     "text": [
      "{'folder': 'sampling_images_20200513', 'filename': 'RUISSEAU-FORGES_02-SampleName2-8-7.tiff', 'size': {'width': 2048, 'height': 2048, 'depth': 1}, 'objects': [{'name': 'diatom_debri', 'xmin': 1382, 'ymin': 1149, 'xmax': 1610, 'ymax': 1413}, {'name': 'diatom_debri', 'xmin': 725, 'ymin': 238, 'xmax': 865, 'ymax': 377}]}\n"
     ]
    }
   ],
   "source": [
    "annotation_root=os.path.join(DATASET_ROOT, ANNOTATION_FOLDER)\n",
    "annotations_paths = return_all_files_in_folder_rec([annotation_root], [\"xml\"])\n",
    "annotation = parse_annotation(annotations_paths[0])\n",
    "print(annotation)"
   ]
  },
  {
   "cell_type": "code",
   "execution_count": null,
   "metadata": {},
   "outputs": [],
   "source": [
    "image_path = os.path.join(art_dataset_root, annotation[\"folder\"], annotation[\"filename\"])\n",
    "image = load_image(image_path, expand=True)\n",
    "height, width, channels = image.shape\n",
    "result = run_inference_for_single_image(model, image)\n",
    "#display(Image.fromarray(image))"
   ]
  },
  {
   "cell_type": "code",
   "execution_count": null,
   "metadata": {},
   "outputs": [],
   "source": [
    "for i in range(result[\"num_detections\"]):\n",
    "    box = result[\"detection_boxes\"][i]\n",
    "    detec_scores = result[\"detection_scores\"][i]\n",
    "    if detec_scores>0.8:\n",
    "        ymin, xmin, ymax, xmax = int(box[0]*height), int(box[1]*width), int(box[2]*height), int(box[3]*width)\n",
    "        thumbail = image[ymin:ymax, xmin:xmax, 0]\n",
    "        #display(Image.fromarray(thumbail))"
   ]
  },
  {
   "cell_type": "code",
   "execution_count": null,
   "metadata": {},
   "outputs": [],
   "source": [
    "from tensorflow.python.summary.summary_iterator import summary_iterator"
   ]
  },
  {
   "cell_type": "code",
   "execution_count": null,
   "metadata": {},
   "outputs": [],
   "source": [
    "for summary in summary_iterator(\"/mnt/nvme-storage/pfauregi/training/obj_detection/ws_bd/eval/events.out.tfevents.1589642628.balrog\"):\n",
    "    print(summary)"
   ]
  },
  {
   "cell_type": "code",
   "execution_count": null,
   "metadata": {},
   "outputs": [],
   "source": []
  }
 ],
 "metadata": {
  "accelerator": "GPU",
  "colab": {
   "collapsed_sections": [],
   "last_runtime": {
    "build_target": "//learning/brain/python/client:colab_notebook",
    "kind": "private"
   },
   "name": "object_detection_tutorial.ipynb",
   "private_outputs": true,
   "provenance": [
    {
     "file_id": "1LNYL6Zsn9Xlil2CVNOTsgDZQSBKeOjCh",
     "timestamp": 1566498233247
    },
    {
     "file_id": "/piper/depot/google3/third_party/tensorflow_models/object_detection/object_detection_tutorial.ipynb?workspaceId=markdaoust:copybara_AFABFE845DCD573AD3D43A6BAFBE77D4_0::citc",
     "timestamp": 1566488313397
    },
    {
     "file_id": "/piper/depot/google3/third_party/py/tensorflow_docs/g3doc/en/r2/tutorials/generative/object_detection_tutorial.ipynb?workspaceId=markdaoust:copybara_AFABFE845DCD573AD3D43A6BAFBE77D4_0::citc",
     "timestamp": 1566145894046
    },
    {
     "file_id": "1nBPoWynOV0auSIy40eQcBIk9C6YRSkI8",
     "timestamp": 1566145841085
    },
    {
     "file_id": "/piper/depot/google3/third_party/tensorflow_models/object_detection/object_detection_tutorial.ipynb?workspaceId=markdaoust:copybara_AFABFE845DCD573AD3D43A6BAFBE77D4_0::citc",
     "timestamp": 1556295408037
    },
    {
     "file_id": "1layerger-51XwWOwYMY_5zHaCavCeQkO",
     "timestamp": 1556214267924
    },
    {
     "file_id": "/piper/depot/google3/third_party/tensorflow_models/object_detection/object_detection_tutorial.ipynb?workspaceId=markdaoust:copybara_AFABFE845DCD573AD3D43A6BAFBE77D4_0::citc",
     "timestamp": 1556207836484
    },
    {
     "file_id": "1w6mqQiNV3liPIX70NOgitOlDF1_4sRMw",
     "timestamp": 1556154824101
    },
    {
     "file_id": "https://github.com/tensorflow/models/blob/master/research/object_detection/object_detection_tutorial.ipynb",
     "timestamp": 1556150293326
    }
   ],
   "version": "0.3.2"
  },
  "kernelspec": {
   "display_name": "Python 3",
   "language": "python",
   "name": "python3"
  },
  "language_info": {
   "codemirror_mode": {
    "name": "ipython",
    "version": 3
   },
   "file_extension": ".py",
   "mimetype": "text/x-python",
   "name": "python",
   "nbconvert_exporter": "python",
   "pygments_lexer": "ipython3",
   "version": "3.6.8"
  }
 },
 "nbformat": 4,
 "nbformat_minor": 4
}
