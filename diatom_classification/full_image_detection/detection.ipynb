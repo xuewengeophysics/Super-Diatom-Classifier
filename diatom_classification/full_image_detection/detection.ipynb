{
 "cells": [
  {
   "cell_type": "markdown",
   "metadata": {
    "colab_type": "text",
    "id": "LBdjK2G5ywuc"
   },
   "source": [
    "# Imports"
   ]
  },
  {
   "cell_type": "code",
   "execution_count": null,
   "metadata": {
    "colab": {},
    "colab_type": "code",
    "id": "hV4P5gyTWKMI"
   },
   "outputs": [],
   "source": [
    "import numpy as np\n",
    "import os\n",
    "import six.moves.urllib as urllib\n",
    "import sys\n",
    "import tarfile\n",
    "import tensorflow as tf\n",
    "import zipfile\n",
    "import io\n",
    "import cv2\n",
    "\n",
    "from collections import defaultdict\n",
    "from io import StringIO\n",
    "from matplotlib import pyplot as plt\n",
    "from PIL import Image\n",
    "from IPython.display import display\n",
    "import pathlib\n",
    "\n",
    "%run ../utils/object_detection_utils.ipynb\n",
    "%run ../utils/data_utils.ipynb\n",
    "%run ../global_variables.ipynb\n",
    "%run ./detect_variables.ipynb\n",
    "\n",
    "MODEL_ROOT = os.path.join(OD_ROOT, \"ws_bd/\")"
   ]
  },
  {
   "cell_type": "code",
   "execution_count": null,
   "metadata": {
    "colab": {},
    "colab_type": "code",
    "id": "4-IMl4b6BdGO"
   },
   "outputs": [],
   "source": [
    "from object_detection.utils import ops as utils_ops\n",
    "from object_detection.utils import label_map_util\n",
    "from object_detection.utils import visualization_utils as vis_util\n",
    "utils_ops.tf = tf.compat.v1\n",
    "tf.gfile = tf.io.gfile"
   ]
  },
  {
   "cell_type": "markdown",
   "metadata": {
    "colab": {},
    "colab_type": "code",
    "id": "mF-YlMl8c_bM"
   },
   "source": [
    "# Loading model"
   ]
  },
  {
   "cell_type": "code",
   "execution_count": null,
   "metadata": {},
   "outputs": [],
   "source": [
    "# Model\n",
    "model = tf.saved_model.load(os.path.join(MODEL_ROOT,\"export/saved_model/\"))\n",
    "model = model.signatures['serving_default']\n",
    "# Category index\n",
    "PATH_TO_LABELS = os.path.join(MODEL_ROOT,\"dataset/binary_label_map.pbtxt\")\n",
    "category_index = label_map_util.create_category_index_from_labelmap(PATH_TO_LABELS, use_display_name=True)"
   ]
  },
  {
   "cell_type": "markdown",
   "metadata": {
    "colab_type": "text",
    "id": "H0_1AGhrWKMc"
   },
   "source": [
    "# Visual test"
   ]
  },
  {
   "cell_type": "code",
   "execution_count": null,
   "metadata": {},
   "outputs": [],
   "source": [
    "annotation_root=os.path.join(DATASET_ROOT, ANNOTATION_FOLDER)\n",
    "annotations_paths = return_all_files_in_folder_rec([annotation_root], [\"xml\"])\n",
    "for annotation_path in annotations:\n",
    "    annotation = parse_annotation(annotation_path)\n",
    "    if IMAGE_FOLDER is None:\n",
    "        image_path = os.path.join(DATASET_ROOT, annotation[\"folder\"], annotation[\"filename\"])\n",
    "    else:\n",
    "        image_path = os.path.join(DATASET_ROOT, IMAGE_FOLDER, annotation[\"filename\"])\n",
    "    image = load_image(image_path, expand=True)\n",
    "    display(Image.fromarray(image))\n",
    "    '''\n",
    "    result = run_inference_for_single_image(model, sample)\n",
    "    img_inf = draw_inference(result, sample, 30, min_thresold=0.9)\n",
    "    cv2.imwrite(os.path.join(OUTPUT_TMP, str(i)+\".png\"), img_inf)\n",
    "    '''"
   ]
  },
  {
   "cell_type": "markdown",
   "metadata": {},
   "source": [
    "# Test with annotation"
   ]
  },
  {
   "cell_type": "code",
   "execution_count": null,
   "metadata": {},
   "outputs": [],
   "source": [
    "art_dataset_root = os.path.join(DATASETS_ROOT, \"artificial/dataset01/\")\n",
    "art_dataset_root\n",
    "annotations = return_all_files_in_folder_rec(paths, ALLOWED_EXTS) os.path.join(art_dataset_root, \"annotations/00054.xml\")\n",
    "annotation = parse_annotation(annotation_path)\n",
    "print(annotation)"
   ]
  },
  {
   "cell_type": "code",
   "execution_count": null,
   "metadata": {},
   "outputs": [],
   "source": [
    "image_path = os.path.join(art_dataset_root, annotation[\"folder\"], annotation[\"filename\"])\n",
    "image = load_image(image_path, expand=True)\n",
    "height, width, channels = image.shape\n",
    "result = run_inference_for_single_image(model, image)\n",
    "#display(Image.fromarray(image))"
   ]
  },
  {
   "cell_type": "code",
   "execution_count": null,
   "metadata": {},
   "outputs": [],
   "source": [
    "for i in range(result[\"num_detections\"]):\n",
    "    box = result[\"detection_boxes\"][i]\n",
    "    detec_scores = result[\"detection_scores\"][i]\n",
    "    if detec_scores>0.8:\n",
    "        ymin, xmin, ymax, xmax = int(box[0]*height), int(box[1]*width), int(box[2]*height), int(box[3]*width)\n",
    "        thumbail = image[ymin:ymax, xmin:xmax, 0]\n",
    "        #display(Image.fromarray(thumbail))"
   ]
  },
  {
   "cell_type": "code",
   "execution_count": null,
   "metadata": {},
   "outputs": [],
   "source": [
    "from tensorflow.python.summary.summary_iterator import summary_iterator"
   ]
  },
  {
   "cell_type": "code",
   "execution_count": null,
   "metadata": {},
   "outputs": [],
   "source": [
    "for summary in summary_iterator(\"/mnt/nvme-storage/pfauregi/training/obj_detection/ws_bd/eval/events.out.tfevents.1589642628.balrog\"):\n",
    "    print(summary)"
   ]
  },
  {
   "cell_type": "code",
   "execution_count": null,
   "metadata": {},
   "outputs": [],
   "source": []
  }
 ],
 "metadata": {
  "accelerator": "GPU",
  "colab": {
   "collapsed_sections": [],
   "last_runtime": {
    "build_target": "//learning/brain/python/client:colab_notebook",
    "kind": "private"
   },
   "name": "object_detection_tutorial.ipynb",
   "private_outputs": true,
   "provenance": [
    {
     "file_id": "1LNYL6Zsn9Xlil2CVNOTsgDZQSBKeOjCh",
     "timestamp": 1566498233247
    },
    {
     "file_id": "/piper/depot/google3/third_party/tensorflow_models/object_detection/object_detection_tutorial.ipynb?workspaceId=markdaoust:copybara_AFABFE845DCD573AD3D43A6BAFBE77D4_0::citc",
     "timestamp": 1566488313397
    },
    {
     "file_id": "/piper/depot/google3/third_party/py/tensorflow_docs/g3doc/en/r2/tutorials/generative/object_detection_tutorial.ipynb?workspaceId=markdaoust:copybara_AFABFE845DCD573AD3D43A6BAFBE77D4_0::citc",
     "timestamp": 1566145894046
    },
    {
     "file_id": "1nBPoWynOV0auSIy40eQcBIk9C6YRSkI8",
     "timestamp": 1566145841085
    },
    {
     "file_id": "/piper/depot/google3/third_party/tensorflow_models/object_detection/object_detection_tutorial.ipynb?workspaceId=markdaoust:copybara_AFABFE845DCD573AD3D43A6BAFBE77D4_0::citc",
     "timestamp": 1556295408037
    },
    {
     "file_id": "1layerger-51XwWOwYMY_5zHaCavCeQkO",
     "timestamp": 1556214267924
    },
    {
     "file_id": "/piper/depot/google3/third_party/tensorflow_models/object_detection/object_detection_tutorial.ipynb?workspaceId=markdaoust:copybara_AFABFE845DCD573AD3D43A6BAFBE77D4_0::citc",
     "timestamp": 1556207836484
    },
    {
     "file_id": "1w6mqQiNV3liPIX70NOgitOlDF1_4sRMw",
     "timestamp": 1556154824101
    },
    {
     "file_id": "https://github.com/tensorflow/models/blob/master/research/object_detection/object_detection_tutorial.ipynb",
     "timestamp": 1556150293326
    }
   ],
   "version": "0.3.2"
  },
  "kernelspec": {
   "display_name": "Python 3",
   "language": "python",
   "name": "python3"
  },
  "language_info": {
   "codemirror_mode": {
    "name": "ipython",
    "version": 3
   },
   "file_extension": ".py",
   "mimetype": "text/x-python",
   "name": "python",
   "nbconvert_exporter": "python",
   "pygments_lexer": "ipython3",
   "version": "3.6.9"
  }
 },
 "nbformat": 4,
 "nbformat_minor": 4
}
