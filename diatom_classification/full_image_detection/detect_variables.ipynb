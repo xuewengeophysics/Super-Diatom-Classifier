{
 "cells": [
  {
   "cell_type": "code",
   "execution_count": null,
   "metadata": {},
   "outputs": [],
   "source": [
    "import os"
   ]
  },
  {
   "cell_type": "code",
   "execution_count": null,
   "metadata": {},
   "outputs": [],
   "source": [
    "TRAIN_ROOT = os.path.join(ROOT, \"training/obj_detection/\")\n",
    "configs = {\n",
    "    \"dataset01\": {\n",
    "        \"output_folder\":os.path.join(TRAIN_ROOT, \"ws_bd/dataset\"),\n",
    "        \"binary\": True,\n",
    "        \"segmentation\": False,\n",
    "        \"dataset_root\": os.path.join(ROOT, \"datasets/artificial/dataset01\"),\n",
    "        \"train_folder\": \"train/\",\n",
    "        \"val_folder\": \"val/\",\n",
    "        \"image_folder\": None,\n",
    "        \"filter\": None\n",
    "    },\n",
    "    \"dataset02\": {\n",
    "        \"output_folder\":os.path.join(TRAIN_ROOT, \"ws_bd2/dataset\"),\n",
    "        \"binary\": True,\n",
    "        \"segmentation\": False,\n",
    "        \"dataset_root\": os.path.join(ROOT, \"datasets/artificial/dataset02\"),\n",
    "        \"train_folder\": \"train/\",\n",
    "        \"val_folder\": \"val/\",\n",
    "        \"image_folder\": None,\n",
    "        \"filter\": None\n",
    "    },\n",
    "    \"test_set\": {\n",
    "        \"output_folder\":os.path.join(TRAIN_ROOT, \"eval/test_set/\"),\n",
    "        \"binary\": True,\n",
    "        \"segmentation\": False,\n",
    "        \"dataset_root\": os.path.join(ROOT, \"datasets/test_set/\"),\n",
    "        \"image_folder\": \"images/\",\n",
    "        \"train_folder\": \".\",\n",
    "        \"val_folder\": \".\",\n",
    "        \"filter\": [\"diatom\"]\n",
    "    }\n",
    "}\n",
    "\n",
    "SCHEME = \"dataset02\"\n",
    "\n",
    "# Dataset\n",
    "DATASET_ROOT = configs[SCHEME][\"dataset_root\"]\n",
    "TRAIN_FOLDER = configs[SCHEME][\"train_folder\"]\n",
    "VAL_FOLDER = configs[SCHEME][\"val_folder\"]\n",
    "ANNOTATION_FOLDER = \"annotations\"\n",
    "MAP_FOLDER = \"maps\"\n",
    "IMAGE_FOLDER = configs[SCHEME][\"image_folder\"] # if None, use the folder tag of the xml annotation\n",
    "# Conversion\n",
    "OUPUT_PATH = configs[SCHEME][\"output_folder\"]\n",
    "TRAIN_OUTPUT_FILE = \"train_dataset.record\"\n",
    "TEST_OUTPUT_FILE = \"test_dataset.record\"\n",
    "IMG_TYPE = \"png\"\n",
    "BINARY = configs[SCHEME][\"binary\"]\n",
    "SEGMENTATION = configs[SCHEME][\"segmentation\"]\n",
    "FILTER = configs[SCHEME][\"filter\"]"
   ]
  }
 ],
 "metadata": {
  "kernelspec": {
   "display_name": "Python 3",
   "language": "python",
   "name": "python3"
  },
  "language_info": {
   "codemirror_mode": {
    "name": "ipython",
    "version": 3
   },
   "file_extension": ".py",
   "mimetype": "text/x-python",
   "name": "python",
   "nbconvert_exporter": "python",
   "pygments_lexer": "ipython3",
   "version": "3.6.9"
  }
 },
 "nbformat": 4,
 "nbformat_minor": 4
}
