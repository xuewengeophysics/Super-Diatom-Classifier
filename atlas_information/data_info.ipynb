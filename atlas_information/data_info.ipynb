{
 "cells": [
  {
   "cell_type": "code",
   "execution_count": 1,
   "metadata": {},
   "outputs": [],
   "source": [
    "import xlrd\n",
    "import pandas as pd\n",
    "import numpy as np\n",
    "from os import listdir\n",
    "from os.path import isfile, join\n",
    "import matplotlib.pyplot as plt\n",
    "from collections import OrderedDict\n",
    "from openpyxl import Workbook"
   ]
  },
  {
   "cell_type": "code",
   "execution_count": 3,
   "metadata": {},
   "outputs": [],
   "source": [
    "#DATASET_PATH = \"../../../nvme-storage/RA/tmp\"\n",
    "DATASET_PATH =  \"../../../nvme-storage/idf/atlas_idf_V1\"\n",
    "\n",
    "classeur = pd.read_excel(\"/mnt/nvme-storage/souhila/Info_BR_M.xlsx\")\n",
    "classeur2 = pd.read_excel(\"/mnt/nvme-storage/souhila/Info_BR_M.xlsx\" ,index_col= [0])\n",
    "\n",
    "images = [f for f in listdir(DATASET_PATH) if isfile(join(DATASET_PATH, f))]\n",
    "#classeur = classeur.drop(['Unnamed: 5', 'Unnamed: 6' ,'Unnamed: 7','Unnamed: 8' ,'Unnamed: 9' ,'Unnamed: 10' ,'Unnamed: 11' ,'Unnamed: 12' ,'Unnamed: 13','Unnamed: 14','Unnamed: 15','Unnamed: 16','Unnamed: 17'], axis=1) \n",
    "#classeur2 = classeur2.drop(['Unnamed: 5', 'Unnamed: 6' ,'Unnamed: 7','Unnamed: 8' ,'Unnamed: 9' ,'Unnamed: 10' ,'Unnamed: 11' ,'Unnamed: 12' ,'Unnamed: 13','Unnamed: 14','Unnamed: 15','Unnamed: 16','Unnamed: 17'], axis=1) \n"
   ]
  },
  {
   "cell_type": "code",
   "execution_count": 4,
   "metadata": {},
   "outputs": [],
   "source": [
    "def count_taxon(images):\n",
    "    \n",
    "    region = images[0].split('_')[0]  \n",
    "    tax = []\n",
    "    \n",
    "    for file in images :\n",
    "        tax.append(file.split('_')[1])\n",
    "    compte = {k: tax.count(k) for k in set(tax)}\n",
    "    return(region, compte)"
   ]
  },
  {
   "cell_type": "code",
   "execution_count": 5,
   "metadata": {},
   "outputs": [],
   "source": [
    "def index_info_data(classeur, region, compte):\n",
    "    \n",
    "    dico = []\n",
    "    dico = dict(classeur)\n",
    "    \n",
    "    if dico.__contains__(region) == False:\n",
    "        dico_RA = {}\n",
    "        for x in dico['Codes']:\n",
    "            if x in compte:\n",
    "                dico_RA[x] = compte[x]\n",
    "            else:\n",
    "                dico_RA[x] = 0\n",
    "    else:\n",
    "        print('Error : le dossier '+ region + ' a déjà été prit en compte')\n",
    "    \n",
    "   \n",
    "    return (dico_RA, dico, region)"
   ]
  },
  {
   "cell_type": "code",
   "execution_count": 6,
   "metadata": {},
   "outputs": [],
   "source": [
    "def fill_info_data(dico_RA,classeur2,dico, region):\n",
    "    a = list(dico_RA.values())\n",
    "    b = list(dico_RA.keys())\n",
    "    z = pd.DataFrame(a, columns = [region],index = b)\n",
    "    Z1 = pd.DataFrame({region: [0]},columns = [region],index = dico['Codes'] ) + z\n",
    "    #classeur['RA'] = pd.DataFrame({'RA': [0]},columns = ['RA'],index = dico['Codes'] ) + z\n",
    "    Z2 = pd.merge(classeur2, Z1, left_index = True, right_index = True)\n",
    "    return(Z2)"
   ]
  },
  {
   "cell_type": "code",
   "execution_count": 7,
   "metadata": {},
   "outputs": [],
   "source": [
    "region, compte =count_taxon(images)\n",
    "dico_RA, dico, region = index_info_data(classeur, region, compte)\n",
    "Z2 = fill_info_data(dico_RA,classeur2,dico,region)\n",
    "writer = pd.ExcelWriter(\"/mnt/nvme-storage/souhila/Info_BR_M.xlsx\")\n",
    "Z2.to_excel(writer, \"Sheet1\",index = True)\n",
    "writer.save()"
   ]
  },
  {
   "cell_type": "code",
   "execution_count": null,
   "metadata": {},
   "outputs": [],
   "source": []
  }
 ],
 "metadata": {
  "kernelspec": {
   "display_name": "Python 3",
   "language": "python",
   "name": "python3"
  },
  "language_info": {
   "codemirror_mode": {
    "name": "ipython",
    "version": 3
   },
   "file_extension": ".py",
   "mimetype": "text/x-python",
   "name": "python",
   "nbconvert_exporter": "python",
   "pygments_lexer": "ipython3",
   "version": "3.5.2"
  }
 },
 "nbformat": 4,
 "nbformat_minor": 4
}
