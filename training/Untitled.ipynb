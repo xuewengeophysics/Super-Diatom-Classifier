{
 "cells": [
  {
   "cell_type": "code",
   "execution_count": 6,
   "metadata": {},
   "outputs": [],
   "source": [
    "import numpy as np\n",
    "import matplotlib.pyplot as plt\n",
    "import cv2"
   ]
  },
  {
   "cell_type": "code",
   "execution_count": 34,
   "metadata": {},
   "outputs": [
    {
     "data": {
      "image/png": "[encoded data removed]",
      "text/plain": [
       "<Figure size 288x720 with 1 Axes>"
      ]
     },
     "metadata": {
      "needs_background": "light"
     },
     "output_type": "display_data"
    }
   ],
   "source": [
    "radius = 60\n",
    "w, h = rr.shape\n",
    "thickness = -1\n",
    "color = 255\n",
    "rr = np.zeros((500, 200))\n",
    "rr = cv2.circle(rr, (radius, radius), radius, color, thickness) \n",
    "rr = cv2.circle(rr, (h-radius, radius), radius, color, thickness) \n",
    "rr = cv2.circle(rr, (radius, w-radius), radius, color, thickness) \n",
    "rr = cv2.circle(rr, (h-radius, w-radius), radius, color, thickness) \n",
    "rr = cv2.rectangle(rr, (0, radius), (h, w-radius), color, thickness) \n",
    "rr = cv2.rectangle(rr, (radius, 0), (h-radius, w), color, thickness) \n",
    "\n",
    "plt.matshow(rr)\n",
    "plt.show()"
   ]
  },
  {
   "cell_type": "code",
   "execution_count": 14,
   "metadata": {},
   "outputs": [
    {
     "data": {
      "text/plain": [
       "500"
      ]
     },
     "execution_count": 14,
     "metadata": {},
     "output_type": "execute_result"
    }
   ],
   "source": [
    "w"
   ]
  },
  {
   "cell_type": "code",
   "execution_count": null,
   "metadata": {},
   "outputs": [],
   "source": []
  }
 ],
 "metadata": {
  "kernelspec": {
   "display_name": "Python 3",
   "language": "python",
   "name": "python3"
  },
  "language_info": {
   "codemirror_mode": {
    "name": "ipython",
    "version": 3
   },
   "file_extension": ".py",
   "mimetype": "text/x-python",
   "name": "python",
   "nbconvert_exporter": "python",
   "pygments_lexer": "ipython3",
   "version": "3.5.2"
  }
 },
 "nbformat": 4,
 "nbformat_minor": 4
}
