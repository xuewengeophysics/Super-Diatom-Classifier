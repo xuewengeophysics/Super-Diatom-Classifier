{
 "cells": [
  {
   "cell_type": "code",
   "execution_count": null,
   "metadata": {},
   "outputs": [],
   "source": [
    "DATA = \"./raw_dataset\"\n",
    "PNG_FOLDER = \"images\"\n",
    "LABELS_FOLDER = \"annotations\"\n",
    "IDS_FOLDER = \"ids\"\n",
    "OUPUT_PATH = \"./tf_records\"\n",
    "TRAIN_OUTPUT_PATH = \"./tf_records/train_dataset.record\"\n",
    "TEST_OUTPUT_PATH = \"./tf_records/test_dataset.record\"\n",
    "IMG_TYPE = \"png\"\n",
    "PERCENTAGE_TRAIN = 0.8"
   ]
  },
  {
   "cell_type": "code",
   "execution_count": null,
   "metadata": {},
   "outputs": [],
   "source": []
  }
 ],
 "metadata": {
  "kernelspec": {
   "display_name": "Python 3",
   "language": "python",
   "name": "python3"
  },
  "language_info": {
   "codemirror_mode": {
    "name": "ipython",
    "version": 3
   },
   "file_extension": ".py",
   "mimetype": "text/x-python",
   "name": "python",
   "nbconvert_exporter": "python",
   "pygments_lexer": "ipython3",
   "version": "3.5.2"
  }
 },
 "nbformat": 4,
 "nbformat_minor": 4
}
