{
 "cells": [
  {
   "cell_type": "code",
   "execution_count": 1,
   "metadata": {},
   "outputs": [
    {
     "name": "stdout",
     "output_type": "stream",
     "text": [
      "Tensorflow version:  2.1.0\n",
      "Eager execution:  True\n",
      "Listing CPUs:  [PhysicalDevice(name='/physical_device:CPU:0', device_type='CPU')]\n",
      "Listing GPUs:  [PhysicalDevice(name='/physical_device:GPU:0', device_type='GPU'), PhysicalDevice(name='/physical_device:GPU:1', device_type='GPU')]\n"
     ]
    }
   ],
   "source": [
    "import hashlib\n",
    "import io\n",
    "import logging\n",
    "import os\n",
    "\n",
    "from object_detection.utils import dataset_util\n",
    "\n",
    "import tensorflow as tf\n",
    "from tensorflow import keras\n",
    "import time\n",
    "print('Tensorflow version: ', tf.__version__)\n",
    "print(\"Eager execution: \", tf.executing_eagerly())\n",
    "print(\"Listing CPUs: \", tf.config.list_physical_devices('CPU'))\n",
    "print(\"Listing GPUs: \", tf.config.list_physical_devices('GPU'))"
   ]
  },
  {
   "cell_type": "code",
   "execution_count": 2,
   "metadata": {},
   "outputs": [],
   "source": [
    "RAW_DATASET = \"./raw_dataset\"\n",
    "OUTPUT_PATH = \"./dataset/dataset.record\"\n",
    "\n",
    "PNG_FOLDER = \"png_img\"\n",
    "LABELS_FOLDER = \"labels\""
   ]
  },
  {
   "cell_type": "code",
   "execution_count": 5,
   "metadata": {},
   "outputs": [],
   "source": [
    "writer = tf.io.TFRecordWriter(OUTPUT_PATH)\n",
    "\n",
    "writer.close()"
   ]
  },
  {
   "cell_type": "code",
   "execution_count": null,
   "metadata": {},
   "outputs": [],
   "source": []
  }
 ],
 "metadata": {
  "kernelspec": {
   "display_name": "diatoms",
   "language": "python",
   "name": "diatoms"
  },
  "language_info": {
   "codemirror_mode": {
    "name": "ipython",
    "version": 3
   },
   "file_extension": ".py",
   "mimetype": "text/x-python",
   "name": "python",
   "nbconvert_exporter": "python",
   "pygments_lexer": "ipython3",
   "version": "3.5.2"
  }
 },
 "nbformat": 4,
 "nbformat_minor": 4
}
