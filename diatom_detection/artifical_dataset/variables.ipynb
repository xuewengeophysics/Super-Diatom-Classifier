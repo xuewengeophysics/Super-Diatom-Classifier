{
 "cells": [
  {
   "cell_type": "code",
   "execution_count": 1,
   "metadata": {},
   "outputs": [],
   "source": [
    "DATASET_PATH = [\"/mnt/nvme-storage/pfauregi/datasets/atlas/ra\", \"/mnt/nvme-storage/pfauregi/datasets/atlas/idf\"]\n",
    "DATASET_DUST_PATH = [\"/mnt/nvme-storage/pfauregi/datasets/dust01\"]\n",
    "SAVE_PATH = \"/mnt/nvme-storage/pfauregi/artificial_datasets/dataset03\"\n",
    "N_IMAGES = 10"
   ]
  }
 ],
 "metadata": {
  "kernelspec": {
   "display_name": "Python 3",
   "language": "python",
   "name": "python3"
  },
  "language_info": {
   "codemirror_mode": {
    "name": "ipython",
    "version": 3
   },
   "file_extension": ".py",
   "mimetype": "text/x-python",
   "name": "python",
   "nbconvert_exporter": "python",
   "pygments_lexer": "ipython3",
   "version": "3.5.2"
  }
 },
 "nbformat": 4,
 "nbformat_minor": 4
}
