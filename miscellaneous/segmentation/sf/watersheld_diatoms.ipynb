{
 "cells": [
  {
   "cell_type": "code",
   "execution_count": null,
   "metadata": {},
   "outputs": [],
   "source": [
    "\n",
    "\n",
    "img = cv2.imread('coins.jpg')\n",
    "b,g,r = cv2.split(img)\n",
    "rgb_img = cv2.merge([r,g,b])\n",
    "\n",
    "gray = cv2.cvtColor(img,cv2.COLOR_BGR2GRAY)\n",
    "ret, thresh = cv2.threshold(gray,0,255,cv2.THRESH_BINARY_INV+cv2.THRESH_OTSU)\n",
    "\n",
    "# noise removal\n",
    "kernel = np.ones((2,2),np.uint8)\n",
    "#opening = cv2.morphologyEx(thresh,cv2.MORPH_OPEN,kernel, iterations = 2)\n",
    "closing = cv2.morphologyEx(thresh,cv2.MORPH_CLOSE,kernel, iterations = 2)\n",
    "\n",
    "# sure background area\n",
    "sure_bg = cv2.dilate(closing,kernel,iterations=3)\n",
    "\n",
    "# Finding sure foreground area\n",
    "dist_transform = cv2.distanceTransform(sure_bg,cv2.DIST_L2,3)\n",
    "\n",
    "# Threshold\n",
    "ret, sure_fg = cv2.threshold(dist_transform,0.1*dist_transform.max(),255,0)\n",
    "\n",
    "# Finding unknown region\n",
    "sure_fg = np.uint8(sure_fg)\n",
    "unknown = cv2.subtract(sure_bg,sure_fg)\n",
    "\n",
    "# Marker labelling\n",
    "ret, markers = cv2.connectedComponents(sure_fg)\n",
    "\n",
    "# Add one to all labels so that sure background is not 0, but 1\n",
    "markers = markers+1\n",
    "\n",
    "# Now, mark the region of unknown with zero\n",
    "markers[unknown==255] = 0\n",
    "\n",
    "markers = cv2.watershed(img,markers)\n",
    "img[markers == -1] = [255,0,0]\n",
    "\n",
    "plt.subplot(421),plt.imshow(rgb_img)\n",
    "plt.title('Input Image'), plt.xticks([]), plt.yticks([])\n",
    "plt.subplot(422),plt.imshow(thresh, 'gray')\n",
    "plt.title(\"Otsu's binary threshold\"), plt.xticks([]), plt.yticks([])\n",
    "\n",
    "plt.subplot(423),plt.imshow(closing, 'gray')\n",
    "plt.title(\"morphologyEx:Closing:2x2\"), plt.xticks([]), plt.yticks([])\n",
    "plt.subplot(424),plt.imshow(sure_bg, 'gray')\n",
    "plt.title(\"Dilation\"), plt.xticks([]), plt.yticks([])\n",
    "\n",
    "plt.subplot(425),plt.imshow(dist_transform, 'gray')\n",
    "plt.title(\"Distance Transform\"), plt.xticks([]), plt.yticks([])\n",
    "plt.subplot(426),plt.imshow(sure_fg, 'gray')\n",
    "plt.title(\"Thresholding\"), plt.xticks([]), plt.yticks([])\n",
    "\n",
    "plt.subplot(427),plt.imshow(unknown, 'gray')\n",
    "plt.title(\"Unknown\"), plt.xticks([]), plt.yticks([])\n",
    "\n",
    "plt.subplot(428),plt.imshow(img, 'gray')\n",
    "plt.title(\"Result from Watershed\"), plt.xticks([]), plt.yticks([])\n",
    "\n",
    "plt.tight_layout()\n",
    "plt.show()"
   ]
  },
  {
   "cell_type": "code",
   "execution_count": null,
   "metadata": {},
   "outputs": [],
   "source": [
    "import numpy as np\n",
    "import cv2\n",
    "from matplotlib import pyplot as plt\n",
    "from os import listdir\n",
    "from os.path import isfile, join\n",
    "import os.path\n",
    "import random\n",
    "\n",
    "from PIL import Image, ImageFilter\n",
    "\n",
    "%run ../../../Super-Diatomee-Classifier/artifical_dataset/utils.ipynb\n",
    "\n"
   ]
  },
  {
   "cell_type": "code",
   "execution_count": null,
   "metadata": {},
   "outputs": [],
   "source": [
    "DATASET_PATH = os.path.abspath(\"../../../Super-Diatomee-Classifier/artifical_dataset/data/ra\")"
   ]
  },
  {
   "cell_type": "code",
   "execution_count": null,
   "metadata": {},
   "outputs": [],
   "source": [
    "#import d'images\n",
    "images = [f for f in listdir(DATASET_PATH) if isfile(join(DATASET_PATH, f))]\n",
    "\n",
    "for file in images:\n",
    "    img_path = join(DATASET_PATH, file)\n",
    "    #showImg(plt.imread(img_path))\n",
    "    img = cv2.imread(img_path)\n",
    "    \n",
    "    #prendre les marqeurs (les bords de l'image pour l'exterieur et le milieu de l'image comme l'interieur)\n",
    "    ret, thresh = cv2.threshold(gray,0,255,cv2.THRESH_BINARY_INV+cv2.THRESH_OTSU)\n",
    "\n"
   ]
  },
  {
   "cell_type": "code",
   "execution_count": null,
   "metadata": {},
   "outputs": [],
   "source": [
    "img = cv2.imread(join(DATASET_PATH,'Ra_UULN_8986.png')\n",
    "print(img)"
   ]
  },
  {
   "cell_type": "code",
   "execution_count": null,
   "metadata": {},
   "outputs": [],
   "source": [
    "images = [f for f in listdir(DATASET_PATH) if isfile(join(DATASET_PATH, f))]\n",
    "img_path = random.choice(images)\n",
    "\n",
    "img_path = join(DATASET_PATH, img_path)\n",
    "\n",
    "src.create(rows, cols, CV_8UC1);\n",
    "img1 = imread(img_path, CV_8UC1);\n",
    "\n",
    "#img1 = cv2.imread(img_path)\n",
    "#print(img1.shape)\n",
    "#img,s = perdecomp(img1)\n",
    "gray = cv2.cvtColor(img,cv2.COLOR_BGR2GRAY)\n",
    "gray,s = perdecomp(gray)\n",
    "showImg(gray)\n",
    "retval2,threshold2 = cv2.threshold(gray,125,255,cv2.THRESH_BINARY+cv2.THRESH_OTSU)\n",
    "th = cv2.adaptiveThreshold(gray, 255, cv2.ADAPTIVE_THRESH_GAUSSIAN_C, cv2.THRESH_BINARY, 115, 1)\n",
    "edges = cv2.Canny(th,100,200)\n",
    "print(gray.shape)\n",
    "\n",
    "\n",
    "'''cv2.imshow('original',gray)\n",
    "cv2.imshow('threshold',threshold2)\n",
    "cv2.waitKey(0)\n",
    "cv2.destroyAllWindows()'''\n"
   ]
  },
  {
   "cell_type": "code",
   "execution_count": null,
   "metadata": {},
   "outputs": [],
   "source": [
    "showImg(threshold2)\n",
    "print(np.argmax(np.sum(edges,axis=0)))\n",
    "showImg(threshold2)"
   ]
  },
  {
   "cell_type": "code",
   "execution_count": null,
   "metadata": {},
   "outputs": [],
   "source": [
    "kernel = np.ones((2,2),np.uint8)\n",
    "opening = cv2.morphologyEx(threshold2,cv2.MORPH_OPEN,kernel, iterations = 3)\n",
    "closing = cv2.morphologyEx(opening,cv2.MORPH_CLOSE,kernel, iterations = 3)\n"
   ]
  },
  {
   "cell_type": "code",
   "execution_count": null,
   "metadata": {},
   "outputs": [],
   "source": [
    "showImg(opening)"
   ]
  },
  {
   "cell_type": "code",
   "execution_count": null,
   "metadata": {},
   "outputs": [],
   "source": [
    "showImg(closing)"
   ]
  },
  {
   "cell_type": "code",
   "execution_count": null,
   "metadata": {},
   "outputs": [],
   "source": [
    "def perdecomp(u):\n",
    "    ny, nx = u.shape \n",
    "    X = np.arange(nx).reshape((1,nx))\n",
    "    Y = np.arange(ny).reshape((ny,1))\n",
    "    v = np.zeros((ny,nx))\n",
    "    v[0,X] = u[0,X] - u[-1,X]\n",
    "    v[-1,X] = -v[0,X]\n",
    "    v[Y,0] = v[Y,0] + u[Y,0] - u[Y,-1]\n",
    "    v[Y,-1] = v[Y,-1] - u[Y,0] + u[Y,-1]\n",
    "    fx = np.cos(2*np.pi*X/nx)\n",
    "    fy = np.cos(2*np.pi*Y.T/ny)\n",
    "    fx[0,0] = 0.   # avoid division by 0 in the line below\n",
    "    s = np.real(np.fft.ifft2(np.fft.fft2(v)*0.5/(2.-np.repeat(fx, ny, axis = 0)-np.repeat(fy.T, nx, axis = 1))))\n",
    "    p = u-s\n",
    "    return p, s"
   ]
  },
  {
   "cell_type": "code",
   "execution_count": null,
   "metadata": {},
   "outputs": [],
   "source": []
  }
 ],
 "metadata": {
  "kernelspec": {
   "display_name": "Python 3",
   "language": "python",
   "name": "python3"
  },
  "language_info": {
   "codemirror_mode": {
    "name": "ipython",
    "version": 3
   },
   "file_extension": ".py",
   "mimetype": "text/x-python",
   "name": "python",
   "nbconvert_exporter": "python",
   "pygments_lexer": "ipython3",
   "version": "3.5.2"
  }
 },
 "nbformat": 4,
 "nbformat_minor": 4
}
