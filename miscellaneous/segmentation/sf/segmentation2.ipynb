{
 "cells": [
  {
   "cell_type": "code",
   "execution_count": null,
   "metadata": {},
   "outputs": [],
   "source": [
    "import numpy as np\n",
    "import cv2\n",
    "import glob , os\n",
    "import matplotlib as mpl\n",
    "%matplotlib inline\n",
    "import matplotlib.pyplot as plt\n",
    "import pandas\n",
    "from PIL import Image\n",
    "from skimage import data,filters,segmentation, morphology"
   ]
  },
  {
   "cell_type": "code",
   "execution_count": null,
   "metadata": {},
   "outputs": [],
   "source": [
    "files = glob.glob(os.path.join(\"B87/B87-1/*.tiff\"))\n",
    "#file_diatoms = []\n",
    "for file in files:\n",
    "    I = plt.imread(file)\n",
    "    plt.figure(figsize=(5,5))\n",
    "    plt.imshow(I,cmap='gray')\n",
    "#ne marche pas pour récuperer les images dans un tableau: à revoir\n",
    "    #file_diatoms = file_diatoms.append(np.array(Image.open(file)))\n",
    "    \n",
    "#pour voir les aretes du fichier B87 entier    \n",
    "    #edges = filters.sobel(I)\n",
    "    #plt.imshow(edges)"
   ]
  },
  {
   "cell_type": "code",
   "execution_count": null,
   "metadata": {},
   "outputs": [],
   "source": [
    "def convolution (image,filtre,function):\n",
    "    new_image = np.zeros(image.shape,np.uint8)\n",
    "    for i in range(0,image.shape[0]):\n",
    "        for j in range(0,image.shape[1]):\n",
    "            new_image[i,j] = function(image,i,j,filtre)\n",
    "    return new_image"
   ]
  },
  {
   "cell_type": "code",
   "execution_count": null,
   "metadata": {},
   "outputs": [],
   "source": [
    "val = filters.threshold_otsu(I)\n",
    "mask = I < val\n",
    "mask = mask * 1.\n",
    "#plt.imshow(mask)\n",
    "\n",
    "edges = filters.sobel(mask)\n",
    "#plt.imshow(edges)\n",
    "\n",
    "kernel = np.array([[0, 0, 1, 0, 0],\n",
    "    [0, 0, 1, 0, 0],\n",
    "    [0, 0, 1, 0, 0],\n",
    "    [0, 0, 1, 0, 0],\n",
    "    [0, 1, 1, 1, 0],\n",
    "    [0, 1, 1, 1, 0],\n",
    "    [0, 1, 1, 1, 0],\n",
    "    [0, 0, 1, 0, 0],\n",
    "    [0, 0, 1, 0, 0],\n",
    "    [0, 0, 1, 0, 0],\n",
    "    [0, 0, 1, 0, 0]], dtype= np.uint8)\n",
    "\n",
    "kernel2 = np.array([\n",
    "    [1, 1, 1],\n",
    "    [1, 1, 1],\n",
    "    [1, 1, 1]\n",
    "    ], dtype= np.uint8)\n",
    "\n",
    "\n",
    "erosion = cv2.erode(I, kernel, iterations = 1)\n",
    "plt.imshow(erosion)\n",
    "\n",
    "tophat = cv2.morphologyEx(mask, cv2.MORPH_TOPHAT, kernel)\n",
    "\n",
    "fig, axes = plt.subplots(nrows = 2, ncols = 2, figsize = (10,5))\n",
    "axes[0,0].imshow(mask, interpolation = 'none', cmap = 'plasma')\n",
    "axes[0,0].set_title('mask')\n",
    "axes[0,1].imshow(edges,interpolation = 'none', cmap = 'plasma')\n",
    "axes[0,1].set_title('connexité')\n",
    "axes[1,0].imshow(erosion, interpolation = 'none', cmap = 'plasma')\n",
    "axes[1,0].set_title('erosion')\n",
    "axes[1,1].imshow(tophat,interpolation = 'none', cmap = 'plasma')\n",
    "axes[1,1].set_title('tophat')\n",
    "fig.tight_layout()\n"
   ]
  },
  {
   "cell_type": "code",
   "execution_count": null,
   "metadata": {},
   "outputs": [],
   "source": []
  }
 ],
 "metadata": {
  "kernelspec": {
   "display_name": "Python 3",
   "language": "python",
   "name": "python3"
  },
  "language_info": {
   "codemirror_mode": {
    "name": "ipython",
    "version": 3
   },
   "file_extension": ".py",
   "mimetype": "text/x-python",
   "name": "python",
   "nbconvert_exporter": "python",
   "pygments_lexer": "ipython3",
   "version": "3.6.9"
  }
 },
 "nbformat": 4,
 "nbformat_minor": 2
}
