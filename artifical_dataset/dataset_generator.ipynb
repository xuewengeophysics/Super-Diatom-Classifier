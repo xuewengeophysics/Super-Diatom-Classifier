{
 "cells": [
  {
   "cell_type": "code",
   "execution_count": 3,
   "metadata": {},
   "outputs": [],
   "source": [
    "from os import listdir\n",
    "from os.path import isfile, join\n",
    "import pickle\n",
    "from IPython.display import clear_output\n",
    "\n",
    "%run ./generator.ipynb\n",
    "%run ./variables.ipynb\n",
    "%run ./utils.ipynb"
   ]
  },
  {
   "cell_type": "code",
   "execution_count": 4,
   "metadata": {},
   "outputs": [],
   "source": [
    "images = [f for f in listdir(DATASET_PATH) if isfile(join(DATASET_PATH, f))]\n",
    "\n",
    "tmp_code = {}\n",
    "i = 1\n",
    "for file in images:\n",
    "    taxon = file.split('_')[1]\n",
    "    if not (taxon in tmp_code):\n",
    "        tmp_code[taxon] = i\n",
    "        i+=1\n",
    "\n",
    "savePickle(tmp_code, SAVE_PATH+\"/maps/multiclass_label_map.pickle\")\n",
    "binary_tmp_code = {}\n",
    "binary_tmp_code[\"diatom\"] = 1\n",
    "savePickle(binary_tmp_code, SAVE_PATH+\"/maps/binary_label_map.pickle\")"
   ]
  },
  {
   "cell_type": "code",
   "execution_count": 9,
   "metadata": {},
   "outputs": [
    {
     "name": "stdout",
     "output_type": "stream",
     "text": [
      "16 / 200\n"
     ]
    },
    {
     "ename": "KeyboardInterrupt",
     "evalue": "",
     "output_type": "error",
     "traceback": [
      "\u001b[0;31m---------------------------------------------------------------------------\u001b[0m",
      "\u001b[0;31mKeyboardInterrupt\u001b[0m                         Traceback (most recent call last)",
      "\u001b[0;32m<ipython-input-9-e17ff6b5bba7>\u001b[0m in \u001b[0;36m<module>\u001b[0;34m\u001b[0m\n\u001b[1;32m      3\u001b[0m \u001b[0;32mfor\u001b[0m \u001b[0mi\u001b[0m \u001b[0;32min\u001b[0m \u001b[0mrange\u001b[0m\u001b[0;34m(\u001b[0m\u001b[0mN_IMAGES\u001b[0m\u001b[0;34m)\u001b[0m\u001b[0;34m:\u001b[0m\u001b[0;34m\u001b[0m\u001b[0m\n\u001b[1;32m      4\u001b[0m     \u001b[0mstring_id\u001b[0m \u001b[0;34m=\u001b[0m \u001b[0;34m'{:04d}'\u001b[0m\u001b[0;34m.\u001b[0m\u001b[0mformat\u001b[0m\u001b[0;34m(\u001b[0m\u001b[0mn_id\u001b[0m\u001b[0;34m)\u001b[0m\u001b[0;34m\u001b[0m\u001b[0m\n\u001b[0;32m----> 5\u001b[0;31m     \u001b[0mfinal_img\u001b[0m\u001b[0;34m,\u001b[0m \u001b[0mlabels\u001b[0m\u001b[0;34m,\u001b[0m \u001b[0mindividual_masks\u001b[0m \u001b[0;34m=\u001b[0m \u001b[0mGenerator_Img\u001b[0m\u001b[0;34m(\u001b[0m\u001b[0mDATASET_PATH\u001b[0m \u001b[0;34m=\u001b[0m \u001b[0mDATASET_PATH\u001b[0m\u001b[0;34m,\u001b[0m \u001b[0msimple_angles\u001b[0m\u001b[0;34m=\u001b[0m\u001b[0;32mFalse\u001b[0m\u001b[0;34m,\u001b[0m \u001b[0msize_px\u001b[0m\u001b[0;34m=\u001b[0m\u001b[0;36m1000\u001b[0m\u001b[0;34m,\u001b[0m \u001b[0mfast\u001b[0m\u001b[0;34m=\u001b[0m\u001b[0;32mTrue\u001b[0m\u001b[0;34m,\u001b[0m \u001b[0mverbose\u001b[0m\u001b[0;34m=\u001b[0m\u001b[0;32mFalse\u001b[0m\u001b[0;34m)\u001b[0m\u001b[0;34m\u001b[0m\u001b[0m\n\u001b[0m\u001b[1;32m      6\u001b[0m     \u001b[0msaveImg\u001b[0m\u001b[0;34m(\u001b[0m\u001b[0mfinal_img\u001b[0m\u001b[0;34m,\u001b[0m \u001b[0mSAVE_PATH\u001b[0m\u001b[0;34m+\u001b[0m\u001b[0;34m\"/images/\"\u001b[0m\u001b[0;34m+\u001b[0m\u001b[0mstring_id\u001b[0m\u001b[0;34m+\u001b[0m\u001b[0;34m\".png\"\u001b[0m\u001b[0;34m)\u001b[0m\u001b[0;34m;\u001b[0m\u001b[0;34m\u001b[0m\u001b[0m\n\u001b[1;32m      7\u001b[0m     \u001b[0msavePickle\u001b[0m\u001b[0;34m(\u001b[0m\u001b[0mlabels\u001b[0m\u001b[0;34m,\u001b[0m \u001b[0mSAVE_PATH\u001b[0m\u001b[0;34m+\u001b[0m\u001b[0;34m\"/annotations/bb_\"\u001b[0m\u001b[0;34m+\u001b[0m\u001b[0mstring_id\u001b[0m\u001b[0;34m+\u001b[0m\u001b[0;34m\".pickle\"\u001b[0m\u001b[0;34m)\u001b[0m\u001b[0;34m\u001b[0m\u001b[0m\n",
      "\u001b[0;32m<ipython-input-3-f02061057a04>\u001b[0m in \u001b[0;36mGenerator_Img\u001b[0;34m(DATASET_PATH, simple_angles, size_px, fast, verbose)\u001b[0m\n\u001b[1;32m      4\u001b[0m     \u001b[0mglobal_patch\u001b[0m\u001b[0;34m,\u001b[0m \u001b[0mglobal_patch_mask\u001b[0m\u001b[0;34m,\u001b[0m \u001b[0mglobal_patch_mask_rogn\u001b[0m\u001b[0;34m,\u001b[0m \u001b[0mlabels\u001b[0m\u001b[0;34m,\u001b[0m \u001b[0mindividual_masks\u001b[0m \u001b[0;34m=\u001b[0m \u001b[0mraw_generation\u001b[0m\u001b[0;34m(\u001b[0m\u001b[0mtmp_images_rogn\u001b[0m\u001b[0;34m,\u001b[0m \u001b[0msimple_angles\u001b[0m \u001b[0;34m=\u001b[0m \u001b[0msimple_angles\u001b[0m\u001b[0;34m,\u001b[0m \u001b[0msize_px\u001b[0m \u001b[0;34m=\u001b[0m \u001b[0msize_px\u001b[0m\u001b[0;34m)\u001b[0m\u001b[0;34m\u001b[0m\u001b[0m\n\u001b[1;32m      5\u001b[0m \u001b[0;34m\u001b[0m\u001b[0m\n\u001b[0;32m----> 6\u001b[0;31m     \u001b[0;32mif\u001b[0m \u001b[0mfast\u001b[0m\u001b[0;34m:\u001b[0m \u001b[0mfinal_image\u001b[0m \u001b[0;34m=\u001b[0m \u001b[0mfast_img_filling\u001b[0m\u001b[0;34m(\u001b[0m\u001b[0mglobal_patch\u001b[0m\u001b[0;34m,\u001b[0m \u001b[0mglobal_patch_mask_rogn\u001b[0m\u001b[0;34m,\u001b[0m \u001b[0msigma\u001b[0m\u001b[0;34m=\u001b[0m\u001b[0;36m10e3\u001b[0m\u001b[0;34m,\u001b[0m \u001b[0mverbose\u001b[0m\u001b[0;34m=\u001b[0m\u001b[0mverbose\u001b[0m\u001b[0;34m)\u001b[0m\u001b[0;34m\u001b[0m\u001b[0m\n\u001b[0m\u001b[1;32m      7\u001b[0m     \u001b[0;32melse\u001b[0m\u001b[0;34m:\u001b[0m \u001b[0mfinal_image\u001b[0m \u001b[0;34m=\u001b[0m \u001b[0mimg_filling\u001b[0m\u001b[0;34m(\u001b[0m\u001b[0mglobal_patch\u001b[0m\u001b[0;34m,\u001b[0m \u001b[0mglobal_patch_mask_rogn\u001b[0m\u001b[0;34m,\u001b[0m \u001b[0msigma\u001b[0m\u001b[0;34m=\u001b[0m\u001b[0;36m10e3\u001b[0m\u001b[0;34m,\u001b[0m \u001b[0mverbose\u001b[0m\u001b[0;34m=\u001b[0m\u001b[0mverbose\u001b[0m\u001b[0;34m)\u001b[0m\u001b[0;34m\u001b[0m\u001b[0m\n\u001b[1;32m      8\u001b[0m     \u001b[0;32mif\u001b[0m \u001b[0mverbose\u001b[0m\u001b[0;34m:\u001b[0m\u001b[0;34m\u001b[0m\u001b[0m\n",
      "\u001b[0;32m<ipython-input-3-25e79b2906a8>\u001b[0m in \u001b[0;36mfast_img_filling\u001b[0;34m(global_patch, global_patch_mask_rogn, sigma, verbose)\u001b[0m\n\u001b[1;32m     21\u001b[0m         \u001b[0mval\u001b[0m \u001b[0;34m=\u001b[0m \u001b[0mfinal_img\u001b[0m\u001b[0;34m[\u001b[0m\u001b[0mxkp\u001b[0m\u001b[0;34m,\u001b[0m \u001b[0mykp\u001b[0m\u001b[0;34m]\u001b[0m\u001b[0;34m\u001b[0m\u001b[0m\n\u001b[1;32m     22\u001b[0m         \u001b[0;31m# FILLING\u001b[0m\u001b[0;34m\u001b[0m\u001b[0;34m\u001b[0m\u001b[0m\n\u001b[0;32m---> 23\u001b[0;31m         \u001b[0md2\u001b[0m \u001b[0;34m=\u001b[0m \u001b[0mcp\u001b[0m\u001b[0;34m.\u001b[0m\u001b[0msquare\u001b[0m\u001b[0;34m(\u001b[0m\u001b[0mxMap\u001b[0m \u001b[0;34m-\u001b[0m \u001b[0mxkp\u001b[0m\u001b[0;34m)\u001b[0m \u001b[0;34m+\u001b[0m \u001b[0mcp\u001b[0m\u001b[0;34m.\u001b[0m\u001b[0msquare\u001b[0m\u001b[0;34m(\u001b[0m\u001b[0myMap\u001b[0m \u001b[0;34m-\u001b[0m \u001b[0mykp\u001b[0m\u001b[0;34m)\u001b[0m\u001b[0;34m\u001b[0m\u001b[0m\n\u001b[0m\u001b[1;32m     24\u001b[0m         \u001b[0mw\u001b[0m \u001b[0;34m=\u001b[0m \u001b[0mcp\u001b[0m\u001b[0;34m.\u001b[0m\u001b[0mexp\u001b[0m\u001b[0;34m(\u001b[0m\u001b[0;34m-\u001b[0m\u001b[0md2\u001b[0m\u001b[0;34m/\u001b[0m\u001b[0msigma\u001b[0m\u001b[0;34m)\u001b[0m\u001b[0;34m\u001b[0m\u001b[0m\n\u001b[1;32m     25\u001b[0m         \u001b[0mw\u001b[0m\u001b[0;34m[\u001b[0m\u001b[0mw\u001b[0m\u001b[0;34m<\u001b[0m\u001b[0;36m1e-10\u001b[0m\u001b[0;34m]\u001b[0m \u001b[0;34m=\u001b[0m \u001b[0;36m1e-10\u001b[0m\u001b[0;34m\u001b[0m\u001b[0m\n",
      "\u001b[0;31mKeyboardInterrupt\u001b[0m: "
     ]
    }
   ],
   "source": [
    "n_id = 0\n",
    "print(\"Generating\", N_IMAGES, \"images!\")\n",
    "for i in range(N_IMAGES):\n",
    "    string_id = '{:04d}'.format(n_id)\n",
    "    final_img, labels, individual_masks = Generator_Img(DATASET_PATH = DATASET_PATH, simple_angles=False, size_px=1000, fast=True, verbose=False)\n",
    "    saveImg(final_img, SAVE_PATH+\"/images/\"+string_id+\".png\");\n",
    "    savePickle(labels, SAVE_PATH+\"/annotations/bb_\"+string_id+\".pickle\")\n",
    "    ## Saving individual masks\n",
    "    taxon_n = {}\n",
    "    paths = []\n",
    "    for mask in individual_masks:\n",
    "        taxon = mask[\"taxon\"]\n",
    "        if taxon in taxon_n:\n",
    "            taxon_n[taxon] += 1\n",
    "        else:\n",
    "            taxon_n[taxon] = 0\n",
    "        path_mask = \"masks/\"+string_id+\"_\"+taxon+\"_\"+'{:03d}'.format(taxon_n[taxon])+\".png\"\n",
    "        paths.append(path_mask)\n",
    "        # Saving mask\n",
    "        img = PIL.Image.fromarray(mask[\"patch_mask\"])\n",
    "        #output = io.BytesIO()\n",
    "        check_dirs(join(SAVE_PATH, path_mask))\n",
    "        img.save(join(SAVE_PATH, path_mask), format='PNG')\n",
    "        #encoded_mask_png_list.append(output.getvalue())\n",
    "        #saveImg(mask[\"patch_mask\"], join(SAVE_PATH, path_mask));\n",
    "    savePickle(paths, SAVE_PATH+\"/annotations/masks_\"+string_id+\".pickle\")\n",
    "    clear_output(wait=True)\n",
    "    print(n_id+1,\"/\",N_IMAGES)\n",
    "    n_id += 1"
   ]
  },
  {
   "cell_type": "code",
   "execution_count": null,
   "metadata": {},
   "outputs": [],
   "source": []
  }
 ],
 "metadata": {
  "kernelspec": {
   "display_name": "Python 3",
   "language": "python",
   "name": "python3"
  },
  "language_info": {
   "codemirror_mode": {
    "name": "ipython",
    "version": 3
   },
   "file_extension": ".py",
   "mimetype": "text/x-python",
   "name": "python",
   "nbconvert_exporter": "python",
   "pygments_lexer": "ipython3",
   "version": "3.5.2"
  }
 },
 "nbformat": 4,
 "nbformat_minor": 4
}
