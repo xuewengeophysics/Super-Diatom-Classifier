{
 "cells": [
  {
   "cell_type": "code",
   "execution_count": 26,
   "metadata": {},
   "outputs": [],
   "source": [
    "from os import listdir\n",
    "from os.path import isfile, join\n",
    "import pickle\n",
    "from IPython.display import clear_output\n",
    "\n",
    "%run ./generator.ipynb\n",
    "%run ./variables.ipynb\n",
    "%run ./utils.ipynb"
   ]
  },
  {
   "cell_type": "code",
   "execution_count": 24,
   "metadata": {},
   "outputs": [],
   "source": [
    "images = [f for f in listdir(DATASET_PATH) if isfile(join(DATASET_PATH, f))]\n",
    "\n",
    "tmp_code = {}\n",
    "i = 1\n",
    "for file in images:\n",
    "    taxon = file.split('_')[1]\n",
    "    if not (taxon in tmp_code):\n",
    "        tmp_code[taxon] = i\n",
    "        i+=1\n",
    "\n",
    "savePickle(tmp_code, SAVE_PATH+\"/ids/label_map.pickle\")\n",
    "create_pbtxt(tmp_code, SAVE_PATH+\"/ids/label_map.pbtxt\")"
   ]
  },
  {
   "cell_type": "code",
   "execution_count": null,
   "metadata": {},
   "outputs": [
    {
     "name": "stdout",
     "output_type": "stream",
     "text": [
      "1 / 200\n"
     ]
    }
   ],
   "source": [
    "n_id = 0\n",
    "print(\"Generating\", N_IMAGES, \"images!\")\n",
    "for i in range(N_IMAGES):\n",
    "    final_img, labels = Generator_Img(DATASET_PATH = DATASET_PATH, simple_angles = True, size_px = 1000, fast=True, verbose=False)\n",
    "    saveImg(final_img, SAVE_PATH+\"/images/\"+'{:04d}'.format(n_id)+\".png\");\n",
    "    savePickle(labels, SAVE_PATH+\"/annotations/\"+'{:04d}'.format(n_id)+\".pickle\")\n",
    "    clear_output(wait=True)\n",
    "    print(n_id+1,\"/\",N_IMAGES)\n",
    "    n_id += 1"
   ]
  },
  {
   "cell_type": "code",
   "execution_count": null,
   "metadata": {},
   "outputs": [],
   "source": []
  }
 ],
 "metadata": {
  "kernelspec": {
   "display_name": "Python 3",
   "language": "python",
   "name": "python3"
  },
  "language_info": {
   "codemirror_mode": {
    "name": "ipython",
    "version": 3
   },
   "file_extension": ".py",
   "mimetype": "text/x-python",
   "name": "python",
   "nbconvert_exporter": "python",
   "pygments_lexer": "ipython3",
   "version": "3.5.2"
  }
 },
 "nbformat": 4,
 "nbformat_minor": 4
}
