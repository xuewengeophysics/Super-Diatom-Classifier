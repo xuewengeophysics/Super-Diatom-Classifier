{
 "cells": [
  {
   "cell_type": "code",
   "execution_count": 20,
   "metadata": {},
   "outputs": [],
   "source": [
    "from os import listdir\n",
    "from os.path import isfile, join\n",
    "import pickle\n",
    "from IPython.display import clear_output\n",
    "\n",
    "%run ./generator.ipynb\n",
    "%run ./variables.ipynb\n",
    "%run ./utils.ipynb"
   ]
  },
  {
   "cell_type": "code",
   "execution_count": 21,
   "metadata": {},
   "outputs": [],
   "source": [
    "images = [f for f in listdir(DATASET_PATH) if isfile(join(DATASET_PATH, f))]\n",
    "\n",
    "tmp_code = {}\n",
    "i = 1\n",
    "for file in images:\n",
    "    taxon = file.split('_')[1]\n",
    "    if not (taxon in tmp_code):\n",
    "        tmp_code[taxon] = i\n",
    "        i+=1\n",
    "\n",
    "savePickle(tmp_code, SAVE_PATH+\"/maps/multiclass_label_map.pickle\")\n",
    "binary_tmp_code = {}\n",
    "binary_tmp_code[\"diatom\"] = 1\n",
    "savePickle(binary_tmp_code, SAVE_PATH+\"/maps/binary_label_map.pickle\")"
   ]
  },
  {
   "cell_type": "code",
   "execution_count": null,
   "metadata": {},
   "outputs": [
    {
     "name": "stdout",
     "output_type": "stream",
     "text": [
      "65 / 200\n"
     ]
    }
   ],
   "source": [
    "n_id = 0\n",
    "print(\"Generating\", N_IMAGES, \"images!\")\n",
    "for i in range(N_IMAGES):\n",
    "    string_id = '{:04d}'.format(n_id)\n",
    "    final_img, labels, individual_masks = Generator_Img(DATASET_PATH = DATASET_PATH, simple_angles = True, size_px = 1000, fast=True, verbose=False)\n",
    "    saveImg(final_img, SAVE_PATH+\"/images/\"+string_id+\".png\");\n",
    "    savePickle(labels, SAVE_PATH+\"/annotations/bb_\"+string_id+\".pickle\")\n",
    "    ## Saving individual masks\n",
    "    taxon_n = {}\n",
    "    paths = []\n",
    "    for mask in individual_masks:\n",
    "        taxon = mask[\"taxon\"]\n",
    "        if taxon in taxon_n:\n",
    "            taxon_n[taxon] += 1\n",
    "        else:\n",
    "            taxon_n[taxon] = 0\n",
    "        path_mask = \"masks/\"+string_id+\"_\"+taxon+\"_\"+'{:03d}'.format(taxon_n[taxon])+\".png\"\n",
    "        paths.append(path_mask)\n",
    "        saveImg(mask[\"patch_mask\"], join(SAVE_PATH, path_mask));\n",
    "    savePickle(paths, SAVE_PATH+\"/annotations/masks_\"+string_id+\".pickle\")\n",
    "    clear_output(wait=True)\n",
    "    print(n_id+1,\"/\",N_IMAGES)\n",
    "    n_id += 1"
   ]
  },
  {
   "cell_type": "code",
   "execution_count": 1,
   "metadata": {},
   "outputs": [
    {
     "data": {
      "text/plain": [
       "{}"
      ]
     },
     "execution_count": 1,
     "metadata": {},
     "output_type": "execute_result"
    }
   ],
   "source": [
    "b = {}\n",
    "b"
   ]
  },
  {
   "cell_type": "code",
   "execution_count": 5,
   "metadata": {},
   "outputs": [
    {
     "data": {
      "text/plain": [
       "{(3, 2): 12, (4, 5): 13, (8, 5): 13, 32: 12, 45: 13}"
      ]
     },
     "execution_count": 5,
     "metadata": {},
     "output_type": "execute_result"
    }
   ],
   "source": [
    "b[(3,2)]=12\n",
    "b\n",
    "b[(8,5)]=13\n",
    "b"
   ]
  },
  {
   "cell_type": "code",
   "execution_count": null,
   "metadata": {},
   "outputs": [],
   "source": []
  }
 ],
 "metadata": {
  "kernelspec": {
   "display_name": "Python 3",
   "language": "python",
   "name": "python3"
  },
  "language_info": {
   "codemirror_mode": {
    "name": "ipython",
    "version": 3
   },
   "file_extension": ".py",
   "mimetype": "text/x-python",
   "name": "python",
   "nbconvert_exporter": "python",
   "pygments_lexer": "ipython3",
   "version": "3.5.2"
  }
 },
 "nbformat": 4,
 "nbformat_minor": 4
}
