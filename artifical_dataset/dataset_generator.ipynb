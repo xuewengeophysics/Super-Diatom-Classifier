{
 "cells": [
  {
   "cell_type": "code",
   "execution_count": 1,
   "metadata": {},
   "outputs": [
    {
     "ename": "AttributeError",
     "evalue": "'NoneType' object has no attribute 'shape'",
     "output_type": "error",
     "traceback": [
      "\u001b[0;31m---------------------------------------------------------------------------\u001b[0m",
      "\u001b[0;31mAttributeError\u001b[0m                            Traceback (most recent call last)",
      "\u001b[0;32m~/Super-Diatomee-Classifier/artifical_dataset/generator.ipynb\u001b[0m in \u001b[0;36m<module>\u001b[0;34m\u001b[0m\n\u001b[0;32m----> 1\u001b[0;31m \u001b[0mfinal_img\u001b[0m\u001b[0;34m,\u001b[0m \u001b[0mlabels\u001b[0m \u001b[0;34m=\u001b[0m \u001b[0mGenerator_Img\u001b[0m\u001b[0;34m(\u001b[0m\u001b[0mDATASET_PATH\u001b[0m \u001b[0;34m=\u001b[0m \u001b[0mDATASET_PATH\u001b[0m\u001b[0;34m,\u001b[0m \u001b[0msimple_angles\u001b[0m \u001b[0;34m=\u001b[0m \u001b[0;32mTrue\u001b[0m\u001b[0;34m,\u001b[0m \u001b[0msize_px\u001b[0m \u001b[0;34m=\u001b[0m \u001b[0;36m1000\u001b[0m\u001b[0;34m,\u001b[0m \u001b[0mfast\u001b[0m\u001b[0;34m=\u001b[0m\u001b[0;32mTrue\u001b[0m\u001b[0;34m,\u001b[0m \u001b[0mverbose\u001b[0m\u001b[0;34m=\u001b[0m\u001b[0;32mFalse\u001b[0m\u001b[0;34m)\u001b[0m\u001b[0;34m\u001b[0m\u001b[0m\n\u001b[0m",
      "\u001b[0;32m~/Super-Diatomee-Classifier/artifical_dataset/generator.ipynb\u001b[0m in \u001b[0;36mGenerator_Img\u001b[0;34m(DATASET_PATH, simple_angles, size_px, fast, verbose)\u001b[0m\n\u001b[1;32m      2\u001b[0m     \u001b[0mtmp_images\u001b[0m \u001b[0;34m=\u001b[0m \u001b[0mret_img\u001b[0m\u001b[0;34m(\u001b[0m\u001b[0mDATASET_PATH\u001b[0m\u001b[0;34m,\u001b[0m \u001b[0;36m9\u001b[0m\u001b[0;34m,\u001b[0m \u001b[0;36m12\u001b[0m\u001b[0;34m)\u001b[0m\u001b[0;34m\u001b[0m\u001b[0m\n\u001b[1;32m      3\u001b[0m     \u001b[0mtmp_images_rogn\u001b[0m \u001b[0;34m=\u001b[0m \u001b[0mrogn_img\u001b[0m\u001b[0;34m(\u001b[0m\u001b[0mtmp_images\u001b[0m\u001b[0;34m)\u001b[0m\u001b[0;34m\u001b[0m\u001b[0m\n\u001b[0;32m----> 4\u001b[0;31m     \u001b[0mglobal_patch\u001b[0m\u001b[0;34m,\u001b[0m \u001b[0mglobal_patch_mask\u001b[0m\u001b[0;34m,\u001b[0m \u001b[0mglobal_patch_mask_rogn\u001b[0m\u001b[0;34m,\u001b[0m \u001b[0mlabels\u001b[0m \u001b[0;34m=\u001b[0m \u001b[0mraw_generation\u001b[0m\u001b[0;34m(\u001b[0m\u001b[0mtmp_images_rogn\u001b[0m\u001b[0;34m,\u001b[0m \u001b[0msimple_angles\u001b[0m \u001b[0;34m=\u001b[0m \u001b[0msimple_angles\u001b[0m\u001b[0;34m,\u001b[0m \u001b[0msize_px\u001b[0m \u001b[0;34m=\u001b[0m \u001b[0msize_px\u001b[0m\u001b[0;34m)\u001b[0m\u001b[0;34m\u001b[0m\u001b[0m\n\u001b[0m\u001b[1;32m      5\u001b[0m \u001b[0;34m\u001b[0m\u001b[0m\n\u001b[1;32m      6\u001b[0m     \u001b[0;32mif\u001b[0m \u001b[0mfast\u001b[0m\u001b[0;34m:\u001b[0m \u001b[0mfinal_image\u001b[0m \u001b[0;34m=\u001b[0m \u001b[0mfast_img_filling\u001b[0m\u001b[0;34m(\u001b[0m\u001b[0mglobal_patch\u001b[0m\u001b[0;34m,\u001b[0m \u001b[0mglobal_patch_mask_rogn\u001b[0m\u001b[0;34m,\u001b[0m \u001b[0msigma\u001b[0m\u001b[0;34m=\u001b[0m\u001b[0;36m10e3\u001b[0m\u001b[0;34m,\u001b[0m \u001b[0mverbose\u001b[0m\u001b[0;34m=\u001b[0m\u001b[0mverbose\u001b[0m\u001b[0;34m)\u001b[0m\u001b[0;34m\u001b[0m\u001b[0m\n",
      "\u001b[0;32m~/Super-Diatomee-Classifier/artifical_dataset/generator.ipynb\u001b[0m in \u001b[0;36mraw_generation\u001b[0;34m(tmp_images, simple_angles, size_px)\u001b[0m\n\u001b[1;32m     17\u001b[0m         \u001b[0mrotated\u001b[0m \u001b[0;34m=\u001b[0m \u001b[0mimutils\u001b[0m\u001b[0;34m.\u001b[0m\u001b[0mrotate_bound\u001b[0m\u001b[0;34m(\u001b[0m\u001b[0mimg\u001b[0m\u001b[0;34m,\u001b[0m \u001b[0mangle\u001b[0m\u001b[0;34m)\u001b[0m\u001b[0;34m\u001b[0m\u001b[0m\n\u001b[1;32m     18\u001b[0m         \u001b[0mrotated_mask\u001b[0m \u001b[0;34m=\u001b[0m \u001b[0mimutils\u001b[0m\u001b[0;34m.\u001b[0m\u001b[0mrotate_bound\u001b[0m\u001b[0;34m(\u001b[0m\u001b[0mmask\u001b[0m\u001b[0;34m,\u001b[0m \u001b[0mangle\u001b[0m\u001b[0;34m)\u001b[0m\u001b[0;34m\u001b[0m\u001b[0m\n\u001b[0;32m---> 19\u001b[0;31m         \u001b[0mrotated_mask_rogn\u001b[0m \u001b[0;34m=\u001b[0m \u001b[0mimutils\u001b[0m\u001b[0;34m.\u001b[0m\u001b[0mrotate_bound\u001b[0m\u001b[0;34m(\u001b[0m\u001b[0mmask_rogn\u001b[0m\u001b[0;34m,\u001b[0m \u001b[0mangle\u001b[0m\u001b[0;34m)\u001b[0m\u001b[0;34m\u001b[0m\u001b[0m\n\u001b[0m\u001b[1;32m     20\u001b[0m         \u001b[0;31m#PLACING THE IMAGE WITHOUT OVERLAPPING\u001b[0m\u001b[0;34m\u001b[0m\u001b[0;34m\u001b[0m\u001b[0m\n\u001b[1;32m     21\u001b[0m         \u001b[0moverlap_test\u001b[0m \u001b[0;34m=\u001b[0m \u001b[0;36m1\u001b[0m\u001b[0;34m\u001b[0m\u001b[0m\n",
      "\u001b[0;32m~/diatoms/lib/python3.5/site-packages/imutils/convenience.py\u001b[0m in \u001b[0;36mrotate_bound\u001b[0;34m(image, angle)\u001b[0m\n\u001b[1;32m     42\u001b[0m     \u001b[0;31m# grab the dimensions of the image and then determine the\u001b[0m\u001b[0;34m\u001b[0m\u001b[0;34m\u001b[0m\u001b[0m\n\u001b[1;32m     43\u001b[0m     \u001b[0;31m# center\u001b[0m\u001b[0;34m\u001b[0m\u001b[0;34m\u001b[0m\u001b[0m\n\u001b[0;32m---> 44\u001b[0;31m     \u001b[0;34m(\u001b[0m\u001b[0mh\u001b[0m\u001b[0;34m,\u001b[0m \u001b[0mw\u001b[0m\u001b[0;34m)\u001b[0m \u001b[0;34m=\u001b[0m \u001b[0mimage\u001b[0m\u001b[0;34m.\u001b[0m\u001b[0mshape\u001b[0m\u001b[0;34m[\u001b[0m\u001b[0;34m:\u001b[0m\u001b[0;36m2\u001b[0m\u001b[0;34m]\u001b[0m\u001b[0;34m\u001b[0m\u001b[0m\n\u001b[0m\u001b[1;32m     45\u001b[0m     \u001b[0;34m(\u001b[0m\u001b[0mcX\u001b[0m\u001b[0;34m,\u001b[0m \u001b[0mcY\u001b[0m\u001b[0;34m)\u001b[0m \u001b[0;34m=\u001b[0m \u001b[0;34m(\u001b[0m\u001b[0mw\u001b[0m \u001b[0;34m/\u001b[0m \u001b[0;36m2\u001b[0m\u001b[0;34m,\u001b[0m \u001b[0mh\u001b[0m \u001b[0;34m/\u001b[0m \u001b[0;36m2\u001b[0m\u001b[0;34m)\u001b[0m\u001b[0;34m\u001b[0m\u001b[0m\n\u001b[1;32m     46\u001b[0m \u001b[0;34m\u001b[0m\u001b[0m\n",
      "\u001b[0;31mAttributeError\u001b[0m: 'NoneType' object has no attribute 'shape'"
     ]
    }
   ],
   "source": [
    "from os import listdir\n",
    "from os.path import isfile, join\n",
    "import pickle\n",
    "\n",
    "%run ./generator.ipynb\n",
    "%run ./variables.ipynb\n",
    "%run ./utils.ipynb"
   ]
  },
  {
   "cell_type": "code",
   "execution_count": 2,
   "metadata": {},
   "outputs": [],
   "source": [
    "images = [f for f in listdir(DATASET_PATH) if isfile(join(DATASET_PATH, f))]\n",
    "#print(images)\n",
    "\n",
    "tmp_code = {}\n",
    "i = 1\n",
    "for file in images:\n",
    "    taxon = file.split('_')[1]\n",
    "    if not (taxon in tmp_code):\n",
    "        tmp_code[taxon] = i\n",
    "        i+=1\n",
    "savePickle(tmp_code, \"tmp\", \"ids\", 0)"
   ]
  },
  {
   "cell_type": "code",
   "execution_count": null,
   "metadata": {},
   "outputs": [
    {
     "name": "stdout",
     "output_type": "stream",
     "text": [
      "0 / 200\n",
      "1 / 200\n",
      "2 / 200\n",
      "3 / 200\n",
      "4 / 200\n",
      "5 / 200\n",
      "6 / 200\n",
      "7 / 200\n",
      "8 / 200\n",
      "9 / 200\n",
      "10 / 200\n",
      "11 / 200\n",
      "12 / 200\n",
      "13 / 200\n",
      "14 / 200\n",
      "15 / 200\n",
      "16 / 200\n",
      "17 / 200\n",
      "18 / 200\n",
      "19 / 200\n",
      "20 / 200\n",
      "21 / 200\n",
      "22 / 200\n",
      "23 / 200\n",
      "24 / 200\n",
      "25 / 200\n",
      "26 / 200\n",
      "27 / 200\n",
      "28 / 200\n",
      "29 / 200\n",
      "30 / 200\n",
      "31 / 200\n",
      "32 / 200\n",
      "33 / 200\n",
      "34 / 200\n",
      "35 / 200\n",
      "36 / 200\n",
      "37 / 200\n",
      "38 / 200\n",
      "39 / 200\n",
      "40 / 200\n",
      "41 / 200\n",
      "42 / 200\n",
      "43 / 200\n",
      "44 / 200\n",
      "45 / 200\n",
      "46 / 200\n",
      "47 / 200\n",
      "48 / 200\n",
      "49 / 200\n",
      "50 / 200\n",
      "51 / 200\n",
      "52 / 200\n",
      "53 / 200\n",
      "54 / 200\n",
      "55 / 200\n",
      "56 / 200\n",
      "57 / 200\n",
      "58 / 200\n",
      "59 / 200\n",
      "60 / 200\n",
      "61 / 200\n",
      "62 / 200\n",
      "63 / 200\n",
      "64 / 200\n",
      "65 / 200\n",
      "66 / 200\n",
      "67 / 200\n",
      "68 / 200\n",
      "69 / 200\n",
      "70 / 200\n",
      "71 / 200\n",
      "72 / 200\n",
      "73 / 200\n",
      "74 / 200\n",
      "75 / 200\n",
      "76 / 200\n",
      "77 / 200\n",
      "78 / 200\n"
     ]
    }
   ],
   "source": [
    "n_id = 0\n",
    "for i in range(N_IMAGES):\n",
    "    final_img, labels = Generator_Img(DATASET_PATH = DATASET_PATH, simple_angles = True, size_px = 1000, fast=True, verbose=False)\n",
    "    saveImg(final_img, \"tmp\", \"png_img\", n_id)\n",
    "    savePickle(labels, \"tmp\", \"labels\", n_id)\n",
    "    print(n_id,\"/\",N_IMAGES)\n",
    "    n_id += 1"
   ]
  },
  {
   "cell_type": "code",
   "execution_count": null,
   "metadata": {},
   "outputs": [],
   "source": []
  }
 ],
 "metadata": {
  "kernelspec": {
   "display_name": "Python 3",
   "language": "python",
   "name": "python3"
  },
  "language_info": {
   "codemirror_mode": {
    "name": "ipython",
    "version": 3
   },
   "file_extension": ".py",
   "mimetype": "text/x-python",
   "name": "python",
   "nbconvert_exporter": "python",
   "pygments_lexer": "ipython3",
   "version": "3.5.2"
  }
 },
 "nbformat": 4,
 "nbformat_minor": 4
}
