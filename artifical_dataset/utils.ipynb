{
 "cells": [
  {
   "cell_type": "code",
   "execution_count": 1,
   "metadata": {},
   "outputs": [],
   "source": [
    "import cv2\n",
    "import numpy as np\n",
    "import matplotlib.pyplot as plt\n",
    "import os\n",
    "from os.path import isfile, join\n",
    "\n",
    "def showImg2(img, scale=1):\n",
    "    cv2.namedWindow('image',cv2.WINDOW_NORMAL)\n",
    "    cv2.resizeWindow('image', scale*img.shape[1], scale*img.shape[0])\n",
    "    cv2.imshow('image',img)\n",
    "    k = cv2.waitKey(0)\n",
    "    print(\"DEBUG: waitKey returned:\", chr(k))\n",
    "    cv2.destroyAllWindows()\n",
    "\n",
    "def showImg(img, scale=1):\n",
    "    plt.figure(figsize=(5,5))\n",
    "    plt.imshow(img,cmap='gray')\n",
    "    plt.show()\n",
    "    \n",
    "def saveImg(img, root, folder, n_id):\n",
    "    path_to_folder = \"./\"+ root + \"/\" + folder\n",
    "    if not os.path.exists(path_to_folder):\n",
    "        os.makedirs(path_to_folder)\n",
    "    img_id = '{:04d}'.format(n_id)\n",
    "    full_path = path_to_folder+\"/\"+img_id+\".png\"\n",
    "    cv2.imwrite(full_path,img)\n",
    "    \n",
    "def savePickle(obj, root, folder, n_id):\n",
    "    global n_img_id\n",
    "    path_to_folder = \"./\"+ root + \"/\" + folder\n",
    "    if not os.path.exists(path_to_folder):\n",
    "        os.makedirs(path_to_folder)\n",
    "    img_id = '{:04d}'.format(n_id)\n",
    "    full_path = path_to_folder+\"/\"+img_id+\".pickle\"\n",
    "    pickle_out = open(full_path,\"wb\")\n",
    "    pickle.dump(obj, pickle_out)\n",
    "    pickle_out.close()"
   ]
  },
  {
   "cell_type": "code",
   "execution_count": null,
   "metadata": {},
   "outputs": [],
   "source": []
  }
 ],
 "metadata": {
  "kernelspec": {
   "display_name": "Python 3",
   "language": "python",
   "name": "python3"
  },
  "language_info": {
   "codemirror_mode": {
    "name": "ipython",
    "version": 3
   },
   "file_extension": ".py",
   "mimetype": "text/x-python",
   "name": "python",
   "nbconvert_exporter": "python",
   "pygments_lexer": "ipython3",
   "version": "3.5.2"
  }
 },
 "nbformat": 4,
 "nbformat_minor": 4
}
