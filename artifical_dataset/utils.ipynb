{
 "cells": [
  {
   "cell_type": "code",
   "execution_count": 7,
   "metadata": {},
   "outputs": [],
   "source": [
    "import cv2\n",
    "import numpy as np\n",
    "import matplotlib.pyplot as plt\n",
    "import os\n",
    "from os.path import isfile, join\n",
    "import errno\n",
    "\n",
    "def showImg2(img, scale=1):\n",
    "    cv2.namedWindow('image',cv2.WINDOW_NORMAL)\n",
    "    cv2.resizeWindow('image', scale*img.shape[1], scale*img.shape[0])\n",
    "    cv2.imshow('image',img)\n",
    "    k = cv2.waitKey(0)\n",
    "    print(\"DEBUG: waitKey returned:\", chr(k))\n",
    "    cv2.destroyAllWindows()\n",
    "\n",
    "def showImg(img, scale=1):\n",
    "    plt.figure(figsize=(5,5))\n",
    "    plt.imshow(img,cmap='gray')\n",
    "    plt.show()\n",
    "    \n",
    "def check_dirs(filename):\n",
    "    if not os.path.exists(os.path.dirname(filename)):\n",
    "        try:\n",
    "            os.makedirs(os.path.dirname(filename))\n",
    "        except OSError as exc: # Guard against race condition\n",
    "            if exc.errno != errno.EEXIST:\n",
    "                raise\n",
    "    \n",
    "def saveImg(img, path):\n",
    "    check_dirs(path)\n",
    "    cv2.imwrite(path,img)\n",
    "    \n",
    "def savePickle(obj, path):\n",
    "    check_dirs(path)\n",
    "    pickle_out = open(path,\"wb\")\n",
    "    pickle.dump(obj, pickle_out)\n",
    "    pickle_out.close()\n",
    "\n",
    "def round_rectangle(radius, w, h, value=255):\n",
    "    thickness = -1\n",
    "    color = value\n",
    "    rr = np.zeros((w, h))\n",
    "    rr = cv2.circle(rr, (radius, radius), radius, color, thickness) \n",
    "    rr = cv2.circle(rr, (h-radius, radius), radius, color, thickness) \n",
    "    rr = cv2.circle(rr, (radius, w-radius), radius, color, thickness) \n",
    "    rr = cv2.circle(rr, (h-radius, w-radius), radius, color, thickness) \n",
    "    rr = cv2.rectangle(rr, (0, radius), (h, w-radius), color, thickness) \n",
    "    rr = cv2.rectangle(rr, (radius, 0), (h-radius, w), color, thickness) \n",
    "    return rr"
   ]
  }
 ],
 "metadata": {
  "kernelspec": {
   "display_name": "Python 3",
   "language": "python",
   "name": "python3"
  },
  "language_info": {
   "codemirror_mode": {
    "name": "ipython",
    "version": 3
   },
   "file_extension": ".py",
   "mimetype": "text/x-python",
   "name": "python",
   "nbconvert_exporter": "python",
   "pygments_lexer": "ipython3",
   "version": "3.5.2"
  }
 },
 "nbformat": 4,
 "nbformat_minor": 4
}
