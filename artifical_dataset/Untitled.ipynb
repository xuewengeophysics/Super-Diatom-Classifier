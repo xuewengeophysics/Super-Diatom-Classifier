{
 "cells": [
  {
   "cell_type": "code",
   "execution_count": null,
   "metadata": {},
   "outputs": [],
   "source": [
    "from IPython.display import display\n",
    "with tf.io.gfile.GFile(\"/home/GTL/pfauregi/Desktop/pets_dataset/annotations/trimaps/yorkshire_terrier_97.png\", 'rb') as fid:\n",
    "    encoded_mask_png = fid.read()\n",
    "    encoded_png_io = io.BytesIO(encoded_mask_png)\n",
    "    mask = PIL.Image.open(encoded_png_io)\n",
    "    if mask.format != 'PNG':\n",
    "        raise ValueError('Mask format not PNG')\n",
    "    mask_np = np.asarray(mask)\n",
    "nonbackground_indices_x = np.any(mask_np != 2, axis=0)\n",
    "nonbackground_indices_y = np.any(mask_np != 2, axis=1)\n",
    "nonzero_x_indices = np.where(nonbackground_indices_x)\n",
    "nonzero_y_indices = np.where(nonbackground_indices_y)\n",
    "mask_remapped = (mask_np != 2).astype(np.uint8)"
   ]
  }
 ],
 "metadata": {
  "kernelspec": {
   "display_name": "Python 3",
   "language": "python",
   "name": "python3"
  },
  "language_info": {
   "codemirror_mode": {
    "name": "ipython",
    "version": 3
   },
   "file_extension": ".py",
   "mimetype": "text/x-python",
   "name": "python",
   "nbconvert_exporter": "python",
   "pygments_lexer": "ipython3",
   "version": "3.5.2"
  }
 },
 "nbformat": 4,
 "nbformat_minor": 4
}
