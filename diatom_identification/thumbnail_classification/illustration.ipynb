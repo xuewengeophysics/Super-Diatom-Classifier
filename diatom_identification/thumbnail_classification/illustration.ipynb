{
 "cells": [
  {
   "cell_type": "code",
   "execution_count": null,
   "metadata": {},
   "outputs": [],
   "source": [
    "import cv2\n",
    "from PIL import Image\n",
    "from tensorflow.keras.preprocessing.image import ImageDataGenerator\n",
    "import numpy as np\n",
    "import tensorflow as tf\n",
    "from scipy import ndimage, misc\n",
    "from scipy.ndimage.interpolation import shift\n",
    "import os\n",
    "\n",
    "%run ./variables.ipynb\n",
    "%run ./utils.ipynb\n",
    "%run ../utils/data_utils.ipynb\n",
    "%run ../utils/image_utils.ipynb"
   ]
  },
  {
   "cell_type": "code",
   "execution_count": null,
   "metadata": {},
   "outputs": [],
   "source": [
    "ref = cv2.imread(\"/mnt/nvme-storage/pfauregi/datasets/atlas/ref_img.png\", cv2.IMREAD_GRAYSCALE)\n",
    "ref_square = convert_to_square(ref, new_size=256).astype(\"uint8\")\n",
    "display(Image.fromarray(ref))\n",
    "display(Image.fromarray(ref_square))\n",
    "cv2.imwrite(os.path.join(OUTPUT_TMP, \"to_square_1.png\"), ref)\n",
    "cv2.imwrite(os.path.join(OUTPUT_TMP, \"to_square_2.png\"), ref_square)"
   ]
  },
  {
   "cell_type": "code",
   "execution_count": null,
   "metadata": {},
   "outputs": [],
   "source": [
    "ox, oy = np.random.randint(-30,30,2)/100\n",
    "img = tf.keras.preprocessing.image.random_shift(ref_square, ox, oy, row_axis=0, col_axis=1, channel_axis=2, fill_mode='nearest')\n",
    "display(Image.fromarray(img))"
   ]
  },
  {
   "cell_type": "code",
   "execution_count": null,
   "metadata": {},
   "outputs": [],
   "source": [
    "def preproc(img):\n",
    "    # Zoom img\n",
    "    zoomed_img=cv2_clipped_zoom(img, np.random.uniform(80,120)/100)\n",
    "    # Shift img\n",
    "    ox, oy = np.random.randint(-30,30,2)/100\n",
    "    return tf.keras.preprocessing.image.random_shift(zoomed_img, ox, oy, row_axis=0, col_axis=1, channel_axis=2, fill_mode='nearest')\n",
    "\n",
    "datagen = ImageDataGenerator(rescale=1./255.,\n",
    "                         rotation_range=180, \n",
    "                         brightness_range=[0.8,1.2],\n",
    "                         horizontal_flip=True, \n",
    "                         vertical_flip=True,\n",
    "                         fill_mode='nearest',\n",
    "                         #width_shift_range=30,\n",
    "                         #height_shift_range=30,\n",
    "                         #zoom_range=(0.8,1.2),\n",
    "                         preprocessing_function=preproc,\n",
    "                         data_format=\"channels_last\")\n",
    "\n",
    "x=[]\n",
    "x.append(ref_square)\n",
    "x = np.array(x)\n",
    "flow = datagen.flow(x, batch_size=9)"
   ]
  },
  {
   "cell_type": "code",
   "execution_count": null,
   "metadata": {},
   "outputs": [],
   "source": [
    "i = 0\n",
    "stop = True\n",
    "result = []\n",
    "for batch in flow:\n",
    "    image = (batch[0,:,:,:]*255).astype('uint8')\n",
    "    #display(Image.fromarray(image))\n",
    "    result.append(image)\n",
    "    i+=1\n",
    "    if i>8:\n",
    "        break\n",
    "result = np.array(result)"
   ]
  },
  {
   "cell_type": "code",
   "execution_count": null,
   "metadata": {},
   "outputs": [],
   "source": [
    "stack01 = np.hstack((result[0,:,:,:], result[1,:,:,:], result[2,:,:,:]))\n",
    "stack02 = np.hstack((result[3,:,:,:], result[4,:,:,:], result[5,:,:,:]))\n",
    "stack03 = np.hstack((result[6,:,:,:], result[7,:,:,:], result[8,:,:,:]))\n",
    "grid = np.vstack((stack01, stack02, stack03))\n",
    "display(Image.fromarray(grid))\n"
   ]
  },
  {
   "cell_type": "code",
   "execution_count": null,
   "metadata": {},
   "outputs": [],
   "source": [
    "cv2.imwrite(os.path.join(OUTPUT_TMP, \"bonjour.png\"), grid)"
   ]
  },
  {
   "cell_type": "code",
   "execution_count": null,
   "metadata": {},
   "outputs": [],
   "source": []
  }
 ],
 "metadata": {
  "kernelspec": {
   "display_name": "Python 3",
   "language": "python",
   "name": "python3"
  },
  "language_info": {
   "codemirror_mode": {
    "name": "ipython",
    "version": 3
   },
   "file_extension": ".py",
   "mimetype": "text/x-python",
   "name": "python",
   "nbconvert_exporter": "python",
   "pygments_lexer": "ipython3",
   "version": "3.6.9"
  }
 },
 "nbformat": 4,
 "nbformat_minor": 4
}
