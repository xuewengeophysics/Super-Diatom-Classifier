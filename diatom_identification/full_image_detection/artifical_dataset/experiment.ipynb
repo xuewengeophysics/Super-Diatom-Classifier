{
 "cells": [
  {
   "cell_type": "code",
   "execution_count": null,
   "metadata": {},
   "outputs": [],
   "source": [
    "from IPython.display import clear_output\n",
    "import time\n",
    "import PIL.Image\n",
    "\n",
    "%run ./generator.ipynb"
   ]
  },
  {
   "cell_type": "code",
   "execution_count": null,
   "metadata": {},
   "outputs": [],
   "source": [
    "ref = cv2.imread(os.path.join(DATASETS_ROOT,\"atlas/ref_img.png\"), cv2.IMREAD_GRAYSCALE)\n",
    "diatom_images_train, diatom_images_val = split_img_list(list_images(DATASET_PATH, diatoms=True, ref=ref), PERCENTAGE_VAL)\n",
    "debris_images_train, debris_images_val = split_img_list(list_images(DATASET_DUST_PATH, diatoms=False, ref=ref), PERCENTAGE_VAL)"
   ]
  },
  {
   "cell_type": "code",
   "execution_count": null,
   "metadata": {},
   "outputs": [],
   "source": [
    "%run ./generator.ipynb\n",
    "start=time.time()\n",
    "np.random.seed()\n",
    "final_image, annotations = main_generator([diatom_images_train, debris_images_train],\n",
    "                                          simple_angles = False, \n",
    "                                          size_px = 1000,\n",
    "                                          verbose=False, \n",
    "                                          overlapping=0.4, \n",
    "                                          n_diatoms=[9,12],\n",
    "                                          scale_diatoms=[3.3,3],                                          \n",
    "                                          n_dust=[20,40],\n",
    "                                          scale_dust=[3,4])\n",
    "print(time.time()-start, \"s!\")\n",
    "display(Image.fromarray(final_image))"
   ]
  },
  {
   "cell_type": "code",
   "execution_count": null,
   "metadata": {},
   "outputs": [],
   "source": [
    "display(Image.fromarray(ref))\n",
    "ref2 = (1*(ref-np.median(ref))+np.median(ref)).astype(\"uint8\")\n",
    "display(Image.fromarray(ref2))"
   ]
  },
  {
   "cell_type": "code",
   "execution_count": null,
   "metadata": {},
   "outputs": [],
   "source": []
  }
 ],
 "metadata": {
  "kernelspec": {
   "display_name": "Python 3",
   "language": "python",
   "name": "python3"
  },
  "language_info": {
   "codemirror_mode": {
    "name": "ipython",
    "version": 3
   },
   "file_extension": ".py",
   "mimetype": "text/x-python",
   "name": "python",
   "nbconvert_exporter": "python",
   "pygments_lexer": "ipython3",
   "version": "3.6.9"
  }
 },
 "nbformat": 4,
 "nbformat_minor": 4
}
