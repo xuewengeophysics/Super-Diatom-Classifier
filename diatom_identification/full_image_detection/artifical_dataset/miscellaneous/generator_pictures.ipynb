{
 "cells": [
  {
   "cell_type": "code",
   "execution_count": null,
   "metadata": {},
   "outputs": [],
   "source": [
    "\n",
    "import cv2\n",
    "import imutils #pip install imutils\n",
    "import numpy as np\n",
    "import cupy as cp\n",
    "import random\n",
    "import matplotlib.pyplot as plt\n",
    "from os import listdir\n",
    "from os.path import isfile, join\n",
    "\n",
    "random.seed(19)\n",
    "\n",
    "%run ../variables.ipynb\n",
    "%run ../utils.ipynb\n",
    "%run ../generator.ipynb\n"
   ]
  },
  {
   "cell_type": "code",
   "execution_count": null,
   "metadata": {},
   "outputs": [],
   "source": [
    "def perdecomp(u):\n",
    "    ny, nx = u.shape \n",
    "    X = np.arange(nx).reshape((1,nx))\n",
    "    Y = np.arange(ny).reshape((ny,1))\n",
    "    v = np.zeros((ny,nx))\n",
    "    v[0,X] = u[0,X] - u[-1,X]\n",
    "    v[-1,X] = -v[0,X]\n",
    "    v[Y,0] = v[Y,0] + u[Y,0] - u[Y,-1]\n",
    "    v[Y,-1] = v[Y,-1] - u[Y,0] + u[Y,-1]\n",
    "    fx = np.cos(2*np.pi*X/nx)\n",
    "    fy = np.cos(2*np.pi*Y.T/ny)\n",
    "    fx[0,0] = 0.   # avoid division by 0 in the line below\n",
    "    s = np.real(np.fft.ifft2(np.fft.fft2(v)*0.5/(2.-np.repeat(fx, ny, axis = 0)-np.repeat(fy.T, nx, axis = 1))))\n",
    "    p = u-s\n",
    "    return p, s"
   ]
  },
  {
   "cell_type": "code",
   "execution_count": null,
   "metadata": {},
   "outputs": [],
   "source": [
    "DATASET_PATH = \"./data/ra\"\n",
    "images = [f for f in listdir(DATASET_PATH) if isfile(join(DATASET_PATH, f))]\n",
    "img_path = random.choice(images)\n",
    "\n",
    "img_path = join(DATASET_PATH, img_path)\n",
    "print(img_path)\n",
    "\n",
    "p,s = perdecomp(plt.imread(img_path))\n",
    "\n"
   ]
  },
  {
   "cell_type": "code",
   "execution_count": null,
   "metadata": {},
   "outputs": [],
   "source": [
    "'''\n",
    "fig, axes = plt.subplots(nrows = 1, ncols = 3, figsize = (10,5))\n",
    "axes[0].imshow(plt.imread(img_path), interpolation = 'none', cmap = 'plasma')\n",
    "axes[0].set_title('Image originale')\n",
    "axes[1].imshow(p,interpolation = 'none', cmap = 'plasma')\n",
    "axes[1].set_title('partie periodique')\n",
    "axes[2].imshow(s,interpolation = 'none', cmap = 'plasma')\n",
    "axes[2].set_title('partie smooth')\n",
    "fig.tight_layout()\n",
    "'''"
   ]
  },
  {
   "cell_type": "code",
   "execution_count": null,
   "metadata": {},
   "outputs": [],
   "source": [
    "import numpy as np\n",
    "a={}\n",
    "a[\"test\"]=[1,2,3]\n",
    "a[\"test2\"]=[2,3]"
   ]
  },
  {
   "cell_type": "code",
   "execution_count": null,
   "metadata": {},
   "outputs": [],
   "source": [
    "\n",
    "np.random.choice(a[np.random.choice(list(a.keys()))])"
   ]
  },
  {
   "cell_type": "code",
   "execution_count": null,
   "metadata": {},
   "outputs": [],
   "source": []
  },
  {
   "cell_type": "code",
   "execution_count": null,
   "metadata": {},
   "outputs": [],
   "source": []
  }
 ],
 "metadata": {
  "kernelspec": {
   "display_name": "Python 3",
   "language": "python",
   "name": "python3"
  },
  "language_info": {
   "codemirror_mode": {
    "name": "ipython",
    "version": 3
   },
   "file_extension": ".py",
   "mimetype": "text/x-python",
   "name": "python",
   "nbconvert_exporter": "python",
   "pygments_lexer": "ipython3",
   "version": "3.6.8"
  }
 },
 "nbformat": 4,
 "nbformat_minor": 4
}
