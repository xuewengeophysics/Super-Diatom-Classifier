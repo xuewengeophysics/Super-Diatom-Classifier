{
 "cells": [
  {
   "cell_type": "code",
   "execution_count": null,
   "metadata": {},
   "outputs": [],
   "source": [
    "\n",
    "import cv2\n",
    "import imutils #pip install imutils\n",
    "import numpy as np\n",
    "import cupy as cp\n",
    "import random\n",
    "import matplotlib.pyplot as plt\n",
    "from os import listdir\n",
    "from os.path import isfile, join\n",
    "from PIL import Image\n",
    "\n",
    "\n",
    "random.seed(19)\n",
    "\n",
    "%run ./variables.ipynb\n",
    "%run ./utils.ipynb\n",
    "%run ./generator.ipynb\n"
   ]
  },
  {
   "cell_type": "code",
   "execution_count": null,
   "metadata": {},
   "outputs": [],
   "source": [
    "#variables\n",
    "DATASET_PATH_1 = \"data/background_data/sample01.png\"\n",
    "DATASET_PATH_2 = \"tmp/png_img/sample01.png\"\n"
   ]
  },
  {
   "cell_type": "code",
   "execution_count": null,
   "metadata": {},
   "outputs": [],
   "source": [
    "\n",
    "image_1 = cv2.imread(DATASET_PATH_1)\n",
    "imgray_1 = cv2.imread(DATASET_PATH_1, cv2.COLOR_BGR2GRAY)\n",
    "#cv2.imshow(imgray_1)\n",
    "image_2 = cv2.imread(DATASET_PATH_2)\n",
    "imgray_2 = cv2.imread(DATASET_PATH_2, cv2.COLOR_BGR2GRAY)\n",
    "#cv2.imshow(imgray_2)\n",
    "\n",
    "hist_1, bins_1 = np.histogram(imgray_1.flatten(),256,[0,256])\n",
    "hist_2, bins_2 = np.histogram(imgray_2.flatten(),256,[0,256])\n",
    "\n",
    "\n",
    "'''w, h = imgray.shape\n",
    "r = image[:,:,0]\n",
    "g = image[:,:,1]\n",
    "b = image[:,:,2]\n",
    "hsv_img = rgb2hsv(image)\n",
    "#cv2.imshow(hsv_img[2]*255)\n",
    "#plt.hist(hsv_img[2])\n",
    "imhisto = plt.hist(imgray,range = (0, 255), bins = 255);  \n",
    "imhisto =imhisto/sum(imhisto);\n",
    "imhistocum = cumsum(imhisto); \n",
    "'''\n"
   ]
  },
  {
   "cell_type": "code",
   "execution_count": null,
   "metadata": {},
   "outputs": [],
   "source": [
    "img_index_1, img_hist_1 = hist_1.argsort(), np.sort(hist_1)\n",
    "img_index_2, img_hist_2 = hist_2.argsort(), np.sort(hist_2)\n",
    "\n",
    "img_midway_1 = []\n",
    "img_midway_2 = []\n",
    "\n",
    "img_midway_1[img_index_1] = ((img_hist_1 + img_hist_2),/2\n",
    "img_midway_2[img_index_2] = ((img_hist_1 + img_hist_2)/2"
   ]
  },
  {
   "cell_type": "code",
   "execution_count": null,
   "metadata": {},
   "outputs": [],
   "source": [
    "image = cv2.imread(DATASET_PATH)\n",
    "imgray = cv2.imread(DATASET_PATH, cv2.COLOR_BGR2GRAY)\n",
    "\n",
    "hist,bins = np.histogram(imgray.flatten(),256,[0,256])\n",
    "img_index, img_hist = hist.argsort(), np.sort(hist)\n"
   ]
  },
  {
   "cell_type": "code",
   "execution_count": null,
   "metadata": {},
   "outputs": [],
   "source": [
    "img_midway_1 = "
   ]
  },
  {
   "cell_type": "code",
   "execution_count": null,
   "metadata": {},
   "outputs": [],
   "source": [
    "u             = sum(double(imread('buenosaires3.bmp')),3)/3;\n",
    "v             = sum(double(imread('buenosaires4.bmp')),3)/3; \n",
    "[u_sort,index_u]  = sort(u(:));\n",
    "[v_sort,index_v]  = sort(v(:));\n",
    "u_midway(index_u) = (u_sort + v_sort)/2;\n",
    "v_midway(index_v) = (u_sort + v_sort)/2;\n",
    "u_midway = reshape(u_midway,size(u));\n",
    "v_midway = reshape(v_midway,size(v));"
   ]
  },
  {
   "cell_type": "code",
   "execution_count": null,
   "metadata": {},
   "outputs": [],
   "source": []
  },
  {
   "cell_type": "code",
   "execution_count": null,
   "metadata": {},
   "outputs": [],
   "source": [
    "cdf = hist.cumsum()\n",
    "cdf_normalized = cdf * hist.max()/ cdf.max()"
   ]
  },
  {
   "cell_type": "code",
   "execution_count": null,
   "metadata": {},
   "outputs": [],
   "source": [
    "plt.plot(cdf_normalized, color = 'b')\n",
    "plt.hist(imgray.flatten(),256,[0,256], color = 'r')\n",
    "plt.xlim([0,256])\n",
    "plt.legend(('cdf','histogram'), loc = 'upper left')\n",
    "plt.show()\n"
   ]
  },
  {
   "cell_type": "code",
   "execution_count": null,
   "metadata": {},
   "outputs": [],
   "source": [
    "cdf_m = np.ma.masked_equal(cdf,0)\n",
    "cdf_m = (cdf_m - cdf_m.min())*255/(cdf_m.max()-cdf_m.min())\n",
    "cdf = np.ma.filled(cdf_m,0).astype('uint8')"
   ]
  },
  {
   "cell_type": "code",
   "execution_count": null,
   "metadata": {},
   "outputs": [],
   "source": [
    "img2 = cdf[imgray]"
   ]
  },
  {
   "cell_type": "code",
   "execution_count": null,
   "metadata": {},
   "outputs": [],
   "source": [
    "def perdecomp(u):\n",
    "    ny, nx = u.shape \n",
    "    X = np.arange(nx).reshape((1,nx))\n",
    "    Y = np.arange(ny).reshape((ny,1))\n",
    "    v = np.zeros((ny,nx))\n",
    "    v[0,X] = u[0,X] - u[-1,X]\n",
    "    v[-1,X] = -v[0,X]\n",
    "    v[Y,0] = v[Y,0] + u[Y,0] - u[Y,-1]\n",
    "    v[Y,-1] = v[Y,-1] - u[Y,0] + u[Y,-1]\n",
    "    fx = np.cos(2*np.pi*X/nx)\n",
    "    fy = np.cos(2*np.pi*Y.T/ny)\n",
    "    fx[0,0] = 0.   # avoid division by 0 in the line below\n",
    "    s = np.real(np.fft.ifft2(np.fft.fft2(v)*0.5/(2.-np.repeat(fx, ny, axis = 0)-np.repeat(fy.T, nx, axis = 1))))\n",
    "    p = u-s\n",
    "    return p, s"
   ]
  },
  {
   "cell_type": "code",
   "execution_count": null,
   "metadata": {},
   "outputs": [],
   "source": [
    "DATASET_PATH = \"./data/ra\"\n",
    "images = [f for f in listdir(DATASET_PATH) if isfile(join(DATASET_PATH, f))]\n",
    "img_path = random.choice(images)\n",
    "\n",
    "img_path = join(DATASET_PATH, img_path)\n",
    "print(img_path)\n",
    "\n",
    "p,s = perdecomp(plt.imread(img_path))\n",
    "\n"
   ]
  },
  {
   "cell_type": "code",
   "execution_count": null,
   "metadata": {},
   "outputs": [],
   "source": [
    "'''\n",
    "fig, axes = plt.subplots(nrows = 1, ncols = 3, figsize = (10,5))\n",
    "axes[0].imshow(plt.imread(img_path), interpolation = 'none', cmap = 'plasma')\n",
    "axes[0].set_title('Image originale')\n",
    "axes[1].imshow(p,interpolation = 'none', cmap = 'plasma')\n",
    "axes[1].set_title('partie periodique')\n",
    "axes[2].imshow(s,interpolation = 'none', cmap = 'plasma')\n",
    "axes[2].set_title('partie smooth')\n",
    "fig.tight_layout()\n",
    "'''"
   ]
  },
  {
   "cell_type": "code",
   "execution_count": null,
   "metadata": {},
   "outputs": [],
   "source": []
  }
 ],
 "metadata": {
  "kernelspec": {
   "display_name": "Python 3",
   "language": "python",
   "name": "python3"
  },
  "language_info": {
   "codemirror_mode": {
    "name": "ipython",
    "version": 3
   },
   "file_extension": ".py",
   "mimetype": "text/x-python",
   "name": "python",
   "nbconvert_exporter": "python",
   "pygments_lexer": "ipython3",
   "version": "3.5.2"
  }
 },
 "nbformat": 4,
 "nbformat_minor": 4
}
