{
 "cells": [
  {
   "cell_type": "code",
   "execution_count": null,
   "metadata": {},
   "outputs": [],
   "source": [
    "import cv2\n",
    "import imutils\n",
    "import numpy as np\n",
    "import random\n",
    "from os import listdir\n",
    "from os.path import isfile, join\n",
    "import io\n",
    "from IPython.display import display\n",
    "from PIL import Image\n",
    "import time"
   ]
  },
  {
   "cell_type": "code",
   "execution_count": null,
   "metadata": {},
   "outputs": [],
   "source": [
    "ref = cv2.imread(\"/mnt/nvme-storage/pfauregi/datasets/atlas/ref_img.png\")\n",
    "ref = cv2.cvtColor(ref, cv2.COLOR_BGR2GRAY)\n",
    "src = cv2.imread(\"/mnt/nvme-storage/pfauregi/atlas/ra/RA_FSBH_1969.png\")\n",
    "src = cv2.cvtColor(src, cv2.COLOR_BGR2GRAY)"
   ]
  },
  {
   "cell_type": "code",
   "execution_count": null,
   "metadata": {},
   "outputs": [],
   "source": [
    "display(Image.fromarray(src))\n",
    "display(Image.fromarray(ref))"
   ]
  },
  {
   "cell_type": "code",
   "execution_count": null,
   "metadata": {},
   "outputs": [],
   "source": [
    "ref_histo, bins = np.histogram(ref.flatten(), 256, [0,256])\n",
    "src_histo, bins = np.histogram(src.flatten(), 256, [0,256])\n",
    "ref_cdf = ref_histo.cumsum()\n",
    "src_cdf = src_histo.cumsum()"
   ]
  },
  {
   "cell_type": "code",
   "execution_count": null,
   "metadata": {},
   "outputs": [],
   "source": [
    "lookup_table = np.zeros(256)\n",
    "lookup_val = 0\n",
    "for src_pixel_val in range(len(src_cdf)):\n",
    "    lookup_val\n",
    "    for ref_pixel_val in range(len(ref_cdf)):\n",
    "        if ref_cdf[ref_pixel_val] >= src_cdf[src_pixel_val]:\n",
    "            lookup_val = ref_pixel_val\n",
    "            break\n",
    "    lookup_table[src_pixel_val] = lookup_val"
   ]
  },
  {
   "cell_type": "code",
   "execution_count": null,
   "metadata": {},
   "outputs": [],
   "source": [
    "corrected_src = cv2.LUT(src, lookup_table)\n",
    "corrected_src = cv2.convertScaleAbs(corrected_src)"
   ]
  },
  {
   "cell_type": "code",
   "execution_count": null,
   "metadata": {},
   "outputs": [],
   "source": [
    "display(Image.fromarray(src))\n",
    "display(Image.fromarray(ref))\n",
    "display(Image.fromarray(corrected_src))"
   ]
  },
  {
   "cell_type": "code",
   "execution_count": null,
   "metadata": {},
   "outputs": [],
   "source": []
  }
 ],
 "metadata": {
  "kernelspec": {
   "display_name": "Python 3",
   "language": "python",
   "name": "python3"
  },
  "language_info": {
   "codemirror_mode": {
    "name": "ipython",
    "version": 3
   },
   "file_extension": ".py",
   "mimetype": "text/x-python",
   "name": "python",
   "nbconvert_exporter": "python",
   "pygments_lexer": "ipython3",
   "version": "3.6.9"
  }
 },
 "nbformat": 4,
 "nbformat_minor": 4
}
