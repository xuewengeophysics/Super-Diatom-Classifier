{
 "cells": [
  {
   "cell_type": "code",
   "execution_count": null,
   "metadata": {},
   "outputs": [],
   "source": [
    "import tensorflow as tf\n",
    "import os\n",
    "import numpy as np\n",
    "from PIL import Image\n",
    "import cv2\n",
    "from IPython.display import display\n",
    "import time\n",
    "import pickle\n",
    "from skimage.exposure import match_histograms\n",
    "\n",
    "#from object_detection.utils import label_map_util\n",
    "#from object_detection.utils import visualization_utils as vis_util\n",
    "tf.gfile = tf.io.gfile\n",
    "\n",
    "from tensorflow.keras.models import model_from_json\n",
    "\n",
    "%run ./utils/object_detection_utils.ipynb\n",
    "%run ./utils/image_utils.ipynb\n",
    "%run ./utils/data_utils.ipynb\n",
    "%run utils.ipynb\n",
    "\n",
    "#ROOT = \"/mnt/nvme-storage/pfauregi\"\n",
    "ROOT = \"/mnt/balrog/pfauregi\""
   ]
  },
  {
   "cell_type": "markdown",
   "metadata": {},
   "source": [
    "# Detection"
   ]
  },
  {
   "cell_type": "code",
   "execution_count": null,
   "metadata": {},
   "outputs": [],
   "source": [
    "detection_model_path = os.path.join(ROOT,\"training/obj_detection/ws_bd/models/model/export/saved_model/\")\n",
    "labels_path = os.path.join(ROOT,\"artificial_datasets/dataset01_tfr/binary_label_map.pbtxt\")"
   ]
  },
  {
   "cell_type": "code",
   "execution_count": null,
   "metadata": {},
   "outputs": [],
   "source": [
    "def run_detection(model_path, sample):\n",
    "    start = time.time()\n",
    "    model = tf.saved_model.load(model_path)\n",
    "    model = model.signatures['serving_default']\n",
    "    detection_results = run_inference_for_single_image(model, sample)\n",
    "    print(\"Detection processed in\", time.time()-start, \"s!\")\n",
    "    return detection_results\n",
    "\n",
    "def get_thumbails_batch(sample, detection, score_thresold=0.5, verbose=False, ref_img=None):\n",
    "    thumbails = {}\n",
    "    thumbails[\"batch\"] = []\n",
    "    thumbails[\"bounding_box\"] = []\n",
    "    thumbails[\"score\"] = []\n",
    "    image_detections = sample.copy()\n",
    "    height, width, channels = image_detections.shape\n",
    "    for box, score in zip(detection['detection_boxes'], detection['detection_scores']):\n",
    "        if score>score_thresold:\n",
    "            ymin, xmin, ymax, xmax = int(box[0]*height), int(box[1]*width), int(box[2]*height), int(box[3]*width)\n",
    "            if verbose: image_detections = cv2.rectangle(image_detections, (xmin, ymin), (xmax, ymax), (255, 0, 0), 4)\n",
    "            thumbail = sample[ymin:ymax, xmin:xmax, 0]\n",
    "            if not ref_img is None: thumbail = match_histograms(thumbail, ref_img, multichannel=False).astype(\"uint8\")\n",
    "            thumbail = convert_to_square(thumbail, new_size=256)\n",
    "            thumbail = np.repeat(thumbail[:, :, np.newaxis], 3, axis=2)\n",
    "            thumbails[\"batch\"].append(thumbail)\n",
    "            thumbails[\"bounding_box\"].append([ymin, xmin, ymax, xmax])\n",
    "            thumbails[\"score\"].append(score)\n",
    "    thumbails[\"batch\"] = np.array(thumbails[\"batch\"]).astype('float32')/255\n",
    "    if verbose: \n",
    "        display(Image.fromarray(image_detections).resize((int(0.2*width), int(0.2*height))))\n",
    "        display(Image.fromarray((thumbails[\"batch\"][2]*255).astype('uint8')))\n",
    "        thumbails[\"batch\"][1].shape[0]\n",
    "    return thumbails"
   ]
  },
  {
   "cell_type": "markdown",
   "metadata": {},
   "source": [
    "# Classification"
   ]
  },
  {
   "cell_type": "code",
   "execution_count": null,
   "metadata": {},
   "outputs": [],
   "source": [
    "#class_root = os.path.join(ROOT,\"training/thumbails/saved_models/normalized_model\")\n",
    "class_root = os.path.join(ROOT,\"training/thumbails/saved_models/unnorm_model\")\n",
    "class_model_path = os.path.join(class_root, \"model.json\")\n",
    "class_model_weights_path = os.path.join(class_root, \"model.h5\")\n",
    "id_map_inv = get_selected_taxons(os.path.join(class_root, \"model_id_map.csv\"), inv=True)\n",
    "ref_img = cv2.imread(os.path.join(class_root, \"ref_img.png\"), cv2.IMREAD_GRAYSCALE)"
   ]
  },
  {
   "cell_type": "code",
   "execution_count": null,
   "metadata": {},
   "outputs": [],
   "source": [
    "def run_classification(class_model_path, class_model_weights, thumbails_batch):\n",
    "    json_file = open(class_model_path, 'r')\n",
    "    loaded_model_json = json_file.read()\n",
    "    json_file.close()\n",
    "    loaded_model = model_from_json(loaded_model_json)\n",
    "    # load weights into new model\n",
    "    loaded_model.load_weights(class_model_weights)\n",
    "    loaded_model.compile(loss='categorical_crossentropy', optimizer='rmsprop', metrics=['accuracy'])\n",
    "    out = loaded_model.predict(thumbails_batch, batch_size=thumbails_batch.shape[0], use_multiprocessing=True)\n",
    "    return out\n",
    "\n",
    "def draw_classif(sample, thumbails, inv_id_map, class_score_thresold=0.4, image_scale = 0.4, text_scale = 1):\n",
    "    image_detections = sample.copy()\n",
    "    for bb, label, score in zip(thumbails[\"bounding_box\"], thumbails[\"labels\"], thumbails[\"score\"]):\n",
    "        if np.max(label)>=0.5:\n",
    "            if np.max(label) < class_score_thresold:\n",
    "                label_text = \"not sure\"\n",
    "            else:\n",
    "                label_text = inv_id_map[np.argmax(label)]\n",
    "\n",
    "            color = (255, 0, 0)\n",
    "            font = cv2.FONT_HERSHEY_SIMPLEX\n",
    "            ymin, xmin, ymax, xmax = bb\n",
    "            cv2.rectangle(image_detections, (xmin, ymin), (xmax, ymax), color, 4)\n",
    "            cv2.putText(image_detections,  label_text, (xmin, ymin+int(text_scale*80)), font, text_scale*3, color, 4, cv2.LINE_AA) \n",
    "            cv2.putText(image_detections,  \"Detect: \"+str(score), (xmin+5, ymin+int(text_scale*120)), font, text_scale*1, color, 1, cv2.LINE_AA) \n",
    "            cv2.putText(image_detections,  \"Classif: \"+str(np.max(label)), (xmin+5, ymin+int(text_scale*160)), font, text_scale*1, color, 1, cv2.LINE_AA) \n",
    "    height, width, channels = image_detections.shape\n",
    "    display(Image.fromarray(image_detections).resize((int(image_scale*width), int(image_scale*height))))\n",
    "    return image_detections"
   ]
  },
  {
   "cell_type": "markdown",
   "metadata": {},
   "source": [
    "# Full pipeline"
   ]
  },
  {
   "cell_type": "code",
   "execution_count": null,
   "metadata": {},
   "outputs": [],
   "source": [
    "path = os.path.join(ROOT,\"datasets/micro_samples/\")\n",
    "#path = \"/mnt/nvme-storage/pfauregi/artificial_datasets/dataset03/images\"\n",
    "onlyfiles = [f for f in os.listdir(path) if os.path.isfile(os.path.join(path, f))]\n",
    "img_path = os.path.join(ROOT,\"artificial_datasets/dataset03/images/00040.png\")"
   ]
  },
  {
   "cell_type": "code",
   "execution_count": null,
   "metadata": {},
   "outputs": [],
   "source": [
    "print(onlyfiles)\n",
    "print(img_path)"
   ]
  },
  {
   "cell_type": "code",
   "execution_count": null,
   "metadata": {},
   "outputs": [],
   "source": [
    "#sample = load_image(os.path.join(path, onlyfiles[3]), expand = False)\n",
    "sample = load_image(img_path, expand = False)\n",
    "print(sample.ndim)\n",
    "print(sample.dtype)\n",
    "sample = expand(sample)\n",
    "#display(Image.fromarray(sample))\n",
    "# Detection\n",
    "detection_results = run_detection(detection_model_path, sample)\n",
    "thumbails = get_thumbails_batch(sample, detection_results, score_thresold=0.99, verbose=False, ref_img=None)\n",
    "\n",
    "# Classification\n",
    "thumbails[\"labels\"] = run_classification(class_model_path, class_model_weights_path, thumbails[\"batch\"])\n",
    "final_image = draw_classif(sample, thumbails, id_map_inv, image_scale=0.8, text_scale=0.5, class_score_thresold=0.8)"
   ]
  },
  {
   "cell_type": "code",
   "execution_count": null,
   "metadata": {},
   "outputs": [],
   "source": [
    "cv2.imwrite(\"./test.png\", final_image)"
   ]
  },
  {
   "cell_type": "code",
   "execution_count": null,
   "metadata": {},
   "outputs": [],
   "source": [
    "os.path.join(ROOT, \"tmp/\", (str(i)+\".png\"))"
   ]
  },
  {
   "cell_type": "code",
   "execution_count": null,
   "metadata": {},
   "outputs": [],
   "source": [
    "for i, thumbail in enumerate(thumbails[\"batch\"]):\n",
    "    np_img = (thumbail*255).astype('uint8')\n",
    "    save_path = os.path.join(ROOT, \"tmp/\", (str(i)+\".png\"))\n",
    "    cv2.imwrite(save_path, np_img)\n",
    "    print(\"Saved in:\", save_path)"
   ]
  },
  {
   "cell_type": "code",
   "execution_count": null,
   "metadata": {},
   "outputs": [],
   "source": [
    "annot = pickle.load( open( os.path.join(ROOT,\"artificial_datasets/dataset03/annotations/bb_00040.pickle\"), \"rb\" ) )\n",
    "img_path = os.path.join(ROOT,\"artificial_datasets/dataset03/\",annot['img_path'])\n",
    "sample = load_image(img_path, expand = False)\n",
    "print(sample.ndim)\n",
    "print(sample.dtype)\n",
    "sample = expand(sample)\n",
    "\n",
    "for annotation in annot[\"labels\"]:\n",
    "    color = (255, 0, 0)\n",
    "    font = cv2.FONT_HERSHEY_SIMPLEX\n",
    "    ymin, xmin, ymax, xmax = annotation[\"xmin\"], annotation[\"ymin\"], annotation[\"xmax\"], annotation[\"ymax\"]\n",
    "    label_text = annotation[\"taxon\"]\n",
    "    cv2.rectangle(sample, (xmin, ymin), (xmax, ymax), color, 4)\n",
    "    cv2.putText(sample,  label_text, (xmin+10, ymin+30), font, 1, color, 2, cv2.LINE_AA)\n",
    "\n",
    "display(Image.fromarray(sample))"
   ]
  },
  {
   "cell_type": "code",
   "execution_count": null,
   "metadata": {},
   "outputs": [],
   "source": []
  }
 ],
 "metadata": {
  "kernelspec": {
   "display_name": "Python 3",
   "language": "python",
   "name": "python3"
  },
  "language_info": {
   "codemirror_mode": {
    "name": "ipython",
    "version": 3
   },
   "file_extension": ".py",
   "mimetype": "text/x-python",
   "name": "python",
   "nbconvert_exporter": "python",
   "pygments_lexer": "ipython3",
   "version": "3.6.8"
  }
 },
 "nbformat": 4,
 "nbformat_minor": 4
}
